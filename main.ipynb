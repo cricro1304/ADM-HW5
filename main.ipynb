{
 "cells": [
  {
   "cell_type": "markdown",
   "metadata": {},
   "source": [
    "## ADM Assignment 5 \n",
    "### Network Scholar: Graph-Based Analysis and Visualization of Academic Collaborations"
   ]
  },
  {
   "cell_type": "markdown",
   "metadata": {},
   "source": [
    "### Libraries \n"
   ]
  },
  {
   "cell_type": "code",
   "execution_count": 82,
   "metadata": {},
   "outputs": [
    {
     "name": "stderr",
     "output_type": "stream",
     "text": [
      "[nltk_data] Downloading package stopwords to\n",
      "[nltk_data]     C:\\Users\\hazem\\AppData\\Roaming\\nltk_data...\n",
      "[nltk_data]   Package stopwords is already up-to-date!\n",
      "[nltk_data] Downloading package punkt to\n",
      "[nltk_data]     C:\\Users\\hazem\\AppData\\Roaming\\nltk_data...\n",
      "[nltk_data]   Package punkt is already up-to-date!\n"
     ]
    },
    {
     "data": {
      "text/plain": [
       "True"
      ]
     },
     "execution_count": 82,
     "metadata": {},
     "output_type": "execute_result"
    }
   ],
   "source": [
    "import pandas as pd\n",
    "import numpy as np\n",
    "import ijson\n",
    "import time\n",
    "import networkx as nx\n",
    "from prettytable import PrettyTable\n",
    "import matplotlib.pyplot as plt\n",
    "import math\n",
    "import seaborn as sns\n",
    "from nltk.stem import *\n",
    "import nltk\n",
    "from nltk.corpus import stopwords\n",
    "import random\n",
    "nltk.download('stopwords')\n",
    "nltk.download('punkt')"
   ]
  },
  {
   "cell_type": "markdown",
   "metadata": {},
   "source": [
    "### A script to convert the data from JSON to a PD dataframe \n",
    "##### Reference: https://www.kaggle.com/code/devintheai/citation-network-eda"
   ]
  },
  {
   "cell_type": "code",
   "execution_count": 19,
   "metadata": {},
   "outputs": [
    {
     "name": "stdout",
     "output_type": "stream",
     "text": [
      "0:0.0s 48000:2.09s 96000:4.16s 144000:5.89s 192000:7.84s 240000:9.44s 288000:11.86s 336000:14.5s 384000:17.28s 432000:20.17s 480000:22.84s 528000:25.45s 576000:28.28s 624000:30.64s 672000:33.3s 720000:36.08s 768000:38.66s 816000:41.33s 864000:44.41s 912000:46.8s 960000:49.05s 1008000:51.69s 1056000:54.25s 1104000:56.81s 1152000:59.5s 1200000:62.64s 1248000:65.91s 1296000:68.48s 1344000:71.47s 1392000:74.38s 1440000:77.31s 1488000:80.56s 1536000:83.39s 1584000:86.45s 1632000:89.52s 1680000:92.36s 1728000:95.06s 1776000:98.23s 1824000:100.75s 1872000:103.48s 1920000:106.33s 1968000:109.38s 2016000:112.3s 2064000:115.48s 2112000:118.41s 2160000:121.86s 2208000:125.41s 2256000:129.03s 2304000:132.39s 2352000:136.17s 2400000:139.7s 2448000:143.22s 2496000:146.95s 2544000:150.55s 2592000:154.06s 2640000:157.98s 2688000:161.62s 2736000:165.09s 2784000:168.62s 2832000:172.39s 2880000:176.22s 2928000:180.03s 2976000:183.92s 3024000:187.5s 3072000:190.84s 3120000:194.27s 3168000:196.94s 3216000:199.47s 3264000:203.14s 3312000:206.72s 3360000:210.44s 3408000:213.94s 3456000:216.95s 3504000:220.59s 3552000:224.17s 3600000:227.44s 3648000:230.92s 3696000:234.61s 3744000:238.59s 3792000:242.02s 3840000:245.95s 3888000:249.81s 3936000:253.7s 3984000:257.2s 4032000:261.09s 4080000:264.88s 4128000:268.52s 4176000:272.08s 4224000:275.31s 4272000:278.59s 4320000:282.14s 4368000:285.8s 4416000:289.08s 4464000:291.47s 4512000:293.8s 4560000:295.75s 4608000:299.25s 4656000:302.95s 4704000:306.33s 4752000:309.88s 4800000:312.95s 4848000:316.31s "
     ]
    }
   ],
   "source": [
    "papers = []\n",
    "\n",
    "start = time.process_time()\n",
    "\n",
    "with open('citation.json', \"rb\") as f:\n",
    "    for i, element in enumerate(ijson.items(f, \"item\")):\n",
    "        paper = {}\n",
    "        paper['id'] = element['id']\n",
    "        paper['title'] = element['title']\n",
    "\n",
    "        author = element.get('authors')\n",
    "        if author:\n",
    "            Author = element['authors']\n",
    "            author_name = []\n",
    "            author_id = []\n",
    "\n",
    "            for j in Author:\n",
    "                if 'name' in j and 'id' in j :\n",
    "                    author_name.append(str(j['name']))  \n",
    "                    author_id.append(str(j['id']))\n",
    "                else:\n",
    "                    author_name.append(str(np.nan))  \n",
    "                    author_id.append(str(np.nan))\n",
    "\n",
    "            paper['author_name'] = ';'.join(author_name)\n",
    "            paper['author_id'] = ';'.join(author_id)\n",
    "        \n",
    "        year = element.get('year')\n",
    "        if year:\n",
    "            paper['year']= year\n",
    "        else:\n",
    "            paper['year']= np.nan\n",
    "        \n",
    "        n_citation= element.get('n_citation')\n",
    "        if n_citation:\n",
    "             paper['n_citation']= element['n_citation']\n",
    "        else:\n",
    "            paper['n_citation']= 0\n",
    "        \n",
    "        doc_type= element.get('doc_type') \n",
    "        if doc_type:\n",
    "            paper['doc_type']= element['doc_type']\n",
    "        else:\n",
    "            paper['doc_type']= np.nan   \n",
    "\n",
    "        references= element.get('references')\n",
    "        if references:\n",
    "            paper['reference_count']= len(references)\n",
    "            # joining all refs id in a `;` seperated string  \n",
    "            paper['references']= ';'.join([str(int(r)) for r in references])\n",
    "        else:\n",
    "            paper['reference_count']= np.nan \n",
    "            paper['references']= np.nan\n",
    "        \n",
    "        doi = element.get('doi')\n",
    "        if doi:\n",
    "            paper['doi']= f\"https://doi.org/{element['doi']}\"\n",
    "        else:\n",
    "            paper['doi']= np.nan               \n",
    "        \n",
    "        \n",
    "        papers.append(paper)\n",
    "        \n",
    "        if i%48000 == 0:\n",
    "            print(f\"{i}:{round((time.process_time() - start),2)}s \",end=\"\")\n"
   ]
  },
  {
   "cell_type": "markdown",
   "metadata": {},
   "source": [
    "- - - \n",
    "### 1. Data pre-processing"
   ]
  },
  {
   "cell_type": "code",
   "execution_count": null,
   "metadata": {},
   "outputs": [],
   "source": [
    "df = pd.DataFrame(papers)\n",
    "df.head()"
   ]
  },
  {
   "cell_type": "code",
   "execution_count": 22,
   "metadata": {},
   "outputs": [
    {
     "name": "stdout",
     "output_type": "stream",
     "text": [
      "There are 4894081 papers in the dataset\n"
     ]
    }
   ],
   "source": [
    "print('There are', len(df),'papers in the dataset')"
   ]
  },
  {
   "cell_type": "markdown",
   "metadata": {},
   "source": [
    "#### Filtering the data to find the top 10000 papers"
   ]
  },
  {
   "cell_type": "code",
   "execution_count": 23,
   "metadata": {},
   "outputs": [
    {
     "data": {
      "text/html": [
       "<div>\n",
       "<style scoped>\n",
       "    .dataframe tbody tr th:only-of-type {\n",
       "        vertical-align: middle;\n",
       "    }\n",
       "\n",
       "    .dataframe tbody tr th {\n",
       "        vertical-align: top;\n",
       "    }\n",
       "\n",
       "    .dataframe thead th {\n",
       "        text-align: right;\n",
       "    }\n",
       "</style>\n",
       "<table border=\"1\" class=\"dataframe\">\n",
       "  <thead>\n",
       "    <tr style=\"text-align: right;\">\n",
       "      <th></th>\n",
       "      <th>id</th>\n",
       "      <th>title</th>\n",
       "      <th>author_name</th>\n",
       "      <th>author_id</th>\n",
       "      <th>year</th>\n",
       "      <th>n_citation</th>\n",
       "      <th>doc_type</th>\n",
       "      <th>reference_count</th>\n",
       "      <th>references</th>\n",
       "      <th>doi</th>\n",
       "    </tr>\n",
       "  </thead>\n",
       "  <tbody>\n",
       "    <tr>\n",
       "      <th>4696136</th>\n",
       "      <td>2041404167</td>\n",
       "      <td>The Mathematical Theory of Communication</td>\n",
       "      <td>C. E. Shannon</td>\n",
       "      <td>2247248564</td>\n",
       "      <td>1949.0</td>\n",
       "      <td>48327</td>\n",
       "      <td>Book</td>\n",
       "      <td>NaN</td>\n",
       "      <td>NaN</td>\n",
       "      <td>NaN</td>\n",
       "    </tr>\n",
       "    <tr>\n",
       "      <th>4630907</th>\n",
       "      <td>1639032689</td>\n",
       "      <td>Genetic algorithms in search, optimization, an...</td>\n",
       "      <td>David E. Goldberg</td>\n",
       "      <td>2102678951</td>\n",
       "      <td>1989.0</td>\n",
       "      <td>44175</td>\n",
       "      <td>Book</td>\n",
       "      <td>NaN</td>\n",
       "      <td>NaN</td>\n",
       "      <td>NaN</td>\n",
       "    </tr>\n",
       "    <tr>\n",
       "      <th>4092588</th>\n",
       "      <td>2912565176</td>\n",
       "      <td>Fuzzy sets</td>\n",
       "      <td>Lotfi A. Zadeh</td>\n",
       "      <td>2252586558</td>\n",
       "      <td>1996.0</td>\n",
       "      <td>42437</td>\n",
       "      <td>NaN</td>\n",
       "      <td>NaN</td>\n",
       "      <td>NaN</td>\n",
       "      <td>NaN</td>\n",
       "    </tr>\n",
       "    <tr>\n",
       "      <th>2937610</th>\n",
       "      <td>2151103935</td>\n",
       "      <td>Distinctive Image Features from Scale-Invarian...</td>\n",
       "      <td>David G. Lowe</td>\n",
       "      <td>2104328312</td>\n",
       "      <td>2004.0</td>\n",
       "      <td>35541</td>\n",
       "      <td>Journal</td>\n",
       "      <td>33.0</td>\n",
       "      <td>19720318;1541642243;1560959218;1676552347;1681...</td>\n",
       "      <td>https://doi.org/10.1023/B:VISI.0000029664.9961...</td>\n",
       "    </tr>\n",
       "    <tr>\n",
       "      <th>4088311</th>\n",
       "      <td>2911964244</td>\n",
       "      <td>Random Forests</td>\n",
       "      <td>Leo Breiman</td>\n",
       "      <td>2569376642</td>\n",
       "      <td>2001.0</td>\n",
       "      <td>34741</td>\n",
       "      <td>NaN</td>\n",
       "      <td>11.0</td>\n",
       "      <td>1507255258;1580948147;1605688901;1975846642;20...</td>\n",
       "      <td>https://doi.org/10.1023/A:1010933404324</td>\n",
       "    </tr>\n",
       "  </tbody>\n",
       "</table>\n",
       "</div>"
      ],
      "text/plain": [
       "                 id                                              title  \\\n",
       "4696136  2041404167           The Mathematical Theory of Communication   \n",
       "4630907  1639032689  Genetic algorithms in search, optimization, an...   \n",
       "4092588  2912565176                                         Fuzzy sets   \n",
       "2937610  2151103935  Distinctive Image Features from Scale-Invarian...   \n",
       "4088311  2911964244                                     Random Forests   \n",
       "\n",
       "               author_name   author_id    year  n_citation doc_type  \\\n",
       "4696136      C. E. Shannon  2247248564  1949.0       48327     Book   \n",
       "4630907  David E. Goldberg  2102678951  1989.0       44175     Book   \n",
       "4092588     Lotfi A. Zadeh  2252586558  1996.0       42437      NaN   \n",
       "2937610      David G. Lowe  2104328312  2004.0       35541  Journal   \n",
       "4088311        Leo Breiman  2569376642  2001.0       34741      NaN   \n",
       "\n",
       "         reference_count                                         references  \\\n",
       "4696136              NaN                                                NaN   \n",
       "4630907              NaN                                                NaN   \n",
       "4092588              NaN                                                NaN   \n",
       "2937610             33.0  19720318;1541642243;1560959218;1676552347;1681...   \n",
       "4088311             11.0  1507255258;1580948147;1605688901;1975846642;20...   \n",
       "\n",
       "                                                       doi  \n",
       "4696136                                                NaN  \n",
       "4630907                                                NaN  \n",
       "4092588                                                NaN  \n",
       "2937610  https://doi.org/10.1023/B:VISI.0000029664.9961...  \n",
       "4088311            https://doi.org/10.1023/A:1010933404324  "
      ]
     },
     "execution_count": 23,
     "metadata": {},
     "output_type": "execute_result"
    }
   ],
   "source": [
    "df = df.sort_values(by='n_citation', ascending=False)\n",
    "df = df.head(10000).copy()\n",
    "df.head()"
   ]
  },
  {
   "cell_type": "code",
   "execution_count": 24,
   "metadata": {},
   "outputs": [
    {
     "data": {
      "text/html": [
       "<div>\n",
       "<style scoped>\n",
       "    .dataframe tbody tr th:only-of-type {\n",
       "        vertical-align: middle;\n",
       "    }\n",
       "\n",
       "    .dataframe tbody tr th {\n",
       "        vertical-align: top;\n",
       "    }\n",
       "\n",
       "    .dataframe thead th {\n",
       "        text-align: right;\n",
       "    }\n",
       "</style>\n",
       "<table border=\"1\" class=\"dataframe\">\n",
       "  <thead>\n",
       "    <tr style=\"text-align: right;\">\n",
       "      <th></th>\n",
       "      <th>id</th>\n",
       "      <th>year</th>\n",
       "      <th>n_citation</th>\n",
       "      <th>reference_count</th>\n",
       "    </tr>\n",
       "  </thead>\n",
       "  <tbody>\n",
       "    <tr>\n",
       "      <th>count</th>\n",
       "      <td>1.000000e+04</td>\n",
       "      <td>10000.000000</td>\n",
       "      <td>10000.000000</td>\n",
       "      <td>8795.000000</td>\n",
       "    </tr>\n",
       "    <tr>\n",
       "      <th>mean</th>\n",
       "      <td>2.039274e+09</td>\n",
       "      <td>2000.128000</td>\n",
       "      <td>1451.995800</td>\n",
       "      <td>21.359068</td>\n",
       "    </tr>\n",
       "    <tr>\n",
       "      <th>std</th>\n",
       "      <td>3.103127e+08</td>\n",
       "      <td>10.066367</td>\n",
       "      <td>1954.416052</td>\n",
       "      <td>32.146003</td>\n",
       "    </tr>\n",
       "    <tr>\n",
       "      <th>min</th>\n",
       "      <td>8.528740e+05</td>\n",
       "      <td>1899.000000</td>\n",
       "      <td>596.000000</td>\n",
       "      <td>1.000000</td>\n",
       "    </tr>\n",
       "    <tr>\n",
       "      <th>25%</th>\n",
       "      <td>2.013153e+09</td>\n",
       "      <td>1996.000000</td>\n",
       "      <td>716.000000</td>\n",
       "      <td>7.000000</td>\n",
       "    </tr>\n",
       "    <tr>\n",
       "      <th>50%</th>\n",
       "      <td>2.106909e+09</td>\n",
       "      <td>2002.000000</td>\n",
       "      <td>924.000000</td>\n",
       "      <td>14.000000</td>\n",
       "    </tr>\n",
       "    <tr>\n",
       "      <th>75%</th>\n",
       "      <td>2.144150e+09</td>\n",
       "      <td>2007.000000</td>\n",
       "      <td>1421.000000</td>\n",
       "      <td>25.000000</td>\n",
       "    </tr>\n",
       "    <tr>\n",
       "      <th>max</th>\n",
       "      <td>3.003663e+09</td>\n",
       "      <td>2019.000000</td>\n",
       "      <td>48327.000000</td>\n",
       "      <td>1287.000000</td>\n",
       "    </tr>\n",
       "  </tbody>\n",
       "</table>\n",
       "</div>"
      ],
      "text/plain": [
       "                 id          year    n_citation  reference_count\n",
       "count  1.000000e+04  10000.000000  10000.000000      8795.000000\n",
       "mean   2.039274e+09   2000.128000   1451.995800        21.359068\n",
       "std    3.103127e+08     10.066367   1954.416052        32.146003\n",
       "min    8.528740e+05   1899.000000    596.000000         1.000000\n",
       "25%    2.013153e+09   1996.000000    716.000000         7.000000\n",
       "50%    2.106909e+09   2002.000000    924.000000        14.000000\n",
       "75%    2.144150e+09   2007.000000   1421.000000        25.000000\n",
       "max    3.003663e+09   2019.000000  48327.000000      1287.000000"
      ]
     },
     "execution_count": 24,
     "metadata": {},
     "output_type": "execute_result"
    }
   ],
   "source": [
    "df.describe()"
   ]
  },
  {
   "cell_type": "code",
   "execution_count": 25,
   "metadata": {},
   "outputs": [
    {
     "name": "stdout",
     "output_type": "stream",
     "text": [
      "<class 'pandas.core.frame.DataFrame'>\n",
      "Index: 10000 entries, 4696136 to 2109151\n",
      "Data columns (total 10 columns):\n",
      " #   Column           Non-Null Count  Dtype  \n",
      "---  ------           --------------  -----  \n",
      " 0   id               10000 non-null  int64  \n",
      " 1   title            10000 non-null  object \n",
      " 2   author_name      10000 non-null  object \n",
      " 3   author_id        10000 non-null  object \n",
      " 4   year             10000 non-null  float64\n",
      " 5   n_citation       10000 non-null  int64  \n",
      " 6   doc_type         9650 non-null   object \n",
      " 7   reference_count  8795 non-null   float64\n",
      " 8   references       8795 non-null   object \n",
      " 9   doi              8451 non-null   object \n",
      "dtypes: float64(2), int64(2), object(6)\n",
      "memory usage: 859.4+ KB\n"
     ]
    }
   ],
   "source": [
    "df.info()"
   ]
  },
  {
   "cell_type": "code",
   "execution_count": 26,
   "metadata": {},
   "outputs": [],
   "source": [
    "# convert the year, n_citation, and reference_count columns to int\n",
    "df['year'] = df['year'].astype('Int64')\n",
    "df['n_citation'] = df['n_citation'].astype('Int64')\n",
    "df['reference_count'] = df['reference_count'].astype('Int64')"
   ]
  },
  {
   "cell_type": "code",
   "execution_count": 247,
   "metadata": {},
   "outputs": [],
   "source": [
    "# saving the dataframe to a csv file\n",
    "df.to_csv('citation.csv', index=False)\n"
   ]
  },
  {
   "cell_type": "code",
   "execution_count": 183,
   "metadata": {},
   "outputs": [
    {
     "data": {
      "text/html": [
       "<div>\n",
       "<style scoped>\n",
       "    .dataframe tbody tr th:only-of-type {\n",
       "        vertical-align: middle;\n",
       "    }\n",
       "\n",
       "    .dataframe tbody tr th {\n",
       "        vertical-align: top;\n",
       "    }\n",
       "\n",
       "    .dataframe thead th {\n",
       "        text-align: right;\n",
       "    }\n",
       "</style>\n",
       "<table border=\"1\" class=\"dataframe\">\n",
       "  <thead>\n",
       "    <tr style=\"text-align: right;\">\n",
       "      <th></th>\n",
       "      <th>id</th>\n",
       "      <th>title</th>\n",
       "      <th>author_name</th>\n",
       "      <th>author_id</th>\n",
       "      <th>year</th>\n",
       "      <th>n_citation</th>\n",
       "      <th>doc_type</th>\n",
       "      <th>reference_count</th>\n",
       "      <th>references</th>\n",
       "      <th>doi</th>\n",
       "    </tr>\n",
       "  </thead>\n",
       "  <tbody>\n",
       "    <tr>\n",
       "      <th>0</th>\n",
       "      <td>2041404167</td>\n",
       "      <td>The Mathematical Theory of Communication</td>\n",
       "      <td>C. E. Shannon</td>\n",
       "      <td>2247248564</td>\n",
       "      <td>1949</td>\n",
       "      <td>48327</td>\n",
       "      <td>Book</td>\n",
       "      <td>NaN</td>\n",
       "      <td>NaN</td>\n",
       "      <td>NaN</td>\n",
       "    </tr>\n",
       "    <tr>\n",
       "      <th>1</th>\n",
       "      <td>1639032689</td>\n",
       "      <td>Genetic algorithms in search, optimization, an...</td>\n",
       "      <td>David E. Goldberg</td>\n",
       "      <td>2102678951</td>\n",
       "      <td>1989</td>\n",
       "      <td>44175</td>\n",
       "      <td>Book</td>\n",
       "      <td>NaN</td>\n",
       "      <td>NaN</td>\n",
       "      <td>NaN</td>\n",
       "    </tr>\n",
       "    <tr>\n",
       "      <th>2</th>\n",
       "      <td>2912565176</td>\n",
       "      <td>Fuzzy sets</td>\n",
       "      <td>Lotfi A. Zadeh</td>\n",
       "      <td>2252586558</td>\n",
       "      <td>1996</td>\n",
       "      <td>42437</td>\n",
       "      <td>NaN</td>\n",
       "      <td>NaN</td>\n",
       "      <td>NaN</td>\n",
       "      <td>NaN</td>\n",
       "    </tr>\n",
       "    <tr>\n",
       "      <th>3</th>\n",
       "      <td>2151103935</td>\n",
       "      <td>Distinctive Image Features from Scale-Invarian...</td>\n",
       "      <td>David G. Lowe</td>\n",
       "      <td>2104328312</td>\n",
       "      <td>2004</td>\n",
       "      <td>35541</td>\n",
       "      <td>Journal</td>\n",
       "      <td>33.0</td>\n",
       "      <td>19720318;1541642243;1560959218;1676552347;1681...</td>\n",
       "      <td>https://doi.org/10.1023/B:VISI.0000029664.9961...</td>\n",
       "    </tr>\n",
       "    <tr>\n",
       "      <th>4</th>\n",
       "      <td>2911964244</td>\n",
       "      <td>Random Forests</td>\n",
       "      <td>Leo Breiman</td>\n",
       "      <td>2569376642</td>\n",
       "      <td>2001</td>\n",
       "      <td>34741</td>\n",
       "      <td>NaN</td>\n",
       "      <td>11.0</td>\n",
       "      <td>1507255258;1580948147;1605688901;1975846642;20...</td>\n",
       "      <td>https://doi.org/10.1023/A:1010933404324</td>\n",
       "    </tr>\n",
       "    <tr>\n",
       "      <th>5</th>\n",
       "      <td>1973948212</td>\n",
       "      <td>Applied Logistic Regression</td>\n",
       "      <td>David W. Hosmer;Stanley Lemeshow</td>\n",
       "      <td>2102544963;1990110535</td>\n",
       "      <td>1989</td>\n",
       "      <td>32053</td>\n",
       "      <td>Book</td>\n",
       "      <td>NaN</td>\n",
       "      <td>NaN</td>\n",
       "      <td>NaN</td>\n",
       "    </tr>\n",
       "    <tr>\n",
       "      <th>6</th>\n",
       "      <td>2153635508</td>\n",
       "      <td>LIBSVM: A library for support vector machines</td>\n",
       "      <td>Chih-Chung Chang;Chih-Jen Lin</td>\n",
       "      <td>2895256545;2168176072</td>\n",
       "      <td>2011</td>\n",
       "      <td>31047</td>\n",
       "      <td>Journal</td>\n",
       "      <td>34.0</td>\n",
       "      <td>1510526001;1543810117;1556115774;1568793342;16...</td>\n",
       "      <td>https://doi.org/10.1145/1961189.1961199</td>\n",
       "    </tr>\n",
       "  </tbody>\n",
       "</table>\n",
       "</div>"
      ],
      "text/plain": [
       "           id                                              title  \\\n",
       "0  2041404167           The Mathematical Theory of Communication   \n",
       "1  1639032689  Genetic algorithms in search, optimization, an...   \n",
       "2  2912565176                                         Fuzzy sets   \n",
       "3  2151103935  Distinctive Image Features from Scale-Invarian...   \n",
       "4  2911964244                                     Random Forests   \n",
       "5  1973948212                        Applied Logistic Regression   \n",
       "6  2153635508      LIBSVM: A library for support vector machines   \n",
       "\n",
       "                        author_name              author_id  year  n_citation  \\\n",
       "0                     C. E. Shannon             2247248564  1949       48327   \n",
       "1                 David E. Goldberg             2102678951  1989       44175   \n",
       "2                    Lotfi A. Zadeh             2252586558  1996       42437   \n",
       "3                     David G. Lowe             2104328312  2004       35541   \n",
       "4                       Leo Breiman             2569376642  2001       34741   \n",
       "5  David W. Hosmer;Stanley Lemeshow  2102544963;1990110535  1989       32053   \n",
       "6     Chih-Chung Chang;Chih-Jen Lin  2895256545;2168176072  2011       31047   \n",
       "\n",
       "  doc_type  reference_count  \\\n",
       "0     Book              NaN   \n",
       "1     Book              NaN   \n",
       "2      NaN              NaN   \n",
       "3  Journal             33.0   \n",
       "4      NaN             11.0   \n",
       "5     Book              NaN   \n",
       "6  Journal             34.0   \n",
       "\n",
       "                                          references  \\\n",
       "0                                                NaN   \n",
       "1                                                NaN   \n",
       "2                                                NaN   \n",
       "3  19720318;1541642243;1560959218;1676552347;1681...   \n",
       "4  1507255258;1580948147;1605688901;1975846642;20...   \n",
       "5                                                NaN   \n",
       "6  1510526001;1543810117;1556115774;1568793342;16...   \n",
       "\n",
       "                                                 doi  \n",
       "0                                                NaN  \n",
       "1                                                NaN  \n",
       "2                                                NaN  \n",
       "3  https://doi.org/10.1023/B:VISI.0000029664.9961...  \n",
       "4            https://doi.org/10.1023/A:1010933404324  \n",
       "5                                                NaN  \n",
       "6            https://doi.org/10.1145/1961189.1961199  "
      ]
     },
     "execution_count": 183,
     "metadata": {},
     "output_type": "execute_result"
    }
   ],
   "source": [
    "df = pd.read_csv('citation.csv')\n",
    "df.head(7)"
   ]
  },
  {
   "cell_type": "markdown",
   "metadata": {},
   "source": [
    "#### Citation Graph"
   ]
  },
  {
   "cell_type": "code",
   "execution_count": 357,
   "metadata": {},
   "outputs": [],
   "source": [
    "# create the citation graph\n",
    "citation_graph = nx.DiGraph()"
   ]
  },
  {
   "cell_type": "markdown",
   "metadata": {},
   "source": [
    "##### **Adding Nodes:** Each node in the graph will be identified by the paper ID and will have an attribute called title that has the paper's title "
   ]
  },
  {
   "cell_type": "code",
   "execution_count": 358,
   "metadata": {},
   "outputs": [],
   "source": [
    "# iterate through the dataframe rows\n",
    "for index, row in df.iterrows():\n",
    "    # getting the paper id and title\n",
    "    paper_id = row['id']\n",
    "    title = row['title']\n",
    "    # make sure that the ID is not NaN\n",
    "    if paper_id != 'nan' or paper_id != 'NaN' or paper_id != '':\n",
    "        # add the node to the graph\n",
    "        citation_graph.add_node(paper_id, title=title)"
   ]
  },
  {
   "cell_type": "code",
   "execution_count": 359,
   "metadata": {},
   "outputs": [
    {
     "data": {
      "text/plain": [
       "10000"
      ]
     },
     "execution_count": 359,
     "metadata": {},
     "output_type": "execute_result"
    }
   ],
   "source": [
    "citation_graph.number_of_nodes()"
   ]
  },
  {
   "cell_type": "code",
   "execution_count": 360,
   "metadata": {},
   "outputs": [
    {
     "name": "stdout",
     "output_type": "stream",
     "text": [
      "Node 2041404167: {'title': 'The Mathematical Theory of Communication'}\n",
      "Node 1639032689: {'title': 'Genetic algorithms in search, optimization, and machine learning'}\n",
      "Node 2912565176: {'title': 'Fuzzy sets'}\n",
      "Node 2151103935: {'title': 'Distinctive Image Features from Scale-Invariant Keypoints'}\n",
      "Node 2911964244: {'title': 'Random Forests'}\n",
      "Node 1973948212: {'title': 'Applied Logistic Regression'}\n",
      "Node 2153635508: {'title': 'LIBSVM: A library for support vector machines'}\n",
      "Node 2156909104: {'title': 'The Nature of Statistical Learning Theory'}\n",
      "Node 1791587663: {'title': 'Perceived usefulness, perceived ease of use, and user acceptance of information technology'}\n",
      "Node 2119821739: {'title': 'Support-Vector Networks'}\n",
      "Node 1995875735: {'title': 'A mathematical theory of communication'}\n"
     ]
    }
   ],
   "source": [
    "# first 10 nodes data in the citation graph\n",
    "c = 0\n",
    "for node, data in citation_graph.nodes(data=True):\n",
    "    c += 1\n",
    "    print(f\"Node {node}: {data}\")\n",
    "    if c > 10:\n",
    "        break"
   ]
  },
  {
   "cell_type": "markdown",
   "metadata": {},
   "source": [
    "##### **Adding the Edges:** If paper A has cited paper B, an edge from node A to B is added."
   ]
  },
  {
   "cell_type": "code",
   "execution_count": 361,
   "metadata": {},
   "outputs": [],
   "source": [
    "# Iterate through the DataFrame rows\n",
    "for index, row in df.iterrows():\n",
    "    # Getting the paper id and references\n",
    "    paper_id = row['id']\n",
    "    references = row['references']\n",
    "\n",
    "    references = str(references).split(';')\n",
    "    # Make sure that the ID and references are not NaN\n",
    "    if paper_id != 'nan' or paper_id != 'NaN' or paper_id != '':\n",
    "        if references != 'nan' or references != 'NaN' or references != '':\n",
    "            # Iterate through the references\n",
    "            for reference in references:\n",
    "                # Add an edge to the graph\n",
    "                    citation_graph.add_edge(paper_id, reference)\n"
   ]
  },
  {
   "cell_type": "markdown",
   "metadata": {},
   "source": [
    "##### Checking the correctness of the edges"
   ]
  },
  {
   "cell_type": "code",
   "execution_count": 362,
   "metadata": {},
   "outputs": [
    {
     "name": "stdout",
     "output_type": "stream",
     "text": [
      "Outgoing edges of node 2911964244: [(2911964244, '1507255258'), (2911964244, '1580948147'), (2911964244, '1605688901'), (2911964244, '1975846642'), (2911964244, '2077200366'), (2911964244, '2099968818'), (2911964244, '2112076978'), (2911964244, '2113242816'), (2911964244, '2120240539'), (2911964244, '2152761983'), (2911964244, '2912934387')]\n",
      "Incoming edges of node 2911964244: []\n",
      "References of node 2911964244: 1507255258;1580948147;1605688901;1975846642;2077200366;2099968818;2112076978;2113242816;2120240539;2152761983;2912934387\n"
     ]
    }
   ],
   "source": [
    "# Node of interest\n",
    "node_to_check = 2911964244\n",
    "\n",
    "# Get the outgoing edges of the node\n",
    "outgoing_edges = citation_graph.out_edges(node_to_check)\n",
    "\n",
    "# Get the incoming edges of the node\n",
    "incoming_edges = citation_graph.in_edges(node_to_check)\n",
    "\n",
    "# Print the results\n",
    "print(f\"Outgoing edges of node {node_to_check}: {list(outgoing_edges)}\")\n",
    "print(f\"Incoming edges of node {node_to_check}: {list(incoming_edges)}\")\n",
    "\n",
    "# references of the paper\n",
    "references_list = df[df['id'] == node_to_check]['references'].values[0]\n",
    "print(f\"References of node {node_to_check}: {references_list}\")\n",
    "\n"
   ]
  },
  {
   "cell_type": "markdown",
   "metadata": {},
   "source": [
    "The **references_list** and the **ougoing_edges** match which ensures the correctness of the graph."
   ]
  },
  {
   "cell_type": "code",
   "execution_count": 363,
   "metadata": {},
   "outputs": [],
   "source": [
    "# Save to GraphML\n",
    "nx.write_gml(citation_graph, \"citation_graph.gml\")"
   ]
  },
  {
   "cell_type": "markdown",
   "metadata": {},
   "source": [
    "#### Collaboration graph "
   ]
  },
  {
   "cell_type": "markdown",
   "metadata": {},
   "source": [
    "##### create a dictionary of authors and their IDs"
   ]
  },
  {
   "cell_type": "code",
   "execution_count": 5,
   "metadata": {},
   "outputs": [],
   "source": [
    "# A dictionary to store authors and their IDs\n",
    "authors_dict = dict()\n",
    "\n",
    "# Iterate through the DataFrame rows\n",
    "for index, row in df.iterrows():\n",
    "    # Getting the author names and IDs\n",
    "    author_names = row['author_name'].split(';')\n",
    "    author_ids = row['author_id'].split(';')\n",
    "\n",
    "    # Iterate through the authors and author IDs\n",
    "    for author_name, author_id in zip(author_names, author_ids):\n",
    "        # Update the authors_dict\n",
    "        if author_id not in authors_dict:\n",
    "            authors_dict[author_id] = []\n",
    "\n",
    "        # Check for duplicates before appending to the list\n",
    "        if author_name not in authors_dict[author_id]:\n",
    "            authors_dict[author_id].append(author_name)\n",
    "\n",
    "# removing the different versions of the names of the authors \n",
    "authors_dict = {key: values[0] for key, values in authors_dict.items()}\n"
   ]
  },
  {
   "cell_type": "code",
   "execution_count": 6,
   "metadata": {},
   "outputs": [],
   "source": [
    "collab_graph = nx.Graph()"
   ]
  },
  {
   "cell_type": "markdown",
   "metadata": {},
   "source": [
    "##### **Add the nodes to the graph:** the nodes are the authors' IDs and each node has the author's name as an attribute"
   ]
  },
  {
   "cell_type": "code",
   "execution_count": 7,
   "metadata": {},
   "outputs": [],
   "source": [
    "# adding the nodes to the graph\n",
    "for key, value in authors_dict.items():\n",
    "    collab_graph.add_node(key, name=value)"
   ]
  },
  {
   "cell_type": "code",
   "execution_count": 8,
   "metadata": {},
   "outputs": [
    {
     "name": "stdout",
     "output_type": "stream",
     "text": [
      "Node 2247248564: {'name': 'C. E. Shannon'}\n",
      "Node 2102678951: {'name': 'David E. Goldberg'}\n",
      "Node 2252586558: {'name': 'Lotfi A. Zadeh'}\n",
      "Node 2104328312: {'name': 'David G. Lowe'}\n",
      "Node 2569376642: {'name': 'Leo Breiman'}\n",
      "Node 2102544963: {'name': 'David W. Hosmer'}\n",
      "Node 1990110535: {'name': 'Stanley Lemeshow'}\n",
      "Node 2895256545: {'name': 'Chih-Chung Chang'}\n",
      "Node 2168176072: {'name': 'Chih-Jen Lin'}\n",
      "Node 2022407533: {'name': 'Vladimir N. Vapnik'}\n",
      "Node 2427477170: {'name': 'Fred D. Davis'}\n"
     ]
    }
   ],
   "source": [
    "# first 10 nodes data in the citation graph\n",
    "c = 0\n",
    "for node, data in collab_graph.nodes(data=True):\n",
    "    c += 1\n",
    "    print(f\"Node {node}: {data}\")\n",
    "    if c > 10:\n",
    "        break"
   ]
  },
  {
   "cell_type": "markdown",
   "metadata": {},
   "source": [
    "##### Generating a matrix to track the collaborative efforts of authors, where the frequency will serve as the weight for the graph.\n"
   ]
  },
  {
   "cell_type": "code",
   "execution_count": 9,
   "metadata": {},
   "outputs": [
    {
     "data": {
      "text/html": [
       "<div>\n",
       "<style scoped>\n",
       "    .dataframe tbody tr th:only-of-type {\n",
       "        vertical-align: middle;\n",
       "    }\n",
       "\n",
       "    .dataframe tbody tr th {\n",
       "        vertical-align: top;\n",
       "    }\n",
       "\n",
       "    .dataframe thead th {\n",
       "        text-align: right;\n",
       "    }\n",
       "</style>\n",
       "<table border=\"1\" class=\"dataframe\">\n",
       "  <thead>\n",
       "    <tr style=\"text-align: right;\">\n",
       "      <th></th>\n",
       "      <th>2247248564</th>\n",
       "      <th>2102678951</th>\n",
       "      <th>2252586558</th>\n",
       "      <th>2104328312</th>\n",
       "      <th>2569376642</th>\n",
       "      <th>2102544963</th>\n",
       "      <th>1990110535</th>\n",
       "      <th>2895256545</th>\n",
       "      <th>2168176072</th>\n",
       "      <th>2022407533</th>\n",
       "      <th>...</th>\n",
       "      <th>176466469</th>\n",
       "      <th>2344230363</th>\n",
       "      <th>469273356</th>\n",
       "      <th>2477509334</th>\n",
       "      <th>2257320792</th>\n",
       "      <th>2119171673</th>\n",
       "      <th>2973489965</th>\n",
       "      <th>1974600515</th>\n",
       "      <th>299775663</th>\n",
       "      <th>282527274</th>\n",
       "    </tr>\n",
       "  </thead>\n",
       "  <tbody>\n",
       "    <tr>\n",
       "      <th>2247248564</th>\n",
       "      <td>[]</td>\n",
       "      <td>[]</td>\n",
       "      <td>[]</td>\n",
       "      <td>[]</td>\n",
       "      <td>[]</td>\n",
       "      <td>[]</td>\n",
       "      <td>[]</td>\n",
       "      <td>[]</td>\n",
       "      <td>[]</td>\n",
       "      <td>[]</td>\n",
       "      <td>...</td>\n",
       "      <td>[]</td>\n",
       "      <td>[]</td>\n",
       "      <td>[]</td>\n",
       "      <td>[]</td>\n",
       "      <td>[]</td>\n",
       "      <td>[]</td>\n",
       "      <td>[]</td>\n",
       "      <td>[]</td>\n",
       "      <td>[]</td>\n",
       "      <td>[]</td>\n",
       "    </tr>\n",
       "    <tr>\n",
       "      <th>2102678951</th>\n",
       "      <td>[]</td>\n",
       "      <td>[]</td>\n",
       "      <td>[]</td>\n",
       "      <td>[]</td>\n",
       "      <td>[]</td>\n",
       "      <td>[]</td>\n",
       "      <td>[]</td>\n",
       "      <td>[]</td>\n",
       "      <td>[]</td>\n",
       "      <td>[]</td>\n",
       "      <td>...</td>\n",
       "      <td>[]</td>\n",
       "      <td>[]</td>\n",
       "      <td>[]</td>\n",
       "      <td>[]</td>\n",
       "      <td>[]</td>\n",
       "      <td>[]</td>\n",
       "      <td>[]</td>\n",
       "      <td>[]</td>\n",
       "      <td>[]</td>\n",
       "      <td>[]</td>\n",
       "    </tr>\n",
       "    <tr>\n",
       "      <th>2252586558</th>\n",
       "      <td>[]</td>\n",
       "      <td>[]</td>\n",
       "      <td>[]</td>\n",
       "      <td>[]</td>\n",
       "      <td>[]</td>\n",
       "      <td>[]</td>\n",
       "      <td>[]</td>\n",
       "      <td>[]</td>\n",
       "      <td>[]</td>\n",
       "      <td>[]</td>\n",
       "      <td>...</td>\n",
       "      <td>[]</td>\n",
       "      <td>[]</td>\n",
       "      <td>[]</td>\n",
       "      <td>[]</td>\n",
       "      <td>[]</td>\n",
       "      <td>[]</td>\n",
       "      <td>[]</td>\n",
       "      <td>[]</td>\n",
       "      <td>[]</td>\n",
       "      <td>[]</td>\n",
       "    </tr>\n",
       "    <tr>\n",
       "      <th>2104328312</th>\n",
       "      <td>[]</td>\n",
       "      <td>[]</td>\n",
       "      <td>[]</td>\n",
       "      <td>[]</td>\n",
       "      <td>[]</td>\n",
       "      <td>[]</td>\n",
       "      <td>[]</td>\n",
       "      <td>[]</td>\n",
       "      <td>[]</td>\n",
       "      <td>[]</td>\n",
       "      <td>...</td>\n",
       "      <td>[]</td>\n",
       "      <td>[]</td>\n",
       "      <td>[]</td>\n",
       "      <td>[]</td>\n",
       "      <td>[]</td>\n",
       "      <td>[]</td>\n",
       "      <td>[]</td>\n",
       "      <td>[]</td>\n",
       "      <td>[]</td>\n",
       "      <td>[]</td>\n",
       "    </tr>\n",
       "    <tr>\n",
       "      <th>2569376642</th>\n",
       "      <td>[]</td>\n",
       "      <td>[]</td>\n",
       "      <td>[]</td>\n",
       "      <td>[]</td>\n",
       "      <td>[]</td>\n",
       "      <td>[]</td>\n",
       "      <td>[]</td>\n",
       "      <td>[]</td>\n",
       "      <td>[]</td>\n",
       "      <td>[]</td>\n",
       "      <td>...</td>\n",
       "      <td>[]</td>\n",
       "      <td>[]</td>\n",
       "      <td>[]</td>\n",
       "      <td>[]</td>\n",
       "      <td>[]</td>\n",
       "      <td>[]</td>\n",
       "      <td>[]</td>\n",
       "      <td>[]</td>\n",
       "      <td>[]</td>\n",
       "      <td>[]</td>\n",
       "    </tr>\n",
       "  </tbody>\n",
       "</table>\n",
       "<p>5 rows × 21235 columns</p>\n",
       "</div>"
      ],
      "text/plain": [
       "           2247248564 2102678951 2252586558 2104328312 2569376642 2102544963  \\\n",
       "2247248564         []         []         []         []         []         []   \n",
       "2102678951         []         []         []         []         []         []   \n",
       "2252586558         []         []         []         []         []         []   \n",
       "2104328312         []         []         []         []         []         []   \n",
       "2569376642         []         []         []         []         []         []   \n",
       "\n",
       "           1990110535 2895256545 2168176072 2022407533  ... 176466469  \\\n",
       "2247248564         []         []         []         []  ...        []   \n",
       "2102678951         []         []         []         []  ...        []   \n",
       "2252586558         []         []         []         []  ...        []   \n",
       "2104328312         []         []         []         []  ...        []   \n",
       "2569376642         []         []         []         []  ...        []   \n",
       "\n",
       "           2344230363 469273356 2477509334 2257320792 2119171673 2973489965  \\\n",
       "2247248564         []        []         []         []         []         []   \n",
       "2102678951         []        []         []         []         []         []   \n",
       "2252586558         []        []         []         []         []         []   \n",
       "2104328312         []        []         []         []         []         []   \n",
       "2569376642         []        []         []         []         []         []   \n",
       "\n",
       "           1974600515 299775663 282527274  \n",
       "2247248564         []        []        []  \n",
       "2102678951         []        []        []  \n",
       "2252586558         []        []        []  \n",
       "2104328312         []        []        []  \n",
       "2569376642         []        []        []  \n",
       "\n",
       "[5 rows x 21235 columns]"
      ]
     },
     "execution_count": 9,
     "metadata": {},
     "output_type": "execute_result"
    }
   ],
   "source": [
    "matrix = pd.DataFrame(columns=authors_dict.keys(), index=authors_dict.keys())\n",
    "# Set all values to empty lists\n",
    "for col in matrix.columns:\n",
    "    matrix[col] = [[] for _ in matrix.index]\n",
    "matrix.head()"
   ]
  },
  {
   "cell_type": "code",
   "execution_count": 15,
   "metadata": {},
   "outputs": [],
   "source": [
    "for index, row in matrix.iterrows():\n",
    "    # Get the author ID\n",
    "    author_id = index\n",
    "    \n",
    "    # Get the author papers\n",
    "    for index_df, row_df in df.iterrows():\n",
    "        # Get the author IDs of the paper\n",
    "        IDs = row_df['author_id'].split(';')\n",
    "        paper_id = row_df['id']\n",
    "        \n",
    "        \n",
    "        # Check if the author ID is in the IDs list\n",
    "        if author_id in IDs:\n",
    "            # Iterate through the IDs\n",
    "            for ID in IDs:\n",
    "                # Check if the author ID is not the same as the ID in the loop\n",
    "                if ID != author_id:\n",
    "                    # Append the paper ID\n",
    "                    matrix.loc[author_id, ID].append(paper_id)"
   ]
  },
  {
   "cell_type": "code",
   "execution_count": 16,
   "metadata": {},
   "outputs": [
    {
     "data": {
      "text/html": [
       "<div>\n",
       "<style scoped>\n",
       "    .dataframe tbody tr th:only-of-type {\n",
       "        vertical-align: middle;\n",
       "    }\n",
       "\n",
       "    .dataframe tbody tr th {\n",
       "        vertical-align: top;\n",
       "    }\n",
       "\n",
       "    .dataframe thead th {\n",
       "        text-align: right;\n",
       "    }\n",
       "</style>\n",
       "<table border=\"1\" class=\"dataframe\">\n",
       "  <thead>\n",
       "    <tr style=\"text-align: right;\">\n",
       "      <th></th>\n",
       "      <th>2247248564</th>\n",
       "      <th>2102678951</th>\n",
       "      <th>2252586558</th>\n",
       "      <th>2104328312</th>\n",
       "      <th>2569376642</th>\n",
       "      <th>2102544963</th>\n",
       "      <th>1990110535</th>\n",
       "      <th>2895256545</th>\n",
       "      <th>2168176072</th>\n",
       "      <th>2022407533</th>\n",
       "      <th>...</th>\n",
       "      <th>176466469</th>\n",
       "      <th>2344230363</th>\n",
       "      <th>469273356</th>\n",
       "      <th>2477509334</th>\n",
       "      <th>2257320792</th>\n",
       "      <th>2119171673</th>\n",
       "      <th>2973489965</th>\n",
       "      <th>1974600515</th>\n",
       "      <th>299775663</th>\n",
       "      <th>282527274</th>\n",
       "    </tr>\n",
       "  </thead>\n",
       "  <tbody>\n",
       "    <tr>\n",
       "      <th>2247248564</th>\n",
       "      <td>[]</td>\n",
       "      <td>[]</td>\n",
       "      <td>[]</td>\n",
       "      <td>[]</td>\n",
       "      <td>[]</td>\n",
       "      <td>[]</td>\n",
       "      <td>[]</td>\n",
       "      <td>[]</td>\n",
       "      <td>[]</td>\n",
       "      <td>[]</td>\n",
       "      <td>...</td>\n",
       "      <td>[]</td>\n",
       "      <td>[]</td>\n",
       "      <td>[]</td>\n",
       "      <td>[]</td>\n",
       "      <td>[]</td>\n",
       "      <td>[]</td>\n",
       "      <td>[]</td>\n",
       "      <td>[]</td>\n",
       "      <td>[]</td>\n",
       "      <td>[]</td>\n",
       "    </tr>\n",
       "    <tr>\n",
       "      <th>2102678951</th>\n",
       "      <td>[]</td>\n",
       "      <td>[]</td>\n",
       "      <td>[]</td>\n",
       "      <td>[]</td>\n",
       "      <td>[]</td>\n",
       "      <td>[]</td>\n",
       "      <td>[]</td>\n",
       "      <td>[]</td>\n",
       "      <td>[]</td>\n",
       "      <td>[]</td>\n",
       "      <td>...</td>\n",
       "      <td>[]</td>\n",
       "      <td>[]</td>\n",
       "      <td>[]</td>\n",
       "      <td>[]</td>\n",
       "      <td>[]</td>\n",
       "      <td>[]</td>\n",
       "      <td>[]</td>\n",
       "      <td>[]</td>\n",
       "      <td>[]</td>\n",
       "      <td>[]</td>\n",
       "    </tr>\n",
       "    <tr>\n",
       "      <th>2252586558</th>\n",
       "      <td>[]</td>\n",
       "      <td>[]</td>\n",
       "      <td>[]</td>\n",
       "      <td>[]</td>\n",
       "      <td>[]</td>\n",
       "      <td>[]</td>\n",
       "      <td>[]</td>\n",
       "      <td>[]</td>\n",
       "      <td>[]</td>\n",
       "      <td>[]</td>\n",
       "      <td>...</td>\n",
       "      <td>[]</td>\n",
       "      <td>[]</td>\n",
       "      <td>[]</td>\n",
       "      <td>[]</td>\n",
       "      <td>[]</td>\n",
       "      <td>[]</td>\n",
       "      <td>[]</td>\n",
       "      <td>[]</td>\n",
       "      <td>[]</td>\n",
       "      <td>[]</td>\n",
       "    </tr>\n",
       "    <tr>\n",
       "      <th>2104328312</th>\n",
       "      <td>[]</td>\n",
       "      <td>[]</td>\n",
       "      <td>[]</td>\n",
       "      <td>[]</td>\n",
       "      <td>[]</td>\n",
       "      <td>[]</td>\n",
       "      <td>[]</td>\n",
       "      <td>[]</td>\n",
       "      <td>[]</td>\n",
       "      <td>[]</td>\n",
       "      <td>...</td>\n",
       "      <td>[]</td>\n",
       "      <td>[]</td>\n",
       "      <td>[]</td>\n",
       "      <td>[]</td>\n",
       "      <td>[]</td>\n",
       "      <td>[]</td>\n",
       "      <td>[]</td>\n",
       "      <td>[]</td>\n",
       "      <td>[]</td>\n",
       "      <td>[]</td>\n",
       "    </tr>\n",
       "    <tr>\n",
       "      <th>2569376642</th>\n",
       "      <td>[]</td>\n",
       "      <td>[]</td>\n",
       "      <td>[]</td>\n",
       "      <td>[]</td>\n",
       "      <td>[]</td>\n",
       "      <td>[]</td>\n",
       "      <td>[]</td>\n",
       "      <td>[]</td>\n",
       "      <td>[]</td>\n",
       "      <td>[]</td>\n",
       "      <td>...</td>\n",
       "      <td>[]</td>\n",
       "      <td>[]</td>\n",
       "      <td>[]</td>\n",
       "      <td>[]</td>\n",
       "      <td>[]</td>\n",
       "      <td>[]</td>\n",
       "      <td>[]</td>\n",
       "      <td>[]</td>\n",
       "      <td>[]</td>\n",
       "      <td>[]</td>\n",
       "    </tr>\n",
       "  </tbody>\n",
       "</table>\n",
       "<p>5 rows × 21235 columns</p>\n",
       "</div>"
      ],
      "text/plain": [
       "           2247248564 2102678951 2252586558 2104328312 2569376642 2102544963  \\\n",
       "2247248564         []         []         []         []         []         []   \n",
       "2102678951         []         []         []         []         []         []   \n",
       "2252586558         []         []         []         []         []         []   \n",
       "2104328312         []         []         []         []         []         []   \n",
       "2569376642         []         []         []         []         []         []   \n",
       "\n",
       "           1990110535 2895256545 2168176072 2022407533  ... 176466469  \\\n",
       "2247248564         []         []         []         []  ...        []   \n",
       "2102678951         []         []         []         []  ...        []   \n",
       "2252586558         []         []         []         []  ...        []   \n",
       "2104328312         []         []         []         []  ...        []   \n",
       "2569376642         []         []         []         []  ...        []   \n",
       "\n",
       "           2344230363 469273356 2477509334 2257320792 2119171673 2973489965  \\\n",
       "2247248564         []        []         []         []         []         []   \n",
       "2102678951         []        []         []         []         []         []   \n",
       "2252586558         []        []         []         []         []         []   \n",
       "2104328312         []        []         []         []         []         []   \n",
       "2569376642         []        []         []         []         []         []   \n",
       "\n",
       "           1974600515 299775663 282527274  \n",
       "2247248564         []        []        []  \n",
       "2102678951         []        []        []  \n",
       "2252586558         []        []        []  \n",
       "2104328312         []        []        []  \n",
       "2569376642         []        []        []  \n",
       "\n",
       "[5 rows x 21235 columns]"
      ]
     },
     "execution_count": 16,
     "metadata": {},
     "output_type": "execute_result"
    }
   ],
   "source": [
    "matrix.head()"
   ]
  },
  {
   "cell_type": "code",
   "execution_count": 22,
   "metadata": {},
   "outputs": [],
   "source": [
    "matrix.to_csv('collaboration.csv', index=False)"
   ]
  },
  {
   "cell_type": "markdown",
   "metadata": {},
   "source": [
    "##### Creating the edges and assigning the weights based on the matrix "
   ]
  },
  {
   "cell_type": "code",
   "execution_count": 19,
   "metadata": {},
   "outputs": [],
   "source": [
    "# adding the edges to the graph\n",
    "for index in matrix.index:\n",
    "    for column in matrix.columns:\n",
    "        # check if the weight is more than zero and the edge does nto exist\n",
    "        if matrix.loc[index, column] != [] and not collab_graph.has_edge(index, column):\n",
    "            collab_graph.add_edge(index, column, weight= len(matrix.loc[index, column]), papers_coauthored = matrix.loc[index, column])"
   ]
  },
  {
   "cell_type": "code",
   "execution_count": 22,
   "metadata": {},
   "outputs": [
    {
     "name": "stdout",
     "output_type": "stream",
     "text": [
      "('2102678951', '2150011549', {'weight': 3, 'papers_coauthored': [1568834902, 1606791384, 1572960541]})\n",
      "('2102678951', '2289349322', {'weight': 1, 'papers_coauthored': [1905847227]})\n",
      "('2102678951', '2967430569', {'weight': 1, 'papers_coauthored': [1905847227]})\n",
      "('2102678951', '2112870757', {'weight': 2, 'papers_coauthored': [1541288193, 2103537992]})\n",
      "('2102678951', '2281157639', {'weight': 1, 'papers_coauthored': [2126926002]})\n",
      "('2102678951', '1996855907', {'weight': 1, 'papers_coauthored': [1606791384]})\n",
      "('2102678951', '2010224735', {'weight': 1, 'papers_coauthored': [2170539222]})\n",
      "('2102678951', '2250828903', {'weight': 2, 'papers_coauthored': [2170539222, 2148379945]})\n",
      "('2102678951', '2700242703', {'weight': 1, 'papers_coauthored': [2103537992]})\n",
      "('2102678951', '2503678005', {'weight': 1, 'papers_coauthored': [2148379945]})\n",
      "('2252586558', '244126243', {'weight': 1, 'papers_coauthored': [2041064082]})\n",
      "('2252586558', '2920276700', {'weight': 1, 'papers_coauthored': [2041064082]})\n",
      "('2104328312', '2112824674', {'weight': 1, 'papers_coauthored': [2147953023]})\n",
      "('2104328312', '2265797067', {'weight': 2, 'papers_coauthored': [1627400044, 2086504823]})\n",
      "('2104328312', '2791783279', {'weight': 1, 'papers_coauthored': [2126060993]})\n",
      "('2104328312', '2008520944', {'weight': 1, 'papers_coauthored': [2147953023]})\n",
      "('2104328312', '2476259963', {'weight': 1, 'papers_coauthored': [2147953023]})\n",
      "('2104328312', '2124091997', {'weight': 2, 'papers_coauthored': [2147953023, 2004835121]})\n",
      "('2104328312', '231883175', {'weight': 1, 'papers_coauthored': [2096077837]})\n",
      "('2104328312', '2305774439', {'weight': 1, 'papers_coauthored': [2004835121]})\n",
      "('2102544963', '1990110535', {'weight': 1, 'papers_coauthored': [1973948212]})\n"
     ]
    }
   ],
   "source": [
    "# checking the first 20 edges of the graph\n",
    "c = 0\n",
    "for edge in collab_graph.edges(data=True):\n",
    "    c += 1\n",
    "    print(edge)\n",
    "    if c > 20:\n",
    "        break"
   ]
  },
  {
   "cell_type": "code",
   "execution_count": 24,
   "metadata": {},
   "outputs": [],
   "source": [
    "# Save to gml\n",
    "nx.write_gml(collab_graph, \"collab_graph.gml\")"
   ]
  },
  {
   "cell_type": "code",
   "execution_count": 27,
   "metadata": {},
   "outputs": [
    {
     "data": {
      "text/plain": [
       "21235"
      ]
     },
     "execution_count": 27,
     "metadata": {},
     "output_type": "execute_result"
    }
   ],
   "source": [
    "collab_graph.number_of_nodes()"
   ]
  },
  {
   "cell_type": "code",
   "execution_count": 28,
   "metadata": {},
   "outputs": [
    {
     "data": {
      "text/plain": [
       "EdgeDataView([('2150011549', '2102678951', {'weight': 3, 'papers_coauthored': [1568834902, 1606791384, 1572960541]}), ('2150011549', '2120996014', {'weight': 2, 'papers_coauthored': [2126105956, '2167159964']}), ('2150011549', '2175835430', {'weight': 1, 'papers_coauthored': [2126105956]}), ('2150011549', '1208012566', {'weight': 2, 'papers_coauthored': [2126105956, '2167159964']}), ('2150011549', '177795906', {'weight': 2, 'papers_coauthored': [2125899728, 2063375245]}), ('2150011549', '2156635946', {'weight': 2, 'papers_coauthored': [2125899728, 2063375245]}), ('2150011549', '2467761819', {'weight': 1, 'papers_coauthored': [2116661285]}), ('2150011549', '2096079875', {'weight': 1, 'papers_coauthored': ['2167159964']}), ('2150011549', '2069070276', {'weight': 1, 'papers_coauthored': [2063375245]}), ('2150011549', '2641050018', {'weight': 1, 'papers_coauthored': [225560312]}), ('2150011549', '2423330096', {'weight': 1, 'papers_coauthored': [2022485595]}), ('2150011549', '1996855907', {'weight': 1, 'papers_coauthored': [1606791384]})])"
      ]
     },
     "execution_count": 28,
     "metadata": {},
     "output_type": "execute_result"
    }
   ],
   "source": [
    "# example of a node in the collaboration graph\n",
    "node_to_check = '2150011549'\n",
    "collab_graph.edges(node_to_check, data=True)"
   ]
  },
  {
   "cell_type": "markdown",
   "metadata": {},
   "source": [
    "### 2.1. Backend Implementation\n",
    "---"
   ]
  },
  {
   "cell_type": "code",
   "execution_count": null,
   "metadata": {},
   "outputs": [],
   "source": [
    "# Load graphs from GraphML\n",
    "citation_graph = nx.read_graphml(\"citation_graph.graphml\")\n",
    "collab_graph = nx.read_graphml(\"collab_graph.graphml\")"
   ]
  },
  {
   "cell_type": "markdown",
   "metadata": {},
   "source": [
    "#### Functionality 1 - Graph's features\n",
    "This function should examine a graph and report on some of its features. The input and report that this function should produce are shown below. \n",
    "\n",
    "Input: \n",
    "- The graph\n",
    "- The name of the graph\n",
    "\n",
    "Output: \n",
    "- The number of the nodes in the graph\n",
    "- The number of the edges in the graph\n",
    "- The graph density\n",
    "- The graph degree distribution\n",
    "- The average degree of the graph\n",
    "- The graph hubs (hubs are nodes having degrees more extensive than the 95th percentile of the degree distribution)\n",
    "- Whether the graph is dense or sparse\n"
   ]
  },
  {
   "cell_type": "code",
   "execution_count": null,
   "metadata": {},
   "outputs": [],
   "source": [
    "def f1_graph_features(graph, name_of_graph):\n",
    "    # The number of the nodes in the graph\n",
    "    num_nodes = graph.number_of_nodes() \n",
    "    \n",
    "    # The number of the edges in the graph\n",
    "    num_edges = graph.number_of_edges() \n",
    "    \n",
    "    # The graph density\n",
    "    density = nx.density(graph)\n",
    "    \n",
    "    # The graph degree distribution\n",
    "    degrees = sorted([d for n, d in graph.degree()], reverse=True)\n",
    "    \n",
    "    # The average degree of the graph\n",
    "    average_degree = sum(degrees)/len(degrees)\n",
    "    \n",
    "    # The graph hubs\n",
    "    ## Identifying 95th percentile\n",
    "    percentile_95 = np.percentile(degrees, 95)\n",
    "    hubs = [n for n, d in graph.degree() if d > percentile_95]\n",
    "\n",
    "    # Whether the graph is dense or sparse\n",
    "    # If density > 0.5 then isDense is True, else False\n",
    "    isDense = True if density > 0.5 else False         \n",
    "    \n",
    "    return num_nodes, num_edges, density, degrees, average_degree, hubs, isDense    "
   ]
  },
  {
   "cell_type": "code",
   "execution_count": null,
   "metadata": {},
   "outputs": [],
   "source": [
    "collab_num_nodes, collab_num_edges, collab_density, collab_degrees, collab_avg_degree, collab_hubs, collab_isDense  = f1_graph_features(collab_graph, 'collaboration graph')"
   ]
  },
  {
   "cell_type": "code",
   "execution_count": null,
   "metadata": {},
   "outputs": [
    {
     "data": {
      "text/plain": [
       "(21235, 136478, 0.0006053528157956642, 12.854061690605134, False)"
      ]
     },
     "metadata": {},
     "output_type": "display_data"
    }
   ],
   "source": [
    "collab_num_nodes, collab_num_edges, collab_density, collab_avg_degree, collab_isDense"
   ]
  },
  {
   "cell_type": "code",
   "execution_count": null,
   "metadata": {},
   "outputs": [
    {
     "data": {
      "text/plain": [
       "[347, 326, 304, 296, 284, 284, 282, 279, 278, 276]"
      ]
     },
     "metadata": {},
     "output_type": "display_data"
    }
   ],
   "source": [
    "collab_degrees[:10]"
   ]
  },
  {
   "cell_type": "code",
   "execution_count": null,
   "metadata": {},
   "outputs": [
    {
     "data": {
      "text/plain": [
       "['1445484688',\n",
       " '2104401652',\n",
       " '2435751034',\n",
       " '2007415138',\n",
       " '2096217197',\n",
       " '2146468246',\n",
       " '215131072',\n",
       " '2429370538',\n",
       " '2575315241',\n",
       " '1822555116']"
      ]
     },
     "metadata": {},
     "output_type": "display_data"
    }
   ],
   "source": [
    "collab_hubs[:10]"
   ]
  },
  {
   "cell_type": "code",
   "execution_count": null,
   "metadata": {},
   "outputs": [],
   "source": [
    "citation_num_nodes, citation_num_edges, citation_density, citation_degrees, citation_avg_degree, citation_hubs, citation_isDense  = f1_graph_features(citation_graph, 'citation graph')"
   ]
  },
  {
   "cell_type": "code",
   "execution_count": null,
   "metadata": {},
   "outputs": [
    {
     "data": {
      "text/plain": [
       "(18780, 10000, 2.835515006934819e-05, 1.0649627263045793, False)"
      ]
     },
     "metadata": {},
     "output_type": "display_data"
    }
   ],
   "source": [
    "citation_num_nodes, citation_num_edges, citation_density, citation_avg_degree, citation_isDense"
   ]
  },
  {
   "cell_type": "code",
   "execution_count": null,
   "metadata": {},
   "outputs": [
    {
     "data": {
      "text/plain": [
       "[1205, 3, 2, 2, 2, 2, 2, 2, 2, 2]"
      ]
     },
     "metadata": {},
     "output_type": "display_data"
    }
   ],
   "source": [
    "citation_degrees[:10]"
   ]
  },
  {
   "cell_type": "code",
   "execution_count": null,
   "metadata": {},
   "outputs": [
    {
     "data": {
      "text/plain": [
       "['nan',\n",
       " '[2022772618, 2026258334, 2070473094]',\n",
       " '[2036265926]',\n",
       " '[2108234281]',\n",
       " '[2041404167]',\n",
       " '[2016606566, 2017474236, 2033769372, 2038836824, 2041826644, 2056472112, 2072144767, 2094056275, 2117395697]',\n",
       " '[2012329067]',\n",
       " '[2079797201, 2094204865, 2112737587, 2150388519, 2170102584]',\n",
       " '[1572948005, 2112175905, 2112665591, 2148572968, 2150739536, 2165703420]',\n",
       " '[2031501117, 2095206774, 2099057525, 2099574482, 2123971693, 2132932625, 2134127549, 2148929515, 2157457404, 2165251806]',\n",
       " '[1988790447, 2032210760, 2089181482, 2107853414, 2115763357, 2143023146, 2143425433, 2155511848, 2162919312, 2164598857, 2217896605, 2293560592]',\n",
       " '[2114303224, 2119400430]',\n",
       " '[2170211046]',\n",
       " '[2105109159]',\n",
       " '[2068505107, 2091712738, 2114094687, 2120655454, 2121523570, 2126169247, 2157529519]',\n",
       " '[2132167250]']"
      ]
     },
     "metadata": {},
     "output_type": "display_data"
    }
   ],
   "source": [
    "citation_hubs"
   ]
  },
  {
   "cell_type": "markdown",
   "metadata": {},
   "source": [
    "#### Functionality 2 - Nodes' contribution\n",
    "Using this functionality, you will identify the papers/authors who have significantly contributed to this field of study. For this analysis, focusing solely on the number of citations for the paper or the number of collaborations of the authors can be misleading. You will examine this using various centrality measurements. \n",
    "\n",
    "Input:\n",
    "- The graph\n",
    "- A node of the graph (paper/author)\n",
    "- The name of the graph\n",
    "\n",
    "Output: \n",
    "- The centrality of the node, calculated based on the following centrality measurements:\n",
    "   - [Betweeness](https://www.tandfonline.com/doi/abs/10.1080/0022250X.2001.9990249)\n",
    "   - [PageRank](https://courses.cs.washington.edu/courses/cse373/17au/project3/project3-3.html)\n",
    "   - [ClosenessCentrality](https://networkx.org/documentation/stable/reference/algorithms/generated/networkx.algorithms.centrality.closeness_centrality.html#networkx.algorithms.centrality.closeness_centrality)\n",
    "   - DegreeCentrality\n",
    "     "
   ]
  },
  {
   "cell_type": "markdown",
   "metadata": {},
   "source": [
    "**Graph Name Preprocessing for flexible input**\n",
    "\n",
    "This script preprocesses user input to identify queries related to specific graph types like 'collaboration graph' or 'citation graph'.\n",
    "\n",
    "***Libraries Used***\n",
    "- **NLTK**: For text manipulation(stemming, tokenization).\n",
    "- **Stopwords**: From NLTK to remove stopwords.\n",
    "\n",
    "***Preprocessing Steps***\n",
    "1. **Download NLTK Data**: Stopwords and Punkt tokenizer models.\n",
    "2. **Define `preprocess_query` Function**: \n",
    "   - Tokenizes, removes stopwords, stems, and filters non-alphanumeric characters from the input query.\n",
    "   - Outputs a list of cleaned and stemmed words.\n",
    "\n",
    "***Usage***\n",
    "- Process a graph name with `prep_graph_name = preprocess_query(name_of_graph)` to prepare for type identification.\n",
    "\n",
    "The goal is to normalize the query for better identification of graph types despite varied input phrasing.\n"
   ]
  },
  {
   "cell_type": "code",
   "execution_count": null,
   "metadata": {},
   "outputs": [],
   "source": [
    "def preprocess_query(query_str):\n",
    "    stemmer = PorterStemmer()\n",
    "    lst_stopwords = stopwords.words('english')\n",
    "    return [stemmer.stem(word) for word in nltk.word_tokenize(query_str) if not word in lst_stopwords and word.isalnum()]"
   ]
  },
  {
   "cell_type": "code",
   "execution_count": null,
   "metadata": {},
   "outputs": [
    {
     "data": {
      "text/plain": [
       "['collabor', 'graph']"
      ]
     },
     "metadata": {},
     "output_type": "display_data"
    }
   ],
   "source": [
    "preprocess_query('a collaboration graph')"
   ]
  },
  {
   "cell_type": "code",
   "execution_count": null,
   "metadata": {},
   "outputs": [
    {
     "data": {
      "text/plain": [
       "['citat', 'graph']"
      ]
     },
     "metadata": {},
     "output_type": "display_data"
    }
   ],
   "source": [
    "preprocess_query('a citation graph')"
   ]
  },
  {
   "cell_type": "markdown",
   "metadata": {},
   "source": [
    "**Betweenness Centrality Computation Explanation**\n",
    "The brute force method computes betweenness centrality for all nodes, which can be computationally intensive for large graphs. \n",
    "\n",
    "Brute Force Code Example:\n",
    "\n",
    "    bc = nx.betweenness_centrality(graph, normalized=True, weight='weight')\n",
    "    bc_node = bc[str(node)]\n",
    "        \n",
    "\n",
    "This explanation describes an optimized approach for two types of graphs: Collaboration and Citation graphs.\n",
    "\n",
    "***Collaboration Graph***\n",
    "For collaboration graphs, the method focuses on computing betweenness centrality for a specific target node by considering only its connected component.\n",
    "\n",
    "**Steps**:\n",
    "1. **Identify Connected Components**: Determine all connected components in the graph.\n",
    "2. **Find Target Node's Component**: Locate the connected component containing the target node.\n",
    "3. **Compute Betweenness Centrality**: Use `nx.betweenness_centrality_subset()` considering the weights to compute the betweenness centrality for the nodes in the identified component.\n",
    "4. **Access Target Node's Centrality**: Retrieve the betweenness centrality value for the target node.\n",
    "\n",
    "***Citation Graph***\n",
    "\n",
    "**Steps**:\n",
    "1. **Identify Connected Components**: Calculate both strongly and weakly connected components of the graph.\n",
    "2. **Determine Target Node's Component**: Find the component (strongly, weakly) containing the target node.\n",
    "3. **Compute Betweenness Centrality**: Use `nx.betweenness_centrality_subset()` to compute betweenness centrality for the nodes in the identified component.\n",
    "4. **Access Target Node's Centrality**: Retrieve the betweenness centrality value for the target node.\n",
    "\n",
    "Since Betweenness Centrality is a measure of the importance of a node in a graph based on the shortest paths passing through it. The computation of only the nodes that can reach the target node could reduce the computation time."
   ]
  },
  {
   "cell_type": "code",
   "execution_count": null,
   "metadata": {},
   "outputs": [],
   "source": [
    "def f2_nodes_contribution(graph, node, name_of_graph):\n",
    "    prep_graph_name = preprocess_query(name_of_graph)\n",
    "    \n",
    "    # Collaboration Graph (undirected, weighted)\n",
    "    if 'collabor' in prep_graph_name:\n",
    "        \n",
    "        # Betweness Centrality\n",
    "        ## Find all the connected components\n",
    "        connected_components = list(nx.connected_components(graph))\n",
    "        ## Access the connected component that contains the target node\n",
    "        component_of_interest = [comp for comp in connected_components if str(node) in comp][0]\n",
    "        \n",
    "        bc_of_connected_component = nx.betweenness_centrality_subset(graph, sources = list(component_of_interest), \n",
    "                                                                targets = list(component_of_interest), normalized=True, \n",
    "                                                                weight='weight')\n",
    "        bc_node = bc_of_connected_component[str(node)]\n",
    "\n",
    "        # PageRank\n",
    "        ## Calculate PageRank for all nodes with weights considered\n",
    "        pr = nx.pagerank(graph, alpha=0.85, weight='weight')\n",
    "        ## Access PageRank for the target node\n",
    "        pr_node = pr[str(node)]\n",
    "        \n",
    "        #Closeness Centrality\n",
    "        cc_node = nx.closeness_centrality(graph, u = str(node), distance='weight')\n",
    "\n",
    "        #Degree Centrality\n",
    "        dc = nx.degree_centrality(graph)\n",
    "        ## Access Degree Centrality for the target node\n",
    "        dc_node = dc[str(node)]\n",
    "\n",
    "        \n",
    "    # Citation Graph (directed, unweighted)\n",
    "    elif 'citat' in prep_graph_name:\n",
    "        \n",
    "        # Betweness Centrality \n",
    "        ## Determine the strongly connected components\n",
    "        strongly_connected_components = list(nx.strongly_connected_components(citation_graph))\n",
    "        ## Access the strongly connected component that contains the target node\n",
    "        strongly_connected_component_of_interest = [comp for comp in strongly_connected_components if str(node) in comp]\n",
    "        ## Check if the strongly connected component is empty\n",
    "        if strongly_connected_component_of_interest:\n",
    "            ### If not empty, then access the set in a list\n",
    "            strongly_connected_component_of_interest = strongly_connected_component_of_interest[0]\n",
    "        else:\n",
    "            ### If empty, then it will be an empty set\n",
    "            strongly_connected_component_of_interest = set()\n",
    "            \n",
    "        ## Same operation for weakly connected components\n",
    "        weakly_connected_components = list(nx.weakly_connected_components(citation_graph))\n",
    "        weakly_connected_component_of_interest = [comp for comp in weakly_connected_components if str(node) in comp]\n",
    "        if weakly_connected_component_of_interest:\n",
    "            weakly_connected_component_of_interest = weakly_connected_component_of_interest[0]\n",
    "        else:\n",
    "            weakly_connected_component_of_interest = set()\n",
    "            \n",
    "        ## Combine strongly and weakly connected components that contain the target node\n",
    "        component_of_interest =  strongly_connected_component_of_interest.union(weakly_connected_component_of_interest)\n",
    "        \n",
    "        ## Compute the betweeness centrality on the target node\n",
    "        bc_of_connected_components = nx.betweenness_centrality_subset(citation_graph, sources = list(component_of_interest), \n",
    "                                                                targets = list(component_of_interest), normalized=True)\n",
    "        bc_node = bc_of_connected_components[str(node)]\n",
    "       \n",
    "        # PageRank\n",
    "        ## Calculate PageRank for all nodes\n",
    "        pr = nx.pagerank(graph, alpha=0.85)\n",
    "        ## Access PageRank for the particular node\n",
    "        pr_node = pr[str(node)]\n",
    "        \n",
    "        #Closeness Centrality\n",
    "        cc_node = nx.closeness_centrality(graph, u = str(node)) \n",
    "        \n",
    "        #Degree Centrality\n",
    "        in_dc = nx.in_degree_centrality(graph)\n",
    "        out_dc = nx.out_degree_centrality(graph)\n",
    "        dc_node = in_dc[str(node)] + out_dc[str(node)]\n",
    "\n",
    "    return bc_node, pr_node, cc_node, dc_node       "
   ]
  },
  {
   "cell_type": "code",
   "execution_count": null,
   "metadata": {},
   "outputs": [
    {
     "data": {
      "text/plain": [
       "(8.250870430233785e-08,\n",
       " 6.849168149974057e-05,\n",
       " 0.00034678517300726965,\n",
       " 0.0003296599792785156)"
      ]
     },
     "metadata": {},
     "output_type": "display_data"
    }
   ],
   "source": [
    "collab_bc_node, collab_pr_node, collab_cc_node, collab_dc_node = f2_nodes_contribution(collab_graph, node = '163014821', \n",
    "                                                                                       name_of_graph = 'collaboration graph')\n",
    "collab_bc_node, collab_pr_node, collab_cc_node, collab_dc_node"
   ]
  },
  {
   "cell_type": "code",
   "execution_count": null,
   "metadata": {},
   "outputs": [
    {
     "data": {
      "text/plain": [
       "(0.0, 9.18002005580578e-06, 0.0, 8.923525387429727e-05)"
      ]
     },
     "metadata": {},
     "output_type": "display_data"
    }
   ],
   "source": [
    "citation_bc_node, citation_pr_node, citation_cc_node, citation_dc_node = f2_nodes_contribution(citation_graph, node = '2085662862', \n",
    "                                                                                               name_of_graph = 'citation graph')\n",
    "citation_bc_node, citation_pr_node, citation_cc_node, citation_dc_node"
   ]
  },
  {
   "cell_type": "markdown",
   "metadata": {},
   "source": [
    "#### Functionality 3 - Shortest ordered walk\n",
    "\n",
    "Input:  \n",
    "- The graph data \n",
    "- A sequence of authors\\_a = [a\\_2, ..., a\\_{n-1}]\n",
    "- Initial node a\\_1 and an end node a\\_n\n",
    "- $N$: denoting the top $N$ authors whose data should be considered\n",
    " \n",
    "Output: \n",
    "- The shortest walk of collaborations you need to read to get from author a\\_1 to author a\\_n and the papers you need to cross to realize this walk.\n",
    " \n",
    "Considerations: \n",
    "For this functionality, you must implement an algorithm that returns the shortest __walk__ that goes from node a\\_j to a\\_n, which visits **in order** the nodes in _a_. The choice of a\\_j and a\\_n can be made randomly (or if it improves the performance of the algorithm, you can also define it in any other way) \n",
    "\n",
    "__Important Notes:__\n",
    "- This algorithm should be run only on the collaboration graph.\n",
    "- The algorithm needs to handle the case that the graph is not connected. Thus, only some nodes in _a_ are reachable from a\\_1. In such a scenario, it is enough to let the program give in the output the string \"There is no such path.\"\n",
    "- Since we are dealing with walks, you can pass on the same node _a\\_i_ more than once, but you must preserve order. It means you can go back to any author node any time you want, assuming that the order in which you visit the required nodes is still the same.\n",
    "- Once you completed your implementation, ask chatGPT for a different one leveraging another approach in solving the shortest path and prove whether this implementation is correct. \n"
   ]
  },
  {
   "cell_type": "code",
   "execution_count": null,
   "metadata": {},
   "outputs": [],
   "source": [
    "collab_graph = nx.read_gml(\"collab_graph_new.gml\") "
   ]
  },
  {
   "cell_type": "markdown",
   "metadata": {},
   "source": [
    "The code in `f3_shortest_walk` function is broken down into several steps:\n",
    "\n",
    "1. **Purpose**:\n",
    "    - The function aims to determine the shortest path between the `start_node` and `end_node` while passing through a given set of `mid_nodes`. Additionally, it identifies the papers coauthored between each consecutive pair of nodes in the final path.\n",
    "\n",
    "2. **Inputs**:\n",
    "    - `graph`: A graph object where nodes represent authors, and edges represent collaborations between them.\n",
    "    - `mid_nodes`: A list of nodes through which the path must pass.\n",
    "    - `start_node`: The starting node for the path.\n",
    "    - `end_node`: The ending node for the path.\n",
    "    - `N`: The number of top nodes to consider based on the highest degree of collaborations.\n",
    "\n",
    "3. **Processing Steps**:\n",
    "    - **Top N authors with the largest number of collaborations**: \n",
    "        - The code calculates the degree of each node (number of collaborations for each author) and sorts them in descending order, selecting the top N nodes.\n",
    "    - **Subgraph Creation**:\n",
    "        - A subgraph is created from the main graph containing only the top N nodes, reducing the search space for the shortest path.\n",
    "    - **Path Initialization**:\n",
    "        - Initializes the final path with the start node and prepares a list of all nodes (`all_nodes`) by combining `start_node`, `mid_nodes`, and `end_node`.\n",
    "    - **Shortest Path Calculation**:\n",
    "        - Iteratively calculates the shortest path between consecutive nodes in the `all_nodes` list using Breadth-First Search (BFS). The shortest paths are concatenated to form the final path.\n",
    "        - If there's no path between any two consecutive nodes, it returns a message indicating the absence of a path.\n",
    "    - **Collecting Coauthored Papers**:\n",
    "        - For each consecutive pair of nodes in the final path, the code retrieves the set of papers coauthored by the two authors (nodes) and accumulates them into `cross_papers`.\n",
    "\n",
    "4. **Outputs**:\n",
    "    - Returns a tuple containing:\n",
    "        - `final_path`: A list of nodes representing the shortest ordered walk through the corresponding nodes.\n",
    "        - `cross_papers`: A set of papers that were coauthored by each pair of consecutive nodes in the `final_path`.\n",
    "\n",
    "5. **Additional Functions**:\n",
    "    - `BFS_shortest_path()`: A function used to compute the shortest path between two nodes in a graph using the Breadth-First Search algorithm."
   ]
  },
  {
   "cell_type": "code",
   "execution_count": null,
   "metadata": {},
   "outputs": [],
   "source": [
    "def BFS_shortest_path(graph, start_node, end_node):\n",
    "    visited = []\n",
    "    queue = [[start_node]]\n",
    "    \n",
    "    if start_node == end_node:\n",
    "        print(\"Error: Start Node = End Node\")\n",
    "        return None\n",
    "    while queue:\n",
    "        path = queue.pop(0)\n",
    "        node = path[-1]\n",
    "    \n",
    "        # Proceed if the node is not visited\n",
    "        if node not in visited:\n",
    "            neighbours = graph.neighbors(str(node))\n",
    "             \n",
    "            # Go through all neighbours of the node\n",
    "            for neighbour in neighbours:\n",
    "                new_path = list(path)\n",
    "                new_path.append(neighbour)\n",
    "                queue.append(new_path)\n",
    "                 \n",
    "                # Check if we reach the target\n",
    "                if neighbour == end_node:\n",
    "                    return new_path\n",
    "            visited.append(node)\n",
    "            \n",
    "    # If the nodes are not connected    \n",
    "    return None"
   ]
  },
  {
   "cell_type": "code",
   "execution_count": null,
   "metadata": {},
   "outputs": [],
   "source": [
    "def f3_shortest_walk(graph, mid_nodes, start_node, end_node, N):\n",
    "    # Compute Top N authors with the largest number of collaborations\n",
    "    degree = graph.degree()\n",
    "    sorted_nodes = sorted(degree, key=lambda x: x[1], reverse=True)[:N]\n",
    "    top_N_nodes = [node for node, degree in sorted_nodes]\n",
    "    subgraph = graph.subgraph(top_N_nodes)\n",
    "    \n",
    "    #Initiate a final path as a list\n",
    "    final_path = [start_node]\n",
    "    \n",
    "    #Combine the start and end nodes with mid_notes in same list\n",
    "    all_nodes = [start_node]\n",
    "    all_nodes += mid_nodes\n",
    "    all_nodes.append(end_node)\n",
    "    \n",
    "    #Go through each node in the all nodes list \n",
    "    #and compute the shortest path from one node to another\n",
    "    #in the correspoding order\n",
    "    for i in range(len(all_nodes)-1):\n",
    "        current_node = all_nodes[i]\n",
    "        next_node = all_nodes[i+1]\n",
    "        \n",
    "        path = BFS_shortest_path(subgraph, current_node, next_node)\n",
    "        if not path: return 'There is no such path'\n",
    "        final_path += path[1:]\n",
    "                \n",
    "    cross_papers = set()\n",
    "    \n",
    "    for i in range(len(final_path)-1):\n",
    "        current_node = final_path[i]\n",
    "        next_node = final_path[i+1]\n",
    "        \n",
    "        papers_coauthored = set(subgraph[current_node][next_node]['papers_coauthored'])\n",
    "        cross_papers = cross_papers.union(papers_coauthored)  \n",
    "        \n",
    "    return final_path, cross_papers"
   ]
  },
  {
   "cell_type": "code",
   "execution_count": null,
   "metadata": {},
   "outputs": [
    {
     "data": {
      "text/plain": [
       "(['2065847026',\n",
       "  '173839695',\n",
       "  '1973035492',\n",
       "  '2034164144',\n",
       "  '1976452423',\n",
       "  '1973035492',\n",
       "  '2111642879',\n",
       "  '1973035492',\n",
       "  '2114532620'],\n",
       " {1900337607,\n",
       "  1964733653,\n",
       "  1986223165,\n",
       "  2084620487,\n",
       "  2095718954,\n",
       "  2107644675,\n",
       "  2108401170,\n",
       "  2116423958,\n",
       "  '2164461702',\n",
       "  '2557496587',\n",
       "  '2605068739',\n",
       "  '2739999456',\n",
       "  '2772934464'})"
      ]
     },
     "metadata": {},
     "output_type": "display_data"
    }
   ],
   "source": [
    "f3_shortest_walk(collab_graph, ['173839695','2034164144','1976452423','2111642879'], '2065847026', '2114532620', 20)"
   ]
  },
  {
   "cell_type": "markdown",
   "metadata": {},
   "source": [
    "##### ChatGPT (v3.5) Implementation:"
   ]
  },
  {
   "cell_type": "code",
   "execution_count": null,
   "metadata": {},
   "outputs": [],
   "source": [
    "import networkx as nx\n",
    "import heapq\n",
    "\n",
    "def shortest_ordered_walk_ChatGPT(graph, mid_nodes, start_node, end_node, N):\n",
    "    def dijkstra_shortest_path(graph, start, end):\n",
    "        heap = [(0, start, [])]  # Priority queue for Dijkstra's algorithm\n",
    "        visited = set()  # Set to track visited nodes\n",
    "\n",
    "        while heap:\n",
    "            (cost, current_node, path) = heapq.heappop(heap)\n",
    "\n",
    "            if current_node not in visited:\n",
    "                path = path + [current_node]\n",
    "                if current_node == end:\n",
    "                    return path\n",
    "\n",
    "                visited.add(current_node)\n",
    "                for neighbor in graph.neighbors(current_node):\n",
    "                    if neighbor not in visited:\n",
    "                        heapq.heappush(heap, (cost + 1, neighbor, path))\n",
    "\n",
    "        return None\n",
    "\n",
    "    final_path = []\n",
    "    current_node = start_node\n",
    "\n",
    "    # Find the shortest path for each step of the walk\n",
    "    for mid_node in mid_nodes:\n",
    "        path = dijkstra_shortest_path(graph, current_node, mid_node)\n",
    "\n",
    "        if path is None:\n",
    "            return \"No path found\"\n",
    "\n",
    "        final_path += path[:-1]  # Add all nodes except the last one\n",
    "        current_node = mid_node  # Update the current node for the next step\n",
    "\n",
    "    # Find the shortest path from the last mid_node to the end_node\n",
    "    path = dijkstra_shortest_path(graph, current_node, end_node)\n",
    "\n",
    "    if path is None:\n",
    "        return \"No path found\"\n",
    "\n",
    "    final_path += path  # Add the last path to the final path\n",
    "\n",
    "    return final_path"
   ]
  },
  {
   "cell_type": "code",
   "execution_count": null,
   "metadata": {},
   "outputs": [
    {
     "data": {
      "text/plain": [
       "['2065847026',\n",
       " '173839695',\n",
       " '1973035492',\n",
       " '2034164144',\n",
       " '1976452423',\n",
       " '1973035492',\n",
       " '2111642879',\n",
       " '1973035492',\n",
       " '2114532620']"
      ]
     },
     "metadata": {},
     "output_type": "display_data"
    }
   ],
   "source": [
    "shortest_ordered_walk_ChatGPT(collab_graph, ['173839695','2034164144','1976452423','2111642879'], '2065847026', '2114532620', 20)"
   ]
  },
  {
   "cell_type": "markdown",
   "metadata": {},
   "source": [
    "**Comparison of Implementations:**\n",
    "\n",
    "Both implementations found the correct shortest ordered walk. My original code used a BFS algorithm, while ChatGPT employed Dijkstra's algorithm with heaps.\n",
    "\n",
    "**Key Notes:**\n",
    "\n",
    "1. ***Algorithm Choice:*** My code used BFS, ChatGPT used Dijkstra's.\n",
    "2. ***Sequential Path Computation:*** ChatGPT's approach considered the order of traversal, ensuring it followed the specified sequence of mid_nodes (as my implementation.\n",
    "3. ***Path Storage:*** Both implementations stored the path as it was computed. ChatGPT's approach used Dijkstra's to build the ordered walk incrementally.\n",
    "\n",
    "In summary, both implementations produced the same result, but ChatGPT's approach added sequential ordering and employed Dijkstra's algorithm."
   ]
  },
  {
   "cell_type": "markdown",
   "metadata": {},
   "source": [
    "#### Functionality 4 - Disconnecting Graphs\n",
    "Input: \n",
    "- The graph data \n",
    "- authorA: a paper to which will relate sub-graph G\\_a\n",
    "- authorB: a paper to which will relate sub-graph G\\_b\n",
    "- $N$: denoting the top $N$ authors that their data should be considered\n",
    "\n",
    "Output:\n",
    "- The minimum number of edges (by considering their weights) required to disconnect the original graph in two disconnected subgraphs: G\\_a and G\\_b.\n"
   ]
  },
  {
   "cell_type": "markdown",
   "metadata": {},
   "source": [
    "##### Min Cut Implementation\n",
    "\n",
    "This document outlines the steps and the algorithm used to find the minimum cut in a graph representing collaborations between authors.\n",
    "\n",
    "***Steps***\n",
    "1. **Subgraph Identification**:\n",
    "   - Find the subgraph of the top N authors.\n",
    "   \n",
    "2. **Min Cut Calculation**:\n",
    "   - Find the minimum cut using the Stoer-Wagner Algorithm.\n",
    "   \n",
    "3. **Disconnected Edges Counting**:\n",
    "   - Count the disconnected edges simply by counting the edges between the two disjoint subsets of nodes (Ga and Gb) obtained after the cut.\n",
    "\n",
    "#### Stoer-Wagner Algorithm Implementation\n",
    "\n",
    "The following is a breakdown of the Stoer-Wagner Algorithm as implemented in the provided code.\n",
    "\n",
    "***Functions***\n",
    "\n",
    "**`maximum_adjacency_search(g, start)`**\n",
    "\n",
    "**Purpose**: This function performs a maximum adjacency search on a graph to find the most tightly connected node to the already found set.\n",
    "\n",
    "\n",
    "**`merge_vertices_from_cut(g, cut)`**\n",
    "\n",
    "**Purpose**: This function merges the vertices specified in the cut into a single node, effectively 'cutting' the graph.\n",
    "\n",
    "\n",
    "**`BestMinCut(g, source, sink)`**\n",
    "\n",
    "**Purpose**: This function iteratively applies the `maximum_adjacency_search` and `merge_vertices_from_cut` functions to find the best minimum cut of the graph.\n"
   ]
  },
  {
   "cell_type": "markdown",
   "metadata": {},
   "source": [
    "**Sources Used:**\n",
    "- [Minimum Cut - Stoer–Wagner algorithm (Coding with Thomas)](https://blog.thomasjungblut.com/graph/mincut/mincut/)\n",
    "- [A simple min cut algorithm by Stoer and Wagner](https://dl.acm.org/doi/pdf/10.1145/263867.263872)\n",
    "- [wikipedia](https://en.wikipedia.org/wiki/Stoer%E2%80%93Wagner_algorithm)"
   ]
  },
  {
   "cell_type": "markdown",
   "metadata": {},
   "source": [
    "**`maximum_adjacency_search(g, start)`**\n",
    "\n",
    "- `found_set`: Initialized with the starting node and progressively includes nodes that maximize the adjacency to the already found set.\n",
    "- `cut_weight`: Tracks the weight of the cut as nodes are added to the found set.\n",
    "- `candidates`: The set of nodes not yet included in the found set.\n",
    "\n",
    "**Process**:\n",
    "- Iteratively select the next vertex that has the maximum weighted edge connecting it to the already found set.\n",
    "- Update the `found_set` and `cut_weight` with each iteration.\n",
    "- Continue until all candidates are included in the found set.\n",
    "\n",
    "**Output**: \n",
    "- Returns a tuple containing the last two nodes added to the found set and the corresponding cut weight. These nodes are critical for determining where the graph will be 'cut'."
   ]
  },
  {
   "cell_type": "code",
   "execution_count": null,
   "metadata": {},
   "outputs": [],
   "source": [
    "def maximum_adjacency_search(g, start):\n",
    "    \n",
    "    found_set = [start]\n",
    "    cut_weight = []\n",
    "    candidates = set(g.nodes())\n",
    "    \n",
    "    candidates.remove(start)\n",
    "\n",
    "    while candidates:\n",
    "        max_next_vertex = None\n",
    "        max_weight = float('-inf')\n",
    "        for next_vertex in candidates:\n",
    "            weight_sum = 0\n",
    "            for s in found_set:\n",
    "                edge = g.get_edge_data(next_vertex, s)\n",
    "                if edge:\n",
    "                    weight_sum += edge['weight']\n",
    "\n",
    "            if weight_sum > max_weight:\n",
    "                max_next_vertex = next_vertex\n",
    "                max_weight = weight_sum\n",
    "\n",
    "        candidates.remove(max_next_vertex)\n",
    "        found_set.append(max_next_vertex)\n",
    "        cut_weight.append(max_weight)\n",
    "\n",
    "    n = len(found_set)\n",
    "    return (found_set[n - 2], found_set[n - 1], cut_weight[-1])\n"
   ]
  },
  {
   "cell_type": "markdown",
   "metadata": {},
   "source": [
    "**`merge_vertices_from_cut(g, cut)`**\n",
    "\n",
    "- `s, t`: The nodes to be merged as determined from the cut.\n",
    "- `neighbor`: Each neighbor of node `t` is considered for merging.\n",
    "\n",
    "**Process**:\n",
    "- For each neighbor of `t`, merge it with `s` by summing the weights of the edges connecting them to `t` and `s`.\n",
    "- Remove node `t` from the graph after merging.\n"
   ]
  },
  {
   "cell_type": "code",
   "execution_count": null,
   "metadata": {},
   "outputs": [],
   "source": [
    "def merge_vertices_from_cut(g, cut):\n",
    "    s, t, _ = cut  \n",
    "    for neighbor in list(g.neighbors(t)):\n",
    "        if g.has_edge(s, neighbor): \n",
    "            weight = g[s][neighbor].get('weight', 0) + g[t][neighbor].get('weight', 0)\n",
    "            g.add_edge(s, neighbor, weight=weight)\n",
    "        else: \n",
    "            g.add_edge(s, neighbor, weight=g[t][neighbor].get('weight', 0))\n",
    "\n",
    "    g.remove_node(t)\n",
    "    return g"
   ]
  },
  {
   "cell_type": "markdown",
   "metadata": {},
   "source": [
    "**`BestMinCut(g, source, sink)`**\n",
    "\n",
    "- `current_partition`: Tracks the set of nodes in the current partition.\n",
    "- `current_best_partition`: Stores the nodes of the best partition found so far (Gb graph).\n",
    "- `current_best_cut`: Stores the weight of the best cut found so far.\n",
    "\n",
    "**Process**:\n",
    "- Perform the maximum adjacency search from the source node.\n",
    "- Check if the sink is in the cut or the current partition.\n",
    "  - If so, compare the current cut's weight with the best found so far. Update the best cut and partition if this cut is better.\n",
    "- Add the node `t` from the cut to the current partition and merge the nodes in the cut.\n",
    "- Repeat the process until the graph is reduced to one node.\n",
    "\n",
    "**Output**: \n",
    "- Returns the best partition and the weight of the minimum cut if a partition is found. Otherwise, returns None."
   ]
  },
  {
   "cell_type": "code",
   "execution_count": null,
   "metadata": {},
   "outputs": [],
   "source": [
    "def BestMinCut(g, source, sink):\n",
    "    # if source is a sink return error\n",
    "    if source == sink:\n",
    "        raise ValueError(\"Source and Sink are the same\")\n",
    "    \n",
    "    current_partition = set()\n",
    "    #current best partition will contain the nodes of the Gb graph\n",
    "    current_best_partition = None\n",
    "    # current best cut is a weight of the min cut\n",
    "    current_best_cut = None\n",
    "    \n",
    "    # while there is a node in a graph\n",
    "    while g.number_of_nodes() > 1:\n",
    "        # calculating the adjacency node\n",
    "        cut_of_the_phase = maximum_adjacency_search(g, source)\n",
    "        if sink == cut_of_the_phase[1] or sink in current_partition:\n",
    "            #cut[2] = cut.weight\n",
    "            if current_best_cut is None or (cut_of_the_phase[2] < current_best_cut[2]):\n",
    "                current_best_cut = cut_of_the_phase\n",
    "                current_best_partition = set(current_partition)\n",
    "                current_best_partition.add(cut_of_the_phase[1]) # t\n",
    "\n",
    "        current_partition.add(cut_of_the_phase[1]) #t \n",
    "        g = merge_vertices_from_cut(g, cut_of_the_phase)\n",
    "\n",
    "    if current_best_partition and current_best_cut: \n",
    "        return current_best_partition, current_best_cut[2] #weight\n",
    "    else:\n",
    "        return None\n"
   ]
  },
  {
   "cell_type": "code",
   "execution_count": null,
   "metadata": {},
   "outputs": [],
   "source": [
    "def count_disconnected_edges(G, Gb):\n",
    "    # Ga and Gb are two separate subgraphs\n",
    "    # such that combining the nodes of Ga and Gb we get G\n",
    "    \n",
    "    # Create Ga subset\n",
    "    Ga = set(G.nodes()) - set(Gb)\n",
    "    \n",
    "    # Edge Count\n",
    "    edge_count = 0\n",
    "    # For each node in the \n",
    "    for u, v in G.edges():\n",
    "        if (u in Ga and v in Gb) or (u in Gb and v in Ga):\n",
    "            edge_count += 1\n",
    "    return edge_count, Ga\n"
   ]
  },
  {
   "cell_type": "code",
   "execution_count": null,
   "metadata": {},
   "outputs": [],
   "source": [
    "def f4_MinCut(graph, authorA, authorB, N):\n",
    "        \n",
    "    # num_disconnect_edges = The minimum number of edges (by considering their weights) \n",
    "    #                        required to disconnect the original graph in two \n",
    "    #                        disconnected subgraphs: G_a and G_b. \n",
    "    \n",
    "    # Ga = nodes of author A subgraph\n",
    "    # Gb = nodes of author B subgraph\n",
    "    \n",
    "    degree = graph.degree()\n",
    "    sorted_nodes = sorted(degree, key=lambda x: x[1], reverse=True)[:N]\n",
    "    top_N_nodes = [node for node, degree in sorted_nodes]\n",
    "    subgraph = graph.subgraph(top_N_nodes)\n",
    "    \n",
    "    min_cut =  BestMinCut(subgraph.copy(), authorA, authorB)\n",
    "    if not min_cut: return f'There is no min cut found between {authorA} and {authorB}'\n",
    "    \n",
    "    Gb, cut_weight = min_cut\n",
    "\n",
    "    num_disconnect_edges, Ga = count_disconnected_edges(subgraph, Gb)\n",
    "\n",
    "    \n",
    "    # cut_weight: the weight of the minimum cut\n",
    "    return num_disconnect_edges, Ga, Gb, cut_weight"
   ]
  },
  {
   "cell_type": "markdown",
   "metadata": {},
   "source": [
    "[Example from Source](https://www.researchgate.net/publication/220223980_Efficient_Algorithms_for_the_Problems_of_Enumerating_Cuts_by_Non-decreasing_Weights)\n",
    "\n",
    "![example](example.png)\n"
   ]
  },
  {
   "cell_type": "code",
   "execution_count": null,
   "metadata": {},
   "outputs": [
    {
     "data": {
      "text/plain": [
       "(2, {'V1', 'V2', 'V4', 'V5'}, {'V3', 'V6', 'V7'}, 9)"
      ]
     },
     "metadata": {},
     "output_type": "display_data"
    }
   ],
   "source": [
    "# Example Test\n",
    "source = 'V1'\n",
    "sink = 'V7'\n",
    "\n",
    "\n",
    "G = nx.Graph()\n",
    "\n",
    "G.add_edge('V1', 'V2', weight=4)\n",
    "G.add_edge('V1', 'V5', weight=1)\n",
    "G.add_edge('V1', 'V4', weight=5)\n",
    "G.add_edge('V2', 'V3', weight=4)\n",
    "G.add_edge('V2', 'V5', weight=10)\n",
    "G.add_edge('V3', 'V7', weight=6)\n",
    "G.add_edge('V3', 'V6', weight=10)\n",
    "G.add_edge('V4', 'V5', weight=5)\n",
    "G.add_edge('V5', 'V6', weight=5)\n",
    "G.add_edge('V6', 'V7', weight=4)\n",
    "\n",
    "g = G.copy()\n",
    "\n",
    "f4_MinCut(g, source, sink, 7)"
   ]
  },
  {
   "cell_type": "code",
   "execution_count": null,
   "metadata": {},
   "outputs": [
    {
     "data": {
      "text/plain": [
       "(4,\n",
       " {'1566488673', '1976452423', '1984280187', '2034164144'},\n",
       " {'173839695',\n",
       "  '1973035492',\n",
       "  '2111642879',\n",
       "  '2120643991',\n",
       "  '2146468246',\n",
       "  '332422508'},\n",
       " 4)"
      ]
     },
     "metadata": {},
     "output_type": "display_data"
    }
   ],
   "source": [
    "#Test on Collab Graph\n",
    "authorA = '2034164144'\n",
    "authorB = '332422508'\n",
    "\n",
    "f4_MinCut(collab_graph, authorA, authorB, N = 10)"
   ]
  },
  {
   "cell_type": "markdown",
   "metadata": {},
   "source": [
    "#### Functionality 5 - Extracting Communities\n",
    "Input: \n",
    "- The graph data \n",
    "- $N$: denoting the top $N$ papers that their data should be considered\n",
    "- Paper\\_1: denoting the name of one of the papers \n",
    "- Paper\\_2: denoting the name of one of the papers\n",
    "\n",
    "Output:\n",
    "- The minimum number of edges that should be removed to form communities\n",
    "- A list of communities, each containing a list of papers that belong to them.\n",
    "- Whether the Paper\\_1 and Paper\\_2 belongs to the same community. \n",
    "\n",
    "Important Notes:  \n",
    "To comprehend this functionality better, we suggest you take a good look at this [article](https://www.analyticsvidhya.com/blog/2020/04/community-detection-graphs-networks/)\n"
   ]
  },
  {
   "cell_type": "markdown",
   "metadata": {},
   "source": [
    "##### Community Extraction in Citation Graphs\n",
    "\n",
    "The function `f_5_Community_Extraction(graph, paper1, paper2, N)` is designed to determine whether two papers are part of the same community:\n",
    "\n",
    "**Steps of Community Extraction**\n",
    "\n",
    "1. **Convert to Undirected Graph**: \n",
    "   - Initially, the citation graph is converted to an undirected graph to simplify the analysis of connections between nodes.\n",
    "\n",
    "2. **Identify Top N Nodes**:\n",
    "   - The function identifies the top N nodes (authors) based on the number of connections (degrees) they have.\n",
    "\n",
    "3. **Check Paper Existence**:\n",
    "   - It checks whether both papers (`paper1` and `paper2`) are present in the graph. If either is missing from the top N nodes' subgraph, an error is raised.\n",
    "\n",
    "4. **Find Connected Components**:\n",
    "   - The `connected_components` function is used to find all the connected components in the graph. Due to the sparsity of citation graphs, there's a chance that the graph of top N nodes will be disconnected, resulting in multiple components.\n",
    "\n",
    "5. **Select Relevant Component**:\n",
    "   - Since the citation graph is likely sparse, and thus the top N nodes might not form a connected graph, the function selects only the component where `paper1` is present.\n",
    "\n",
    "6. **Girvan-Newman Algorithm**:\n",
    "   - The Girvan-Newman algorithm is implemented to detect communities within the graph. This algorithm iteratively removes edges with the highest edge betweenness centrality until the desired number of communities is achieved.\n",
    "\n",
    "7. **Determine Community Membership**:\n",
    "   - Finally, the function checks if `paper1` and `paper2` are in the same community and stores this information in the `same_community` variable.\n"
   ]
  },
  {
   "cell_type": "code",
   "execution_count": null,
   "metadata": {},
   "outputs": [],
   "source": [
    "citation_graph = nx.read_graphml(\"citation_graph.graphml\")"
   ]
  },
  {
   "cell_type": "markdown",
   "metadata": {},
   "source": [
    "##### Connected Components Implementation\n",
    "\n",
    "The connected components are identified using a Depth-First Search (DFS) algorithm.\n",
    "\n",
    "**DFS Algorithm**\n",
    "- **Function**: `dfs(graph, node, visited, component)`\n",
    "  - It traverses the graph from a given node, marking visited nodes and adding them to the current component.\n",
    "\n",
    "**Connected Components Function**\n",
    "- **Function**: `connected_components(graph)`\n",
    "  - It initializes structures for tracking visited nodes and components. Then, for each unvisited node, it calls the DFS function to explore the entire component."
   ]
  },
  {
   "cell_type": "code",
   "execution_count": null,
   "metadata": {},
   "outputs": [],
   "source": [
    "# Define the DFS function\n",
    "def dfs(graph, node, visited, component):\n",
    "    # Mark visited node as  true\n",
    "    visited[node] = True\n",
    "\n",
    "    # Add it to the current component\n",
    "    component.append(node)\n",
    "\n",
    "    # Go through all the adjacent nodes\n",
    "    for i in list(graph[node]):\n",
    "        if not visited[i]:\n",
    "            dfs(graph, i, visited, component)"
   ]
  },
  {
   "cell_type": "code",
   "execution_count": null,
   "metadata": {},
   "outputs": [],
   "source": [
    "def connected_components(graph):\n",
    "    # Declare the list for connected components\n",
    "    connect_comps = []\n",
    "    # All nodes of the graph\n",
    "    nodes = list(graph.nodes())\n",
    "    # Dictionary for visited nodes\n",
    "    visited = {}\n",
    "    # Initialize all nodes as not visited\n",
    "    for i in range(len(nodes)):\n",
    "        visited[nodes[i]] = False\n",
    "        \n",
    "    # For each node run DFS\n",
    "    for node in nodes:\n",
    "        if visited[node] == False:\n",
    "            # current component update\n",
    "            current_comp = []\n",
    "            dfs(graph, node, visited, current_comp)\n",
    "            connect_comps.append(current_comp)\n",
    "    return connect_comps"
   ]
  },
  {
   "cell_type": "markdown",
   "metadata": {},
   "source": [
    "##### Girvan-Newman Algorithm Implementation\n",
    "\n",
    "The Girvan-Newman algorithm is a method for detecting communities in networks.\n",
    "\n",
    "**Process**\n",
    "1. **Initial Connected Components**: \n",
    "   - Find the initial set of connected components in the graph.\n",
    "\n",
    "2. **Iterative Edge Removal**:\n",
    "   - Until there's more than one connected component:\n",
    "     - Calculate the edge betweenness centrality of all edges.\n",
    "     - Remove the edge with the highest betweenness centrality.\n",
    "     - Recalculate the number of connected components.\n",
    "\n",
    "3. **Output**:\n",
    "   - The function returns the minimum number of edges that need to be cut and the resulting connected components.\n"
   ]
  },
  {
   "cell_type": "code",
   "execution_count": null,
   "metadata": {},
   "outputs": [],
   "source": [
    "def girvan_newman_algorithm(graph):\n",
    "    \n",
    "    # Compute connected components\n",
    "    cc = connected_components(graph)\n",
    "    num_edges_to_cut = 0\n",
    "    \n",
    "    while len(cc) == 1:\n",
    "        \n",
    "        # Remove the edge with the max edge betweenness centrality\n",
    "        edge_betweenness = nx.edge_betweenness_centrality(graph)\n",
    "        edge_betweenness = edge_betweenness.items()\n",
    "        edge_to_delete = sorted(edge_betweenness, key = lambda pair: pair[1], reverse = True)[0][0]\n",
    "        graph.remove_edge(*edge_to_delete)\n",
    "        num_edges_to_cut += 1\n",
    "        \n",
    "        # Update number of connected components\n",
    "        cc = connected_components(graph)\n",
    "        \n",
    "    return num_edges_to_cut, cc"
   ]
  },
  {
   "cell_type": "code",
   "execution_count": null,
   "metadata": {},
   "outputs": [],
   "source": [
    "def f_5_Community_Extraction(graph, paper1, paper2, N):\n",
    "    graph = graph.to_undirected()\n",
    "\n",
    "    degree = graph.degree()\n",
    "    sorted_nodes = sorted(degree, key=lambda pair: pair[1], reverse=True)[:N]\n",
    "    top_N_nodes = [node for node, degree in sorted_nodes]\n",
    "    subgraph = graph.subgraph(top_N_nodes)\n",
    "    \n",
    "    # Return Error if the Paper1 or Paper 2 is not in the \n",
    "    # top N nodes subgraph\n",
    "    for paper in [paper1, paper2]:\n",
    "        if paper not in top_N_nodes:\n",
    "            raise ValueError(f'The Graph does not have paper {paper}')\n",
    "            \n",
    "    # Since the citation graph is super sparse graph\n",
    "    # there could be more than one connected components\n",
    "    # Here, we are looking for the connected component where Paper 1 is present\n",
    "    \n",
    "    cc_subgraph = connected_components(subgraph)\n",
    "    \n",
    "    # Find the connected component where Paper1 is present\n",
    "    for component in cc_subgraph:\n",
    "        if paper1 in component:\n",
    "            component_p1 = component\n",
    "            break\n",
    "            \n",
    "    # Creating new subgraph that is the largest component from initial subgraph\n",
    "    subgraph_new = graph.subgraph(component_p1)\n",
    "    \n",
    "\n",
    "    # Implementing Girvan-Newman Algorithm\n",
    "    num_edges_to_cut, communities = girvan_newman_algorithm(subgraph_new.copy())\n",
    "    \n",
    "    # Check if the Paper1 and Paper2 are in the same commmunity\n",
    "    same_community = False\n",
    "\n",
    "    for community in communities:\n",
    "        if paper1 in community and paper2 in community:\n",
    "            same_community = True\n",
    "            break\n",
    "    \n",
    "    return num_edges_to_cut, communities, same_community, subgraph_new"
   ]
  },
  {
   "cell_type": "code",
   "execution_count": null,
   "metadata": {},
   "outputs": [],
   "source": [
    "# Example Test\n",
    "source = 'V1'\n",
    "sink = 'V7'\n",
    "\n",
    "\n",
    "# Create an empty graph\n",
    "G = nx.Graph()\n",
    "\n",
    "# Add edges along with their weights\n",
    "G.add_edge('V1', 'V2', weight=4)\n",
    "G.add_edge('V1', 'V5', weight=1)\n",
    "G.add_edge('V1', 'V4', weight=5)\n",
    "G.add_edge('V2', 'V3', weight=4)\n",
    "G.add_edge('V2', 'V5', weight=10)\n",
    "G.add_edge('V3', 'V7', weight=6)\n",
    "G.add_edge('V3', 'V6', weight=10)\n",
    "G.add_edge('V4', 'V5', weight=5)\n",
    "G.add_edge('V5', 'V6', weight=5)\n",
    "G.add_edge('V6', 'V7', weight=4)"
   ]
  },
  {
   "cell_type": "markdown",
   "metadata": {},
   "source": [
    "![example](example.png)\n"
   ]
  },
  {
   "cell_type": "code",
   "execution_count": null,
   "metadata": {},
   "outputs": [
    {
     "data": {
      "text/plain": [
       "(2,\n",
       " [['V1', 'V2', 'V5', 'V4'], ['V3', 'V7', 'V6']],\n",
       " False,\n",
       " <networkx.classes.graph.Graph at 0x25593c6db10>)"
      ]
     },
     "metadata": {},
     "output_type": "display_data"
    }
   ],
   "source": [
    "f_5_Community_Extraction(g, 'V7', 'V1', 7)"
   ]
  },
  {
   "cell_type": "code",
   "execution_count": null,
   "metadata": {},
   "outputs": [
    {
     "data": {
      "text/plain": [
       "(2,\n",
       " [['V1', 'V2', 'V5', 'V4'], ['V3', 'V7', 'V6']],\n",
       " True,\n",
       " <networkx.classes.graph.Graph at 0x255897aea50>)"
      ]
     },
     "metadata": {},
     "output_type": "display_data"
    }
   ],
   "source": [
    "f_5_Community_Extraction(g, 'V4', 'V1', 7)"
   ]
  },
  {
   "cell_type": "code",
   "execution_count": null,
   "metadata": {},
   "outputs": [
    {
     "data": {
      "text/plain": [
       "(1,\n",
       " [['2151103935',\n",
       "   '2076063813',\n",
       "   '2150341604',\n",
       "   '2072128103',\n",
       "   '2163922914',\n",
       "   '2592929672',\n",
       "   '2119350939',\n",
       "   '2106996050',\n",
       "   '2097128017',\n",
       "   '2042316011',\n",
       "   '2165949425',\n",
       "   '2115167851',\n",
       "   '2147555557'],\n",
       "  ['1969965298',\n",
       "   '2063727779',\n",
       "   '2337098149',\n",
       "   '2120340025',\n",
       "   '2159080219',\n",
       "   '47957325']],\n",
       " False,\n",
       " <networkx.classes.graph.Graph at 0x255a0c90850>)"
      ]
     },
     "metadata": {},
     "output_type": "display_data"
    }
   ],
   "source": [
    "f_5_Community_Extraction(citation_graph, '1969965298', '2592929672', 100)"
   ]
  },
  {
   "cell_type": "markdown",
   "metadata": {},
   "source": [
    "Sources Used:\n",
    "- [Community Detection : Data Science Concepts](https://www.youtube.com/watch?v=F4RVBAGJcFY)\n",
    "- [Connected Components in an Undirected Graph](https://www.geeksforgeeks.org/connected-components-in-an-undirected-graph/)\n",
    "- [GIRVAN NEWMAN BDA](https://www.youtube.com/watch?v=LtQoPEKKRYM)"
   ]
  },
  {
   "cell_type": "code",
   "execution_count": null,
   "metadata": {},
   "outputs": [],
   "source": [
    "# Loading graphs from external files\n",
    "citation_graph = nx.read_gml(\"citation_graph.gml\")\n",
    "collab_graph = nx.read_gml(\"collab_graph.gml\")"
   ]
  },
  {
   "cell_type": "markdown",
   "metadata": {},
   "source": [
    "### 2.2 Frontend Implementation"
   ]
  },
  {
   "cell_type": "markdown",
   "metadata": {},
   "source": [
    "#### Visualization 1 - Visualize graph features"
   ]
  },
  {
   "cell_type": "code",
   "execution_count": 374,
   "metadata": {},
   "outputs": [],
   "source": [
    "def f1_visualize(graph, name_of_graph):\n",
    "    \"\"\"\n",
    "    Visualizes Functionality #1 of the graph by printing general information about the graph\n",
    "    and displaying the top 20 hubs.\n",
    "\n",
    "    Parameters:\n",
    "    - graph: NetworkX graph\n",
    "        The graph on which Functionality #1 is to be visualized.\n",
    "    - name_of_graph: str\n",
    "        A string representing the name or identifier of the graph.\n",
    "\n",
    "    Returns:\n",
    "    None\n",
    "\n",
    "    Prints:\n",
    "    - General information about the graph, including the number of nodes, number of edges,\n",
    "      density, average degree, and whether the graph is considered dense.\n",
    "    - Top 20 hubs in the graph.\n",
    "\n",
    "    Note:\n",
    "    - The function internally uses another function 'f1_graph_features' to calculate\n",
    "      various features of the graph.\n",
    "    - NaN values in the list of hubs are handled to ensure proper display.\n",
    "\n",
    "    ```\n",
    "    \"\"\"\n",
    "    # Calculate various graph features using the internal function f1_graph_features\n",
    "    num_nodes, num_edges, density, degrees, avg_degree, hubs, isdense = f1_graph_features(graph, name_of_graph)\n",
    "\n",
    "    # Handling NaN values in the list of hubs\n",
    "    hubs = [hub for hub in hubs if str(hub) != 'nan']\n",
    "\n",
    "    # Display general information about the graph using PrettyTable\n",
    "    general_info = PrettyTable()\n",
    "    general_info.field_names = [\"Number of Nodes\", \"Number of Edges\", \"Density\", \"Average Degree\", \"Is Dense\"]\n",
    "    general_info.add_row([num_nodes, num_edges, density, avg_degree, isdense])\n",
    "    print(general_info)\n",
    "    print('\\n')\n",
    "\n",
    "    # Display the top 20 hubs using PrettyTable\n",
    "    hubs_info = PrettyTable()\n",
    "    hubs_info.title = \"Top 20 Hubs\"\n",
    "    hubs_info.field_names = [\"Index\", \"Hub\"]\n",
    "\n",
    "    # Adding the top 20 hubs to the PrettyTable\n",
    "    for i, hub in enumerate(hubs[:20]):\n",
    "        hubs_info.add_row([i+1, hub])\n",
    "\n",
    "    # Printing the PrettyTable containing the top 20 hubs\n",
    "    print(hubs_info)\n"
   ]
  },
  {
   "cell_type": "code",
   "execution_count": 375,
   "metadata": {},
   "outputs": [
    {
     "name": "stdout",
     "output_type": "stream",
     "text": [
      "+-----------------+-----------------+------------------------+-------------------+----------+\n",
      "| Number of Nodes | Number of Edges |        Density         |   Average Degree  | Is Dense |\n",
      "+-----------------+-----------------+------------------------+-------------------+----------+\n",
      "|      108934     |      189058     | 1.5932067732877706e-05 | 3.471055868691134 |  False   |\n",
      "+-----------------+-----------------+------------------------+-------------------+----------+\n",
      "\n",
      "\n",
      "+--------------------+\n",
      "|    Top 20 Hubs     |\n",
      "+-------+------------+\n",
      "| Index |    Hub     |\n",
      "+-------+------------+\n",
      "|   1   | 2151103935 |\n",
      "|   2   | 2153635508 |\n",
      "|   3   | 1791587663 |\n",
      "|   4   | 2103441770 |\n",
      "|   5   | 2126105956 |\n",
      "|   6   | 2161969291 |\n",
      "|   7   | 1686810756 |\n",
      "|   8   | 1522301498 |\n",
      "|   9   | 2133665775 |\n",
      "|   10  | 2121863487 |\n",
      "|   11  | 2163605009 |\n",
      "|   12  | 2132984323 |\n",
      "|   13  | 2064675550 |\n",
      "|   14  | 2296616510 |\n",
      "|   15  | 2194775991 |\n",
      "|   16  | 2100379340 |\n",
      "|   17  | 2133990480 |\n",
      "|   18  | 2173213060 |\n",
      "|   19  | 2159080219 |\n",
      "|   20  | 2139212933 |\n",
      "+-------+------------+\n"
     ]
    }
   ],
   "source": [
    "# example usage for the citation graph\n",
    "f1_visualize(citation_graph, 'citation graph')"
   ]
  },
  {
   "cell_type": "code",
   "execution_count": 376,
   "metadata": {},
   "outputs": [
    {
     "name": "stdout",
     "output_type": "stream",
     "text": [
      "+-----------------+-----------------+-----------------------+--------------------+----------+\n",
      "| Number of Nodes | Number of Edges |        Density        |   Average Degree   | Is Dense |\n",
      "+-----------------+-----------------+-----------------------+--------------------+----------+\n",
      "|      21235      |      136478     | 0.0006053528157956642 | 12.854061690605134 |  False   |\n",
      "+-----------------+-----------------+-----------------------+--------------------+----------+\n",
      "\n",
      "\n",
      "+--------------------+\n",
      "|    Top 20 Hubs     |\n",
      "+-------+------------+\n",
      "| Index |    Hub     |\n",
      "+-------+------------+\n",
      "|   1   | 1445484688 |\n",
      "|   2   | 2104401652 |\n",
      "|   3   | 2435751034 |\n",
      "|   4   | 2007415138 |\n",
      "|   5   | 2096217197 |\n",
      "|   6   | 2146468246 |\n",
      "|   7   | 215131072  |\n",
      "|   8   | 2429370538 |\n",
      "|   9   | 2575315241 |\n",
      "|   10  | 1822555116 |\n",
      "|   11  | 161269817  |\n",
      "|   12  | 2328522601 |\n",
      "|   13  | 2304583711 |\n",
      "|   14  | 1993363060 |\n",
      "|   15  | 2079517616 |\n",
      "|   16  | 2230831812 |\n",
      "|   17  | 2147318212 |\n",
      "|   18  | 2120643991 |\n",
      "|   19  | 2141862317 |\n",
      "|   20  | 1998464616 |\n",
      "+-------+------------+\n"
     ]
    }
   ],
   "source": [
    "# example usage for the collaboration graph\n",
    "f1_visualize(collab_graph, 'collaboration graph')"
   ]
  },
  {
   "cell_type": "markdown",
   "metadata": {},
   "source": [
    "##### Distribution of the papers based on citations"
   ]
  },
  {
   "cell_type": "code",
   "execution_count": 271,
   "metadata": {},
   "outputs": [
    {
     "data": {
      "image/png": "[encoded data removed]",
      "text/plain": [
       "<Figure size 640x480 with 1 Axes>"
      ]
     },
     "metadata": {},
     "output_type": "display_data"
    }
   ],
   "source": [
    "plt.hist(df['n_citation'][:20], bins=20, edgecolor='black')\n",
    "plt.title(f'Distribution of the first 20 papers based on the number of citations')\n",
    "plt.xlabel('Number of Citations')\n",
    "plt.ylabel('Frequency')\n",
    "plt.show()\n"
   ]
  },
  {
   "cell_type": "markdown",
   "metadata": {},
   "source": [
    "##### Distribution of the papers based on the references count"
   ]
  },
  {
   "cell_type": "code",
   "execution_count": 272,
   "metadata": {},
   "outputs": [
    {
     "data": {
      "image/png": "[encoded data removed]",
      "text/plain": [
       "<Figure size 640x480 with 1 Axes>"
      ]
     },
     "metadata": {},
     "output_type": "display_data"
    }
   ],
   "source": [
    "# plot the distribution of the first 20 papers based on the references count\n",
    "df_ = df.sort_values(by='reference_count', ascending=False)\n",
    "plt.hist(df_['reference_count'][:20], bins=20, edgecolor='black', color='orange')\n",
    "plt.title(f'Distribution of the first 20 papers based on the references count')\n",
    "plt.xlabel('references count')\n",
    "plt.ylabel('Frequency')\n",
    "plt.show()"
   ]
  },
  {
   "cell_type": "markdown",
   "metadata": {},
   "source": [
    "**Note:** The dataframe was used to plot the distributions for simplicity since its the same data used to construct the graph."
   ]
  },
  {
   "cell_type": "code",
   "execution_count": 273,
   "metadata": {},
   "outputs": [
    {
     "data": {
      "image/png": "[encoded data removed]",
      "text/plain": [
       "<Figure size 640x480 with 1 Axes>"
      ]
     },
     "metadata": {},
     "output_type": "display_data"
    }
   ],
   "source": [
    "# Calculate node degrees\n",
    "node_degrees = dict(collab_graph.degree())\n",
    "\n",
    "# Sort nodes by degree in descending order\n",
    "sorted_nodes = sorted(node_degrees.items(), key=lambda x: x[1], reverse=True)\n",
    "\n",
    "# Extract the top 20 nodes and their degrees\n",
    "top_nodes = sorted_nodes[:20]\n",
    "\n",
    "# Plot the distribution\n",
    "degrees = [degree for node, degree in top_nodes]\n",
    "\n",
    "plt.hist(degrees, bins=20, edgecolor='black', color='green')\n",
    "plt.title('Distribution of the top 20 authors based on the number of collaborations')\n",
    "plt.xlabel('number of collaborations')\n",
    "plt.ylabel('Frequency')\n",
    "plt.show()"
   ]
  },
  {
   "cell_type": "markdown",
   "metadata": {},
   "source": [
    "#### Visualization 2 - Visualize the node's contribution\n"
   ]
  },
  {
   "cell_type": "code",
   "execution_count": 299,
   "metadata": {},
   "outputs": [],
   "source": [
    "def f2_visualize(graph, node, name_of_graph):\n",
    "    \"\"\"\n",
    "    Visualizes Functionality #2 by printing the contribution of a specific node in the graph\n",
    "    based on various centrality measures.\n",
    "\n",
    "    Parameters:\n",
    "    - graph: NetworkX graph\n",
    "        The graph on which Functionality #2 is to be visualized.\n",
    "    - node: int\n",
    "        The node for which the contribution is to be visualized.\n",
    "    - name_of_graph: str\n",
    "        A string representing the name or identifier of the graph.\n",
    "\n",
    "    Returns:\n",
    "    None\n",
    "\n",
    "    Prints:\n",
    "    - Contribution of the specified node in the graph, including Betweenness Centrality,\n",
    "      PageRank, Closeness Centrality, and Degree Centrality.\n",
    "\n",
    "    Note:\n",
    "    - The function internally uses another function 'f2_nodes_contribution' to calculate\n",
    "      the contribution of the specified node based on various centrality measures.\n",
    "\n",
    "    ```\n",
    "    \"\"\"\n",
    "    # Calculate the contribution of the specified node using the internal function f2_nodes_contribution\n",
    "    bc_node, pr_node, cc_node, dc_node = f2_nodes_contribution(graph, node, name_of_graph)\n",
    "\n",
    "    # Display general information about the node using PrettyTable\n",
    "    general_info = PrettyTable()\n",
    "    general_info.title = f\"Node {node} contribution in the {name_of_graph}\"\n",
    "    general_info.field_names = [\"Betweenness Centrality\", \"PageRank\", \"Closeness Centrality\", \"Degree Centrality\"]\n",
    "    general_info.add_row([bc_node, pr_node, cc_node, dc_node])\n",
    "\n",
    "    # Printing the PrettyTable containing the node's contribution\n",
    "    print(general_info)\n"
   ]
  },
  {
   "cell_type": "code",
   "execution_count": 305,
   "metadata": {},
   "outputs": [
    {
     "name": "stdout",
     "output_type": "stream",
     "text": [
      "+-------------------------------------------------------------------------------------------------+\n",
      "|                      Node 163014821 contribution in the collaboration graph                     |\n",
      "+------------------------+-----------------------+------------------------+-----------------------+\n",
      "| Betweenness Centrality |        PageRank       |  Closeness Centrality  |   Degree Centrality   |\n",
      "+------------------------+-----------------------+------------------------+-----------------------+\n",
      "| 8.250870430233785e-08  | 6.849168149974057e-05 | 0.00034678517300726965 | 0.0003296599792785156 |\n",
      "+------------------------+-----------------------+------------------------+-----------------------+\n"
     ]
    }
   ],
   "source": [
    "# example usage for the collaboration graph\n",
    "f2_visualize(collab_graph, node = '163014821', name_of_graph = 'collaboration graph')"
   ]
  },
  {
   "cell_type": "markdown",
   "metadata": {},
   "source": [
    "#### Visualization 3 - Visualize the shortest-ordered route\n"
   ]
  },
  {
   "cell_type": "code",
   "execution_count": 336,
   "metadata": {},
   "outputs": [],
   "source": [
    "def subgraph(graph):\n",
    "\n",
    "    # number of nodes in the subgraph\n",
    "    N = 1000\n",
    "    nodes = list(graph.nodes())[:N]  \n",
    "    subgraph = nx.Graph()  \n",
    "    # Adds the subset_nodes to the subgraph\n",
    "    subgraph.add_nodes_from(nodes)\n",
    "\n",
    "    return subgraph\n",
    "    "
   ]
  },
  {
   "cell_type": "code",
   "execution_count": 310,
   "metadata": {},
   "outputs": [],
   "source": [
    "def f3_visualize(graph, mid_nodes, start_node, end_node, N):\n",
    "    \"\"\"\n",
    "    Visualizes Functionality #3 by printing the papers crossed along the shortest-ordered route\n",
    "    and creating a plot of the shortest-ordered route in the collaboration graph.\n",
    "\n",
    "    Parameters:\n",
    "    - graph: NetworkX graph\n",
    "        The collaboration graph on which Functionality #3 is to be visualized.\n",
    "    - mid_nodes: list of int\n",
    "        The list of intermediate nodes through which the shortest-ordered route passes.\n",
    "    - start_node: int\n",
    "        The starting node of the route.\n",
    "    - end_node: int\n",
    "        The ending node of the route.\n",
    "    - N: int\n",
    "        The maximum number of papers to be considered.\n",
    "\n",
    "    Returns:\n",
    "    None\n",
    "\n",
    "    Prints:\n",
    "    - Table displaying the papers crossed along the shortest-ordered route.\n",
    "    - Plot of the shortest-ordered route in the collaboration graph.\n",
    "\n",
    "    Note:\n",
    "    - The function internally uses another function 'f3_shortest_walk' to calculate\n",
    "      the shortest-ordered route and the papers crossed along it.\n",
    "    ```\n",
    "    \"\"\"\n",
    "    # Calculate the shortest-ordered route and papers crossed along it using the internal function f3_shortest_walk\n",
    "    shortest_walk, cross_papers = f3_shortest_walk(graph, mid_nodes, start_node, end_node, N)\n",
    "\n",
    "    # Display the papers crossed along the shortest-ordered route using PrettyTable\n",
    "    table = PrettyTable()\n",
    "    table.title = 'Papers crossed along the shortest-ordered route'\n",
    "    table.field_names = [\"index\", \"paper id\"]\n",
    "\n",
    "    for i, paper_id in enumerate(shortest_walk):\n",
    "        table.add_row([i+1, paper_id])\n",
    "\n",
    "    print(table)\n",
    "    print('\\n')\n",
    "\n",
    "    # Create a subgraph containing the nodes in the shortest walk\n",
    "    subgraph_shortest_walk = graph.subgraph(shortest_walk)\n",
    "\n",
    "    # Plot the shortest-ordered route using NetworkX and Matplotlib\n",
    "    pos = nx.spring_layout(subgraph_shortest_walk)\n",
    "    plt.figure(figsize=(8, 8))\n",
    "\n",
    "    nx.draw(subgraph_shortest_walk, pos, with_labels=False, node_size=10, alpha=0.1)\n",
    "\n",
    "    # Highlight nodes in the shortest walk\n",
    "    nx.draw_networkx_nodes(subgraph_shortest_walk, pos, label=True, node_color='red', node_size=50)\n",
    "\n",
    "    # Draw arrows between the nodes in the shortest walk and number them\n",
    "    for i in range(len(shortest_walk)-1):\n",
    "        plt.annotate(i+1, xy=pos[shortest_walk[i]], xytext=pos[shortest_walk[i+1]], \n",
    "                     arrowprops=dict(arrowstyle=\"->\", color='blue', alpha=0.5, shrinkA=5, shrinkB=5, patchA=None, patchB=None, connectionstyle=\"arc3,rad=0.1\"))\n",
    "\n",
    "        # Adding shortest path node IDs\n",
    "        plt.annotate(shortest_walk[i], xy=pos[shortest_walk[i]], xytext=pos[shortest_walk[i]], \n",
    "                     color='blue', alpha=0.5, size=5, weight='bold')\n",
    "\n",
    "    # Add the title to the plot\n",
    "    plt.title('Shortest-ordered route')\n",
    "\n",
    "    # Display the plot\n",
    "    plt.show()\n"
   ]
  },
  {
   "cell_type": "code",
   "execution_count": 311,
   "metadata": {},
   "outputs": [
    {
     "name": "stdout",
     "output_type": "stream",
     "text": [
      "+-------------------------------------------------+\n",
      "| Papers crossed along the shortest-ordered route |\n",
      "+----------------+--------------------------------+\n",
      "|     index      |            paper id            |\n",
      "+----------------+--------------------------------+\n",
      "|       1        |           2065847026           |\n",
      "|       2        |           173839695            |\n",
      "|       3        |           1973035492           |\n",
      "|       4        |           2034164144           |\n",
      "|       5        |           1976452423           |\n",
      "|       6        |           1973035492           |\n",
      "|       7        |           2111642879           |\n",
      "|       8        |           1973035492           |\n",
      "|       9        |           2114532620           |\n",
      "+----------------+--------------------------------+\n",
      "\n",
      "\n"
     ]
    },
    {
     "data": {
      "image/png": "[encoded data removed]",
      "text/plain": [
       "<Figure size 800x800 with 1 Axes>"
      ]
     },
     "metadata": {},
     "output_type": "display_data"
    }
   ],
   "source": [
    "# Example usage for the citation graph\n",
    "f3_visualize(collab_graph, ['173839695','2034164144','1976452423','2111642879'], '2065847026', '2114532620', 20)"
   ]
  },
  {
   "cell_type": "markdown",
   "metadata": {},
   "source": [
    "#### Visualization 4 - Visualize the disconnected graph\n"
   ]
  },
  {
   "cell_type": "code",
   "execution_count": 351,
   "metadata": {},
   "outputs": [],
   "source": [
    "def f4_visualize_orginal_graph(graph, authorA, authorB, N):\n",
    "    \"\"\"\n",
    "    Visualizes Functionality #4 by displaying the original collaboration graph\n",
    "    with highlighted nodes of two specified authors (authorA and authorB) and the\n",
    "    minimum cut that disconnects the graph into two subgraphs.\n",
    "\n",
    "    Parameters:\n",
    "    - graph: NetworkX graph\n",
    "        The collaboration graph on which Functionality #4 is to be visualized.\n",
    "    - authorA: int\n",
    "        The identifier of the first author.\n",
    "    - authorB: int\n",
    "        The identifier of the second author.\n",
    "    - N: int\n",
    "        The maximum number of edges to be considered for the minimum cut.\n",
    "\n",
    "    Returns:\n",
    "    None\n",
    "\n",
    "    Prints:\n",
    "    - The minimum number of edges required to disconnect the graph into two subgraphs.\n",
    "    - Visualization of the original graph with highlighted nodes of authorA and authorB.\n",
    "\n",
    "    Note:\n",
    "    - The function internally uses another function 'f4_MinCut' to find the minimum cut\n",
    "      and obtain two disconnected subgraphs.\n",
    "      \n",
    "    \"\"\"\n",
    "    # Find the minimum cut and disconnected subgraphs using the internal function f4_MinCut\n",
    "    num_disconnect_edges, Ga, Gb, cut_weight = f4_MinCut(graph, authorA, authorB, N)\n",
    "    print('The minimum number of edges required to disconnect the graph in two disconnected subgraphs:', num_disconnect_edges, '\\n')\n",
    "\n",
    "    # Create a subgraph containing nodes from both disconnected subgraphs\n",
    "    original_graph = graph.subgraph(Ga.union(Gb))\n",
    "\n",
    "    # Draw the original graph with highlighted nodes of authorA and authorB\n",
    "    pos = nx.spring_layout(original_graph)\n",
    "    plt.figure(figsize=(8, 8))\n",
    "\n",
    "    # Draw nodes of authorA in red\n",
    "    nx.draw_networkx_nodes(original_graph, pos, nodelist=Ga, node_color='red', node_size=50)\n",
    "\n",
    "    # Draw nodes of authorB in blue\n",
    "    nx.draw_networkx_nodes(original_graph, pos, nodelist=Gb, node_color='blue', node_size=50)\n",
    "\n",
    "    # Draw the remaining nodes\n",
    "    nx.draw_networkx_nodes(original_graph, pos, nodelist=set(original_graph.nodes) - Ga - Gb, node_size=10, alpha=0.1)\n",
    "\n",
    "    # Draw edges\n",
    "    nx.draw_networkx_edges(original_graph, pos, alpha=0.1)\n",
    "\n",
    "    # Highlight the minimum cut edges\n",
    "    cut_edges = [(u, v) for u, v in graph.edges if u in Ga and v in Gb]\n",
    "    nx.draw_networkx_edges(original_graph, pos, edgelist=cut_edges, edge_color='black', width=2)\n",
    "\n",
    "    # Add labels for authorA and authorB\n",
    "    nx.draw_networkx_labels(original_graph, pos, labels={authorA: authorA, authorB: authorB}, font_size=10, font_color='black')\n",
    "\n",
    "    # Add the title to the plot\n",
    "    plt.title('Original Graph with Minimum Cut')\n",
    "\n",
    "    # Display the plot\n",
    "    plt.show()\n"
   ]
  },
  {
   "cell_type": "code",
   "execution_count": 352,
   "metadata": {},
   "outputs": [
    {
     "name": "stdout",
     "output_type": "stream",
     "text": [
      "The minimum number of edges required to disconnect the graph in two disconnected subgraphs: 4 \n",
      "\n"
     ]
    },
    {
     "data": {
      "image/png": "[encoded data removed]",
      "text/plain": [
       "<Figure size 800x800 with 1 Axes>"
      ]
     },
     "metadata": {},
     "output_type": "display_data"
    }
   ],
   "source": [
    "# example usage for the collaboration graph\n",
    "authorA = '2034164144'\n",
    "authorB = '332422508'\n",
    "\n",
    "f4_visualize_orginal_graph(collab_graph, authorA, authorB, N = 10)"
   ]
  },
  {
   "cell_type": "code",
   "execution_count": 365,
   "metadata": {},
   "outputs": [],
   "source": [
    "def f4_visualize_disconnected_graph(graph, authorA, authorB, N):\n",
    "    \"\"\"\n",
    "    Visualizes Functionality #4 by displaying the graph after disconnecting the two subgraphs\n",
    "    formed by the minimum cut, with highlighted nodes of authorA and authorB.\n",
    "\n",
    "    Parameters:\n",
    "    - graph: NetworkX graph\n",
    "        The collaboration graph on which Functionality #4 is to be visualized.\n",
    "    - authorA: int\n",
    "        The identifier of the first author.\n",
    "    - authorB: int\n",
    "        The identifier of the second author.\n",
    "    - N: int\n",
    "        The maximum number of edges to be considered for the minimum cut.\n",
    "\n",
    "    Returns:\n",
    "    None\n",
    "\n",
    "    Prints:\n",
    "    - Visualization of the graph after disconnecting the two subgraphs formed by the minimum cut.\n",
    "      Nodes of authorA and authorB are highlighted.\n",
    "\n",
    "    Note:\n",
    "    - The function internally uses another function 'f4_MinCut' to find the minimum cut\n",
    "      and obtain two disconnected subgraphs.\n",
    "    \"\"\"\n",
    "    # Find the minimum cut and disconnected subgraphs using the internal function f4_MinCut\n",
    "    num_disconnect_edges, Ga, Gb, cut_weight = f4_MinCut(graph, authorA, authorB, N)\n",
    "    \n",
    "    # Create a subgraph containing nodes from both disconnected subgraphs\n",
    "    original_graph = graph.subgraph(Ga.union(Gb))\n",
    "\n",
    "    # Create a copy of the original graph\n",
    "    disconnected_graph = original_graph.copy()\n",
    "\n",
    "    # Disconnect the two subgraphs formed by the minimum cut\n",
    "    for u, v in disconnected_graph.edges():\n",
    "        if (u in Ga and v in Gb) or (u in Gb and v in Ga):\n",
    "            disconnected_graph.remove_edge(u, v)\n",
    "\n",
    "    # Draw the disconnected graph with highlighted nodes of authorA and authorB\n",
    "    pos = nx.spring_layout(disconnected_graph)\n",
    "    plt.figure(figsize=(8, 8))\n",
    "\n",
    "    # Draw nodes of authorA in red\n",
    "    nx.draw_networkx_nodes(disconnected_graph, pos, nodelist=[authorA], node_color='red', node_size=50)\n",
    "\n",
    "    # Draw nodes of authorB in blue\n",
    "    nx.draw_networkx_nodes(disconnected_graph, pos, nodelist=[authorB], node_color='blue', node_size=50)\n",
    "\n",
    "    # Draw the remaining nodes\n",
    "    nx.draw_networkx_nodes(disconnected_graph, pos, nodelist=set(disconnected_graph.nodes) - {authorA, authorB}, node_size=10, alpha=0.1)\n",
    "\n",
    "    # Draw edges\n",
    "    nx.draw_networkx_edges(disconnected_graph, pos, alpha=0.1)\n",
    "\n",
    "    # Add labels for authorA and authorB\n",
    "    nx.draw_networkx_labels(disconnected_graph, pos, labels={authorA: authorA, authorB: authorB}, font_size=10, font_color='black')\n",
    "\n",
    "    # Add the title to the plot\n",
    "    plt.title('Disconnected Graph after Minimum Cut')\n",
    "\n",
    "    # Display the plot\n",
    "    plt.show()\n"
   ]
  },
  {
   "cell_type": "code",
   "execution_count": 366,
   "metadata": {},
   "outputs": [
    {
     "data": {
      "image/png": "[encoded data removed]",
      "text/plain": [
       "<Figure size 800x800 with 1 Axes>"
      ]
     },
     "metadata": {},
     "output_type": "display_data"
    }
   ],
   "source": [
    "# example usage\n",
    "f4_visualize_disconnected_graph(collab_graph, authorA, authorB, N = 10)"
   ]
  },
  {
   "cell_type": "markdown",
   "metadata": {},
   "source": [
    "#### Visualization 5 - Visualize the communities\n"
   ]
  },
  {
   "cell_type": "code",
   "execution_count": 390,
   "metadata": {},
   "outputs": [],
   "source": [
    "def f5_visualize(graph, paper_1, paper_2, N):\n",
    "    \"\"\"\n",
    "    Visualizes Functionality #5 by displaying the graph after extracting communities and highlighting\n",
    "    the nodes of two specified papers (paper_1 and paper_2). Also, prints the communities and the number\n",
    "    of edges to cut to disconnect the graph into two subgraphs.\n",
    "\n",
    "    Parameters:\n",
    "    - graph: NetworkX graph\n",
    "        The collaboration graph on which Functionality #5 is to be visualized.\n",
    "    - paper_1: int\n",
    "        The identifier of the first paper.\n",
    "    - paper_2: int\n",
    "        The identifier of the second paper.\n",
    "    - N: int\n",
    "        The maximum number of edges to be considered for community extraction.\n",
    "\n",
    "    Returns:\n",
    "    None\n",
    "\n",
    "    Prints:\n",
    "    - The number of edges to cut to disconnect the graph into two subgraphs.\n",
    "    - Table displaying the communities and their papers.\n",
    "    - Visualization of the graph with highlighted nodes of paper_1 and paper_2.\n",
    "\n",
    "    Note:\n",
    "    - The function internally uses another function 'f_5_Community_Extraction' to find the communities\n",
    "      and obtain the subgraph with highlighted nodes.\n",
    "    \n",
    "    \"\"\"\n",
    "    # Extract communities and obtain relevant information using the internal function f_5_Community_Extraction\n",
    "    num_edges_to_cut, communities, same_community, subgraph_new = f_5_Community_Extraction(graph, paper_1, paper_2, N)\n",
    "\n",
    "    # Print the number of edges to cut\n",
    "    print('The number of edges to cut to disconnect the graph in two disconnected subgraphs:', num_edges_to_cut, '\\n')\n",
    "\n",
    "    # Create a PrettyTable for displaying communities and their papers\n",
    "    communities_table = PrettyTable()\n",
    "    communities_table.title = 'Communities'\n",
    "    communities_table.field_names = [\"Community\", \"Papers\"]\n",
    "\n",
    "    for i, community in enumerate(communities):\n",
    "        communities_table.add_row([i+1, community])\n",
    "\n",
    "    print(communities_table)\n",
    "    print('\\n')\n",
    "\n",
    "    # Draw the graph with highlighted nodes of paper_1 and paper_2\n",
    "    pos = nx.spring_layout(subgraph_new)\n",
    "    plt.figure(figsize=(8, 8))\n",
    "\n",
    "    # Draw nodes of paper_1 and paper_2 in red\n",
    "    nx.draw_networkx_nodes(subgraph_new, pos, nodelist=[paper_1, paper_2], node_color='red', node_size=50)\n",
    "\n",
    "    # Draw the remaining nodes\n",
    "    nx.draw_networkx_nodes(subgraph_new, pos, nodelist=set(subgraph_new.nodes) - {paper_1, paper_2}, node_size=10, alpha=0.1)\n",
    "\n",
    "    # Draw edges\n",
    "    nx.draw_networkx_edges(subgraph_new, pos, alpha=0.1)\n",
    "\n",
    "    # Add labels for paper_1 and paper_2\n",
    "    nx.draw_networkx_labels(subgraph_new, pos, labels={paper_1: paper_1, paper_2: paper_2}, font_size=10, font_color='black')\n",
    "\n",
    "    # Add the title to the plot\n",
    "    plt.title('Original Graph with Highlighted Papers')\n",
    "\n",
    "    # Display the plot\n",
    "    plt.show()\n"
   ]
  },
  {
   "cell_type": "code",
   "execution_count": 391,
   "metadata": {},
   "outputs": [
    {
     "name": "stdout",
     "output_type": "stream",
     "text": [
      "The number of edges to cut to disconnect the graph in two disconnected subgraphs: 1 \n",
      "\n",
      "+----------------------------------------------------------------------------------------------------------------------------------------------------------------------------------------------------+\n",
      "|                                                                                            Communities                                                                                             |\n",
      "+-----------+----------------------------------------------------------------------------------------------------------------------------------------------------------------------------------------+\n",
      "| Community |                                                                                         Papers                                                                                         |\n",
      "+-----------+----------------------------------------------------------------------------------------------------------------------------------------------------------------------------------------+\n",
      "|     1     |                                                   ['2120340025', '2159080219', '47957325', '2063727779', '2337098149', '1969965298']                                                   |\n",
      "|     2     | ['2151103935', '2076063813', '2163922914', '2592929672', '2072128103', '2150341604', '2119350939', '2106996050', '2097128017', '2042316011', '2165949425', '2147555557', '2115167851'] |\n",
      "+-----------+----------------------------------------------------------------------------------------------------------------------------------------------------------------------------------------+\n",
      "\n",
      "\n"
     ]
    },
    {
     "data": {
      "image/png": "[encoded data removed]",
      "text/plain": [
       "<Figure size 800x800 with 1 Axes>"
      ]
     },
     "metadata": {},
     "output_type": "display_data"
    }
   ],
   "source": [
    "#example usage for the citation graph\n",
    "paper_1 = '1969965298'\n",
    "paper_2 = '2592929672'\n",
    "f5_visualize(citation_graph, paper_1, paper_2, 100)"
   ]
  },
  {
   "cell_type": "code",
   "execution_count": 400,
   "metadata": {},
   "outputs": [],
   "source": [
    "def f5_visualize_communities(graph, paper_1, paper_2, N):\n",
    "    \"\"\"\n",
    "    Visualizes Functionality #5 by displaying the graph after extracting communities and\n",
    "    highlighting the nodes of the specified papers (paper_1 and paper_2) within their communities.\n",
    "    Also, adds a color legend for each community.\n",
    "\n",
    "    Parameters:\n",
    "    - graph: NetworkX graph\n",
    "        The collaboration graph on which Functionality #5 is to be visualized.\n",
    "    - paper_1: int\n",
    "        The identifier of the first paper.\n",
    "    - paper_2: int\n",
    "        The identifier of the second paper.\n",
    "    - N: int\n",
    "        The maximum number of edges to be considered for community extraction.\n",
    "\n",
    "    Returns:\n",
    "    None\n",
    "\n",
    "    Prints:\n",
    "    - Visualization of the graph with highlighted nodes of paper_1 and paper_2 within their communities.\n",
    "      Also, adds a color legend for each community.\n",
    "\n",
    "    Note:\n",
    "    - The function internally uses another function 'f_5_Community_Extraction' to find the communities\n",
    "      and obtain the subgraph with highlighted nodes.\n",
    "\n",
    "    \"\"\"\n",
    "    # Extract communities and obtain relevant information using the internal function f_5_Community_Extraction\n",
    "    num_edges_to_cut, communities, same_community, subgraph_new = f_5_Community_Extraction(graph, paper_1, paper_2, N)\n",
    "\n",
    "    # Draw the graph with highlighted nodes of paper_1 and paper_2 within their communities\n",
    "    pos = nx.spring_layout(subgraph_new)\n",
    "    plt.figure(figsize=(8, 8))\n",
    "\n",
    "    # Draw nodes of paper_1 and paper_2 in red\n",
    "    nx.draw_networkx_nodes(subgraph_new, pos, nodelist=[paper_1, paper_2], node_color='red', node_size=50)\n",
    "\n",
    "    # Draw the remaining nodes\n",
    "    nx.draw_networkx_nodes(subgraph_new, pos, nodelist=set(subgraph_new.nodes) - {paper_1, paper_2}, node_size=10, alpha=0.1)\n",
    "\n",
    "    # Draw edges\n",
    "    nx.draw_networkx_edges(subgraph_new, pos, alpha=0.1)\n",
    "\n",
    "    # Highlight communities in different colors\n",
    "    colors = ['red', 'blue', 'green', 'yellow', 'orange', 'purple', 'pink', 'brown', 'grey', 'black']\n",
    "    for i, community in enumerate(communities):\n",
    "        nx.draw_networkx_nodes(subgraph_new, pos, nodelist=community, node_color=colors[i], node_size=50)\n",
    "\n",
    "    # Add labels for paper_1 and paper_2\n",
    "    nx.draw_networkx_labels(subgraph_new, pos, labels={paper_1: paper_1, paper_2: paper_2}, font_size=10, font_color='black')\n",
    "\n",
    "    # Add the title to the plot\n",
    "    plt.title('Graph with Highlighted Papers within Communities')\n",
    "\n",
    "    # Add color legend for each community\n",
    "    plt.legend([f'Community {i+1}: {colors[i]}' for i in range(len(communities))])\n",
    "\n",
    "    # Display the plot\n",
    "    plt.show()\n"
   ]
  },
  {
   "cell_type": "code",
   "execution_count": 401,
   "metadata": {},
   "outputs": [
    {
     "data": {
      "image/png": "[encoded data removed]",
      "text/plain": [
       "<Figure size 800x800 with 1 Axes>"
      ]
     },
     "metadata": {},
     "output_type": "display_data"
    }
   ],
   "source": [
    "# example usage for the citation graph\n",
    "\n",
    "paper_1 = '1969965298'\n",
    "paper_2 = '2592929672'\n",
    "f5_visualize_communities(citation_graph, paper_1, paper_2, 100)"
   ]
  },
  {
   "cell_type": "code",
   "execution_count": 402,
   "metadata": {},
   "outputs": [],
   "source": [
    "def f5_visualize_disconnected_communities(graph, paper_1, paper_2, N):\n",
    "    \"\"\"\n",
    "    Visualizes Functionality #5 by displaying the graph after extracting communities and disconnecting\n",
    "    the two subgraphs formed by the minimum cut, with highlighted nodes of the specified papers (paper_1\n",
    "    and paper_2) within their communities. Also, adds a color legend for each community.\n",
    "\n",
    "    Parameters:\n",
    "    - graph: NetworkX graph\n",
    "        The collaboration graph on which Functionality #5 is to be visualized.\n",
    "    - paper_1: int\n",
    "        The identifier of the first paper.\n",
    "    - paper_2: int\n",
    "        The identifier of the second paper.\n",
    "    - N: int\n",
    "        The maximum number of edges to be considered for community extraction.\n",
    "\n",
    "    Returns:\n",
    "    None\n",
    "\n",
    "    Prints:\n",
    "    - Visualization of the graph after disconnecting the two subgraphs formed by the minimum cut.\n",
    "      Nodes of paper_1 and paper_2 are highlighted within their communities, and a color legend is added.\n",
    "\n",
    "    Note:\n",
    "    - The function internally uses another function 'f_5_Community_Extraction' to find the communities\n",
    "      and obtain the subgraph with highlighted nodes.\n",
    "    \"\"\"\n",
    "    # Extract communities and obtain relevant information using the internal function f_5_Community_Extraction\n",
    "    num_edges_to_cut, communities, same_community, subgraph_new = f_5_Community_Extraction(graph, paper_1, paper_2, N)\n",
    "\n",
    "    # Create a copy of the subgraph to disconnect the two subgraphs formed by the minimum cut\n",
    "    disconnected_graph = subgraph_new.copy()\n",
    "\n",
    "    # Disconnect the two subgraphs formed by the minimum cut\n",
    "    for u, v in disconnected_graph.edges():\n",
    "        if (u in communities[0] and v in communities[1]) or (u in communities[1] and v in communities[0]):\n",
    "            disconnected_graph.remove_edge(u, v)\n",
    "\n",
    "    # Draw the disconnected graph with highlighted nodes of paper_1 and paper_2 within their communities\n",
    "    pos = nx.spring_layout(disconnected_graph)\n",
    "    plt.figure(figsize=(8, 8))\n",
    "\n",
    "    # Draw nodes of paper_1 and paper_2 in red\n",
    "    nx.draw_networkx_nodes(disconnected_graph, pos, nodelist=[paper_1, paper_2], node_color='red', node_size=50)\n",
    "\n",
    "    # Draw the remaining nodes\n",
    "    nx.draw_networkx_nodes(disconnected_graph, pos, nodelist=set(disconnected_graph.nodes) - {paper_1, paper_2}, node_size=10, alpha=0.1)\n",
    "\n",
    "    # Draw edges\n",
    "    nx.draw_networkx_edges(disconnected_graph, pos, alpha=0.1)\n",
    "\n",
    "    # Highlight communities in different colors\n",
    "    colors = ['red', 'blue', 'green', 'yellow', 'orange', 'purple', 'pink', 'brown', 'grey', 'black']\n",
    "    for i, community in enumerate(communities):\n",
    "        nx.draw_networkx_nodes(disconnected_graph, pos, nodelist=community, node_color=colors[i], node_size=50)\n",
    "\n",
    "    # Add labels for paper_1 and paper_2\n",
    "    nx.draw_networkx_labels(disconnected_graph, pos, labels={paper_1: paper_1, paper_2: paper_2}, font_size=10, font_color='black')\n",
    "\n",
    "    # Add the title to the plot\n",
    "    plt.title('Disconnected Communities with Highlighted Papers')\n",
    "\n",
    "    # Add color legend for each community\n",
    "    plt.legend([f'Community {i+1}: {colors[i]}' for i in range(len(communities))])\n",
    "\n",
    "    # Display the plot\n",
    "    plt.show()\n"
   ]
  },
  {
   "cell_type": "code",
   "execution_count": 403,
   "metadata": {},
   "outputs": [
    {
     "data": {
      "image/png": "[encoded data removed]",
      "text/plain": [
       "<Figure size 800x800 with 1 Axes>"
      ]
     },
     "metadata": {},
     "output_type": "display_data"
    }
   ],
   "source": [
    "# example usage for the citation graph\n",
    "paper_1 = '1969965298'\n",
    "paper_2 = '2592929672'\n",
    "f5_visualize_disconnected_communities(citation_graph, paper_1, paper_2, 100)"
   ]
  },
  {
   "cell_type": "markdown",
   "metadata": {},
   "source": [
    "### Algorithmic Question"
   ]
  },
  {
   "cell_type": "markdown",
   "metadata": {},
   "source": [
    "#### Part A"
   ]
  },
  {
   "cell_type": "markdown",
   "metadata": {},
   "source": [
    "##### 1."
   ]
  },
  {
   "cell_type": "code",
   "execution_count": null,
   "metadata": {},
   "outputs": [],
   "source": [
    "def calculate_max_score(N, M, S, required_skills, athletes):\n",
    "\n",
    "    # create an empty dictionary\n",
    "    # the skills are going to be the keys of the dictionary and the values are going to be a list of tuples\n",
    "    # where each tuple represent an athlete and his score relative to the specific key (the skill)\n",
    "    \n",
    "    skills_athletes = {}         \n",
    "    for athlete in athletes:      \n",
    "        id = athlete[0]\n",
    "        for skill, score in athlete[1:]:\n",
    "            if skill not in skills_athletes:\n",
    "                skills_athletes[skill] = []\n",
    "            skills_athletes[skill].append((score, id))\n",
    "\n",
    "    # sort athletes for each skill based on their proficiency\n",
    "    \n",
    "    for skill in skills_athletes:   \n",
    "        skills_athletes[skill].sort(reverse=True)   \n",
    "\n",
    "    # selecting athletes for the team\n",
    "    \n",
    "    team = {}  # O(1)\n",
    "    for skill in required_skills:\n",
    "        # check if the skill in required skills is actually in our dictionary of skills\n",
    "        if skills_athletes[skill]: \n",
    "        # select the athlete with the highest score who hasn't been selected yet\n",
    "            for score, id in skills_athletes[skill]:\n",
    "                if id not in team:\n",
    "                    team[id] = score\n",
    "                    break\n",
    "\n",
    "    # calculating total score\n",
    "    total_score = sum(team.values())\n",
    "    return total_score\n",
    "\n",
    "N, M, S = 14, 10, 2\n",
    "required_skills = [\"SWM\", \"VOL\", \"ATH\", \"VOL\", \"VOL\", \"BSK\", \"HCK\", \"BSK\", \"SWM\", \"BSK\"]\n",
    "athletes = [\n",
    "    [1, (\"BSK\", 98), (\"HCK\", 12)],\n",
    "    [2, (\"ATH\", 14), (\"VOL\", 1)],\n",
    "    [3, (\"HCK\", 82), (\"ATH\", 30)],\n",
    "    [4, (\"HCK\", 9), (\"SWM\", 27)],\n",
    "    [5, (\"FTB\", 90), (\"HCK\", 50)],\n",
    "    [6, (\"ATH\", 52), (\"RGB\", 80)],\n",
    "    [7, (\"HCK\", 95), (\"SWM\", 11)],\n",
    "    [8, (\"TEN\", 85), (\"RGB\", 7)],\n",
    "    [9, (\"RGB\", 46), (\"SWM\", 30)],\n",
    "    [10, (\"SWM\", 16), (\"BSK\", 12)],\n",
    "    [11, (\"VOL\", 32), (\"HCK\", 40)],\n",
    "    [12, (\"SOC\", 41), (\"FTB\", 12)],\n",
    "    [13, (\"SWM\", 59), (\"TEN\", 82)],\n",
    "    [14, (\"SWM\", 34), (\"VOL\", 20)]\n",
    "]"
   ]
  },
  {
   "cell_type": "code",
   "execution_count": null,
   "metadata": {},
   "outputs": [
    {
     "data": {
      "text/plain": [
       "399"
      ]
     },
     "metadata": {},
     "output_type": "display_data"
    }
   ],
   "source": [
    "calculate_max_score(N, M, S, required_skills, athletes)"
   ]
  },
  {
   "cell_type": "markdown",
   "metadata": {},
   "source": [
    "A second implementation of the algorithm which could be more efficient. \n",
    "\n",
    "The main difference is that the first algorithm uses lists and sorts them while the second one uses heaps to retrieve the top element"
   ]
  },
  {
   "cell_type": "code",
   "execution_count": null,
   "metadata": {},
   "outputs": [],
   "source": [
    "from collections import defaultdict\n",
    "import heapq\n",
    "\n",
    "def calculate_max_score_heap_defaultdict(N, M, S, required_skills, athletes):\n",
    "    \n",
    "    skill_to_athletes = defaultdict(list)\n",
    "    for athlete in athletes:\n",
    "        id = athlete[0]\n",
    "        for skill, score in athlete[1:]:\n",
    "            heapq.heappush(skill_to_athletes[skill], (-score, id))\n",
    "\n",
    "    team = {}\n",
    "    for skill in required_skills:\n",
    "        while skill_to_athletes[skill]:\n",
    "            score, id = heapq.heappop(skill_to_athletes[skill])\n",
    "            if id not in team:\n",
    "                team[id] = -score\n",
    "                break\n",
    "\n",
    "    return sum(team.values())\n",
    "\n",
    "N, M, S = 14, 10, 2\n",
    "required_skills = [\"SWM\", \"VOL\", \"ATH\", \"VOL\", \"VOL\", \"BSK\", \"HCK\", \"BSK\", \"SWM\", \"BSK\"]\n",
    "athletes = [\n",
    "    [1, (\"BSK\", 98), (\"HCK\", 12)],\n",
    "    [2, (\"ATH\", 14), (\"VOL\", 1)],\n",
    "    [3, (\"HCK\", 82), (\"ATH\", 30)],\n",
    "    [4, (\"HCK\", 9), (\"SWM\", 27)],\n",
    "    [5, (\"FTB\", 90), (\"HCK\", 50)],\n",
    "    [6, (\"ATH\", 52), (\"RGB\", 80)],\n",
    "    [7, (\"HCK\", 95), (\"SWM\", 11)],\n",
    "    [8, (\"TEN\", 85), (\"RGB\", 7)],\n",
    "    [9, (\"RGB\", 46), (\"SWM\", 30)],\n",
    "    [10, (\"SWM\", 16), (\"BSK\", 12)],\n",
    "    [11, (\"VOL\", 32), (\"HCK\", 40)],\n",
    "    [12, (\"SOC\", 41), (\"FTB\", 12)],\n",
    "    [13, (\"SWM\", 59), (\"TEN\", 82)],\n",
    "    [14, (\"SWM\", 34), (\"VOL\", 20)]\n",
    "]"
   ]
  },
  {
   "cell_type": "code",
   "execution_count": null,
   "metadata": {},
   "outputs": [
    {
     "data": {
      "text/plain": [
       "399"
      ]
     },
     "metadata": {},
     "output_type": "display_data"
    }
   ],
   "source": [
    "calculate_max_score_heap_defaultdict(N, M, S, required_skills, athletes)"
   ]
  },
  {
   "cell_type": "markdown",
   "metadata": {},
   "source": [
    "##### 2. What is the time complexity (the Big O notation) of your solution? Please provide a detailed explanation of how you calculated the time complexity.\n",
    "\n",
    "The time complexity of the algorithm is O(K * A * log(A)) since it's the dominant term. \n",
    "The time complexity of creating and empty dictionary is O(1). The first for loop iterates over N athletes so the time complexity is O(N) and the nested for loop iterates S skills of athletes, so the time complexity of these for loops is going to be O(N * S). The check, creating a list and appending elements to a list all have comlexity O(1). \n",
    "The time complexity of the second for loop is O(K * A * log(A)), where K is the number of keys of the dictionary skills_athletes and A * log(A) is time complexity of the sort algorithm used in Python (A is the length of the list, which in our case may vary).\n",
    "Finally, the time complexity of the third algorithm is O(M * N), since the outer loop iterates over the required skills list (O(M)) and the inner one iterates over the list of tuples for each skill, so it depends on the length of the list, but in the worse case it's going to be N\n"
   ]
  },
  {
   "cell_type": "markdown",
   "metadata": {},
   "source": [
    "##### 3. Ask ChatGPT or any other LLM chatbot tool to check your code's time complexity (the Big O notation). Compare your answer to theirs. If the two differ, which one is right? (why?)"
   ]
  },
  {
   "cell_type": "markdown",
   "metadata": {},
   "source": [
    "The time complexity of the calculate_max_score function can be analyzed as follows: \n",
    "The first nested loop iterates over each athlete and their skills, with N representing the number of athletes and each athlete having up to M skills. This results in a time complexity of O(N * M) for this part, as it essentially processes each skill of each athlete. \n",
    "The second loop sorts the athletes for each skill. Assuming the worst case where each athlete has a unique skill, this sorting step would be O(N log N) for each skill, and since there are up to M skills, the complexity is O(M * N log N). However, in practice, the number of athletes per skill is likely less than N, possibly making this step less costly. \n",
    "The third loop iterates over the required skills (S in total) and selects an athlete for each skill. In the worst case, this could iterate over all athletes for each skill, leading to a complexity of O(S * N). Lastly, summing the team's values is O(N) in the worst case. Combining these, the dominant term is O(M * N log N) from the sorting step, followed by O(N * M) and O(S * N). The overall time complexity is O(M * N log N), assuming M, N, and S are of the same order of magnitude.\n",
    "\n",
    "Actually, the two analysis are similar. ChatGPT is not always giving the correct name to some variables but it's comprehensible. "
   ]
  },
  {
   "cell_type": "markdown",
   "metadata": {},
   "source": [
    "##### 4. If you algorithm has exponential time complexity, can you provide a polynomial-time version?"
   ]
  },
  {
   "cell_type": "markdown",
   "metadata": {},
   "source": [
    "Our algorithm is already in polynomial-time"
   ]
  },
  {
   "cell_type": "markdown",
   "metadata": {},
   "source": [
    "##### 5. If S=1, how does the time complexity of an optimal algorithm to solve this problem change?"
   ]
  },
  {
   "cell_type": "markdown",
   "metadata": {},
   "source": [
    "Considering our algorithm, the time complexity if S=1 wouldn't change since it only impacts the first loop, where we have a time complexity of O(N * S)"
   ]
  },
  {
   "cell_type": "markdown",
   "metadata": {},
   "source": [
    "#### Part B "
   ]
  },
  {
   "cell_type": "markdown",
   "metadata": {},
   "source": [
    "##### 1. Prove or disprove that the problem is NP-complete."
   ]
  },
  {
   "cell_type": "markdown",
   "metadata": {},
   "source": [
    "A problem P is considered NP-complete if:\n",
    "- P is in NP (we can verify in polynomial time whether the solution is correct or not)\n",
    "- P is NP-hard (any problem in NP can be reduced to P in polynomial time)\n",
    "\n",
    "Let's start by proofing that P is in NP:\n",
    "\n",
    "We need to verify:\n",
    "1. that all required skills in T are covered in the union of the skills of the athletes\n",
    "2. that the sum of the weights of the edges in Ec(V') is the one that minimizes the effort to work together.\n",
    "\n",
    "To verify the first condition, we need to check the set of skills of all the individuals belonging to V' with T. The time complexity for this verification can be represented as O(V' * S + T), where V' is the number of athletes in the subset and S is the number of skills per athlete, so we can say it is clearly polynomial.\n",
    "\n",
    "To verify the second condition, instead, there are several algorithms that compute the minimum spanning tree. One of these is the Kruskal's Algorithm, which has time complexity O(E * log E), so it has polynomial time.\n",
    "\n",
    "\n",
    "Now let's prove that the problem is NP-hard:\n",
    "\n",
    "To do so, we need to reduce a known NP-complete problem to our problem. Of the problems we saw in class, the most similar ones we thought could fit our problem were the Set Cover problem and the Traveling Salesman Problem. We decided to proceed with the Set Cover one.\n",
    "Sets in the Set Cover problem may correspond to an athlete in our problem. The elements that the set contains may correspond to the athlete's skills. The universe may correspond to the set T of required skills.\n",
    "For the reduction (converting the problem to our problem), we assume that all individuals can work together with the same effort, meaning we can set the edge weights in the graph to a constant value.\n",
    "The goal is now to find a subset V' that covers all skills in T (analogous to covering the universe with a subset of sets) and has the minimum total effort (which is trivially minimized when all weights are equal, and the graph is connected).\n",
    "\n",
    "Given this reduction, any solution to the Set Cover problem can be used to find a solution to our team formation problem by constructing the corresponding graph and selecting the subset V'. As we saw, the reduction can be done in polynomial time since it involves a simple one-to-one mapping of elements between the two problems.\n",
    "\n",
    "Since we can reduce the Set Cover problem to our problem in polynomial time, and since Set Cover is NP-complete, our problem is at least as hard as Set Cover. Therefore, our problem is NP-hard.\n",
    "\n",
    "We have now proved that the problem is both in NP and is NP-hard, so we can state that our problem P is NP-complete.\n",
    "\n"
   ]
  },
  {
   "cell_type": "markdown",
   "metadata": {},
   "source": [
    "##### 2. Write a heuristic in order to approximate the best solution for this problem."
   ]
  },
  {
   "cell_type": "markdown",
   "metadata": {},
   "source": [
    "We initialize an empty subset V' representing the team. We create a list that keeps track of the required skills that are not yet covered by V'. For each individual in V we calculate their contribution to the team, which in our case will be the skills they would add to the team's skill coverage (we will only consider useful the skills which are included in the set T) and the effort score with the existing team members to which they are connected to. We need to select the team members. To do so, we iterate over all athletes not yet in V', which at the beginning is empty so we'll have to iterate over all of the athletes. For each athlete, we calculate their contribution to the skill coverage and the incremental effort of adding them to the team. Of course, at the first iteration, whichever athlete (node) we pick will not increase the team's total effort since that depends on the way in which nodes are connected. So after the first iteration where we will pick the athlete that adds most new skills, we'll also look at the ones that results in the least increase in the team's total effort and add the selected individual to V', so here we'll have to sort individuals which are not yet in V' and pick the one with the best score (where score, as previously said, is calculated based on useful skills he's adding and effort he adds to the team). We can assume that every node is connected with all of the nodes, so this simplifies the process since we do not have to think at which nodes we need in order to have them all connected. For each iteration we then update the list of uncovered skills and compute the minimum spanning tree. The selection process is repeated until all required skills are covered. \n",
    "Finally, we have to return the final subset V' and the corresponding MST as the approximate best solution."
   ]
  },
  {
   "cell_type": "markdown",
   "metadata": {},
   "source": [
    "##### 3. What is the time complexity of your solution ?"
   ]
  },
  {
   "cell_type": "markdown",
   "metadata": {},
   "source": [
    "To compute the time complexity, we need to look at which actions are performed. We need to iterate over all nodes, so this will be a linear operation which will depend on the number N of athletes. Then we have to compute their score (compute new skills that athlete can contribute, so O(S)), sort them based on their score, which as we saw in part A takes time O(N * log N) and compute the MST which with Kruskal's algorithm is O(E * log E). So the final time complexity is O(N * S) + O(N * log N) + O(E * log E)"
   ]
  },
  {
   "cell_type": "markdown",
   "metadata": {},
   "source": []
  },
  {
   "cell_type": "markdown",
   "metadata": {},
   "source": [
    "### 4. Command Line Question (CLQ)"
   ]
  },
  {
   "cell_type": "markdown",
   "metadata": {},
   "source": [
    "#### 1. Is there any node that acts as an important \"connector\" between the different parts of the graph?\n"
   ]
  },
  {
   "cell_type": "markdown",
   "metadata": {},
   "source": [
    "To determine whether a node is a significant \"connector\" between different parts of the graph, here is a useful measure:\n",
    "\n",
    "- **Degree Centrality**: The degree centrality of a node is the ratio of its total degree to the total number of nodes in the graph.\n",
    "\n",
    "We subsequently present the nodes corresponding to the highest values of the measure:\n",
    "- Node: 47957325, with degree centrality: 0.01276064130402451"
   ]
  },
  {
   "cell_type": "markdown",
   "metadata": {},
   "source": [
    "#### 2. How does the degree of citation vary among the graph nodes?"
   ]
  },
  {
   "cell_type": "markdown",
   "metadata": {},
   "source": [
    "To describe the distribution of degrees in the citation graph, we need to consider three types of degrees:\n",
    "- **IN-degree**: The number of edges entering a node in a directed graph\n",
    "- **OUT-degree**:  The number of edges leaving a node in a directed graph\n",
    "- **TOTAL degree**: The sum of the *IN-degree* and *OUT-degree* \n",
    "\n",
    "In particular, we identify the top three nodes with the highest total degree values, along with their respective degree values:\n",
    "\n",
    "- Node with the **highest degree** value: ('47957325', 1287)\n",
    "- Node with the **second highest** degree value: ('2076063813', 564)\n",
    "- Node with the **third highest** degree value: ('2148043549', 489)"
   ]
  },
  {
   "cell_type": "markdown",
   "metadata": {},
   "source": [
    "After examining the total degrees of the nodes, we then focus primarily on the *IN* and *OUT* degrees. Here are the highest *IN* and *OUT* degree values:\n",
    "- Node with the **highest in-degree**: 2151103935, with an *in-degree* of 131 and an *out-degree* of 33\n",
    "- Node with the **highest out-degree**: 47957325, with an *in-degree* of 0 and an *out-degree* of 1287. It is also the highest total degree node and it seems to only have nodes going out from it"
   ]
  },
  {
   "cell_type": "markdown",
   "metadata": {},
   "source": [
    "Finally, in order to have a general view of the degrees of the nodes we calculated some degrees statistics according to the diffent types of degrees ( *TOTAL*, *IN*, *OUT*).\n",
    "In the results we can easily see that:\n",
    "- Regarding the **TOTAL-degree distribution**: the average degree of the nodes is approximately 3.7351 and, considering the median (which is less influenced by outliers than the mean) and the quartiles, most of the nodes have a degree that is lower than 2.\n",
    "- Regarding the **IN-degree distribution**: as before, most of the nodes have an *IN-degree* lower than 2.\n",
    "- Regarding the **OUT-degree distribution**: there are at least the 75% of the nodes that do not have edges leaving them. There is one strong outlier which is the one mentioned before with a *OUT-degree* of 1287"
   ]
  },
  {
   "cell_type": "markdown",
   "metadata": {},
   "source": [
    "#### 3. What is the average length of the shortest path among nodes?"
   ]
  },
  {
   "cell_type": "markdown",
   "metadata": {},
   "source": [
    "Initially, we identify all the isolated nodes within the graph and remove them, as they are not beneficial for answering the question and do not contribute to the overall structure of the graph. \n",
    "- Number of **isolated nodes** deleted: 324\n",
    "\n",
    "Lately, we also checked the total number of strongly connected components, as this will serve as a basis for calculating the average length.\n",
    "- Number of **strongly connected components**:  100007. Given that this number is very high, it indicates that our citation graph is highly disconnected."
   ]
  },
  {
   "cell_type": "markdown",
   "metadata": {},
   "source": [
    "Subsequently, we decided to quickly analyze the strongly connected components to get a general overview. It is possible to note that:\n",
    "\n",
    "- There are 56 nodes in the **largest** strongly connected component, with an average degree of 49.1964 and a maximum degree of 198.\n",
    "- There are 39 nodes in the **second largest** strongly connected component, with an average degree of 22.1282 and a maximum degree of 111.\n",
    "- There are 23 nodes in the **third largest** strongly connected component, with an average degree of 42.3043 and a maximum degree of 132.\n",
    "\n",
    "\n",
    "From these observations, we can conclude that our graph is well interconnected, with a medium proportion of nodes being part of strongly connected components. This suggests that part of the nodes in our graph tend to form tightly knit groups, where almost every pair of nodes is mutually reachable. "
   ]
  },
  {
   "cell_type": "markdown",
   "metadata": {},
   "source": [
    "Later, we define only the components made of more than one node so that components can have an actual path within them, making it meaningful to talk about the shortest path. As a result, we have identified 252 strongly connected components (**SCCs**) that contain more than one node and thus have paths within them. SCCs represent subsets of nodes in the graph where each node is reachable from every other node within the subset.\n",
    "\n",
    "Finally, we calculate the average length of the shortest path of the nodes in the different components:\n",
    "- **Average** shortest path length: 1.1580115477923858\n",
    "\n",
    "Additionally, we computed other statistics about the distribution of the shortest path length across these components:\n",
    "- **Minimum** shortest path length: 1.0\n",
    "- **Maximum** shortest path length: 4.33794466403162\n",
    "- **1st Quartile**: 1.0\n",
    "- **3rd Quartile**: 1.1666666666666667\n",
    "\n",
    "In conclusion, the analysis shows that while the graph has a large number of components, a fewer portion of these (252 out of approximately 100,000) contain more than one node. On average, it takes about 1.16 steps to travel from one node to another within these strongly connected components. The data also suggests a relatively uniform distribution of shortest path lengths, with both the first and third quartiles being close to 1.0. \n"
   ]
  },
  {
   "cell_type": "markdown",
   "metadata": {},
   "source": [
    "![Local Image](./clq.jpg)\n"
   ]
  }
 ],
 "metadata": {
  "kernelspec": {
   "display_name": "Python 3",
   "language": "python",
   "name": "python3"
  },
  "language_info": {
   "codemirror_mode": {
    "name": "ipython",
    "version": 3
   },
   "file_extension": ".py",
   "mimetype": "text/x-python",
   "name": "python",
   "nbconvert_exporter": "python",
   "pygments_lexer": "ipython3",
   "version": "3.11.7"
  }
 },
 "nbformat": 4,
 "nbformat_minor": 2
}
