{
 "cells": [
  {
   "cell_type": "markdown",
   "metadata": {},
   "source": [
    "## ADM Assignment 5 \n",
    "### Network Scholar: Graph-Based Analysis and Visualization of Academic Collaborations"
   ]
  },
  {
   "cell_type": "markdown",
   "metadata": {},
   "source": [
    "### Libraries \n"
   ]
  },
  {
   "cell_type": "code",
   "execution_count": 46,
   "metadata": {},
   "outputs": [],
   "source": [
    "import pandas as pd\n",
    "import numpy as np\n",
    "import ijson\n",
    "import os\n",
    "import time\n",
    "from decimal import Decimal\n",
    "import networkx as nx\n",
    "import ast"
   ]
  },
  {
   "cell_type": "markdown",
   "metadata": {},
   "source": [
    "### A script to convert the data from JSON to a PD dataframe \n",
    "##### Reference: https://www.kaggle.com/code/devintheai/citation-network-eda"
   ]
  },
  {
   "cell_type": "code",
   "execution_count": 2,
   "metadata": {},
   "outputs": [
    {
     "name": "stdout",
     "output_type": "stream",
     "text": [
      "0:0.0s 48000:1.59s 96000:3.16s 144000:4.94s 192000:6.62s 240000:8.39s 288000:10.78s 336000:13.7s 384000:15.86s 432000:18.47s 480000:21.17s 528000:23.53s 576000:26.22s 624000:28.45s 672000:30.86s 720000:33.44s 768000:35.95s 816000:38.34s 864000:40.73s 912000:42.86s 960000:45.27s 1008000:47.84s 1056000:50.72s 1104000:53.19s 1152000:56.3s 1200000:59.25s 1248000:61.72s 1296000:64.61s 1344000:67.36s 1392000:70.47s 1440000:73.03s 1488000:75.11s 1536000:77.73s 1584000:80.81s 1632000:82.73s 1680000:85.94s 1728000:87.69s 1776000:91.17s 1824000:93.8s 1872000:96.66s 1920000:99.33s 1968000:101.5s 2016000:104.59s 2064000:107.2s 2112000:110.06s 2160000:113.11s 2208000:116.03s 2256000:118.22s 2304000:121.39s 2352000:124.3s 2400000:127.22s 2448000:129.3s 2496000:132.09s 2544000:134.97s 2592000:137.61s 2640000:139.69s 2688000:143.25s 2736000:147.3s 2784000:151.0s 2832000:153.36s 2880000:156.73s 2928000:158.81s 2976000:162.34s 3024000:164.02s 3072000:167.31s 3120000:170.33s 3168000:171.61s 3216000:173.62s 3264000:175.28s 3312000:178.27s 3360000:179.89s 3408000:183.09s 3456000:184.66s 3504000:187.48s 3552000:189.3s 3600000:192.33s 3648000:194.27s 3696000:195.94s 3744000:199.27s 3792000:202.45s 3840000:204.17s 3888000:207.5s 3936000:209.31s 3984000:212.66s 4032000:214.39s 4080000:217.73s 4128000:219.3s 4176000:222.77s 4224000:224.09s 4272000:225.7s 4320000:229.2s 4368000:230.66s 4416000:233.8s 4464000:234.94s 4512000:235.95s 4560000:236.94s 4608000:239.97s 4656000:241.91s 4704000:245.55s 4752000:247.11s 4800000:248.75s 4848000:252.09s "
     ]
    }
   ],
   "source": [
    "papers = []\n",
    "\n",
    "start = time.process_time()\n",
    "\n",
    "with open('citation.json', \"rb\") as f:\n",
    "    for i, element in enumerate(ijson.items(f, \"item\")):\n",
    "        paper = {}\n",
    "        paper['id'] = element['id']\n",
    "        paper['title'] = element['title']\n",
    "\n",
    "        author = element.get('authors')\n",
    "        if author:\n",
    "            Author = element['authors']\n",
    "            author_name = []\n",
    "            author_id = []\n",
    "\n",
    "            for j in Author:\n",
    "                if 'name' in j and 'id' in j :\n",
    "                    author_name.append(str(j['name']))  \n",
    "                    author_id.append(str(j['id']))\n",
    "                else:\n",
    "                    author_name.append(str(np.nan))  \n",
    "                    author_id.append(str(np.nan))\n",
    "\n",
    "            paper['author_name'] = ';'.join(author_name)\n",
    "            paper['author_id'] = ';'.join(author_id)\n",
    "        \n",
    "        year = element.get('year')\n",
    "        if year:\n",
    "            paper['year']= year\n",
    "        else:\n",
    "            paper['year']= np.nan\n",
    "        \n",
    "        n_citation= element.get('n_citation')\n",
    "        if n_citation:\n",
    "             paper['n_citation']= element['n_citation']\n",
    "        else:\n",
    "            paper['n_citation']= 0\n",
    "        \n",
    "        doc_type= element.get('doc_type') \n",
    "        if doc_type:\n",
    "            paper['doc_type']= element['doc_type']\n",
    "        else:\n",
    "            paper['doc_type']= np.nan   \n",
    "\n",
    "        references= element.get('references')\n",
    "        if references:\n",
    "            paper['reference_count']= len(references)\n",
    "            paper['references'] = [int(r) for r in references]\n",
    "        else:\n",
    "            paper['reference_count']= np.nan \n",
    "            paper['references']= np.nan\n",
    "        \n",
    "        doi = element.get('doi')\n",
    "        if doi:\n",
    "            paper['doi']= f\"https://doi.org/{element['doi']}\"\n",
    "        else:\n",
    "            paper['doi']= np.nan               \n",
    "        \n",
    "        \n",
    "        papers.append(paper)\n",
    "        \n",
    "        if i%48000 ==0:\n",
    "            print(f\"{i}:{round((time.process_time() - start),2)}s \",end=\"\")\n"
   ]
  },
  {
   "cell_type": "markdown",
   "metadata": {},
   "source": [
    "### Data pre-processing"
   ]
  },
  {
   "cell_type": "code",
   "execution_count": 3,
   "metadata": {},
   "outputs": [
    {
     "data": {
      "text/html": [
       "<div>\n",
       "<style scoped>\n",
       "    .dataframe tbody tr th:only-of-type {\n",
       "        vertical-align: middle;\n",
       "    }\n",
       "\n",
       "    .dataframe tbody tr th {\n",
       "        vertical-align: top;\n",
       "    }\n",
       "\n",
       "    .dataframe thead th {\n",
       "        text-align: right;\n",
       "    }\n",
       "</style>\n",
       "<table border=\"1\" class=\"dataframe\">\n",
       "  <thead>\n",
       "    <tr style=\"text-align: right;\">\n",
       "      <th></th>\n",
       "      <th>id</th>\n",
       "      <th>title</th>\n",
       "      <th>author_name</th>\n",
       "      <th>author_id</th>\n",
       "      <th>year</th>\n",
       "      <th>n_citation</th>\n",
       "      <th>doc_type</th>\n",
       "      <th>reference_count</th>\n",
       "      <th>references</th>\n",
       "      <th>doi</th>\n",
       "    </tr>\n",
       "  </thead>\n",
       "  <tbody>\n",
       "    <tr>\n",
       "      <th>0</th>\n",
       "      <td>1091</td>\n",
       "      <td>Preliminary Design of a Network Protocol Learn...</td>\n",
       "      <td>Makoto Satoh;Ryo Muramatsu;Mizue Kayama;Kazuno...</td>\n",
       "      <td>2312688602;2482909946;2128134587;2101782692;21...</td>\n",
       "      <td>2013.0</td>\n",
       "      <td>1</td>\n",
       "      <td>Conference</td>\n",
       "      <td>2.0</td>\n",
       "      <td>[2005687710, 2018037215]</td>\n",
       "      <td>https://doi.org/10.1007/978-3-642-39476-8_19</td>\n",
       "    </tr>\n",
       "    <tr>\n",
       "      <th>1</th>\n",
       "      <td>1388</td>\n",
       "      <td>Further Results on Independence in Direct-Prod...</td>\n",
       "      <td>Pranava K. Jha</td>\n",
       "      <td>2718958994</td>\n",
       "      <td>2000.0</td>\n",
       "      <td>1</td>\n",
       "      <td>Journal</td>\n",
       "      <td>NaN</td>\n",
       "      <td>NaN</td>\n",
       "      <td>NaN</td>\n",
       "    </tr>\n",
       "    <tr>\n",
       "      <th>2</th>\n",
       "      <td>1674</td>\n",
       "      <td>A methodology for the physically accurate visu...</td>\n",
       "      <td>G. Beale;G. Earl</td>\n",
       "      <td>2103626414;2117665592</td>\n",
       "      <td>2011.0</td>\n",
       "      <td>1</td>\n",
       "      <td>Conference</td>\n",
       "      <td>15.0</td>\n",
       "      <td>[1535888970, 1992876689, 1993710814, 203565334...</td>\n",
       "      <td>https://doi.org/10.2312/VAST/VAST11/137-144</td>\n",
       "    </tr>\n",
       "    <tr>\n",
       "      <th>3</th>\n",
       "      <td>1688</td>\n",
       "      <td>Comparison of GARCH, Neural Network and Suppor...</td>\n",
       "      <td>Altaf Hossain;Faisal Zaman;M. Nasser;M. Mufakh...</td>\n",
       "      <td>2300589394;2308774408;2126056503;2425818370</td>\n",
       "      <td>2009.0</td>\n",
       "      <td>6</td>\n",
       "      <td>Conference</td>\n",
       "      <td>3.0</td>\n",
       "      <td>[1560724230, 1986968751, 2156909104]</td>\n",
       "      <td>https://doi.org/10.1007/978-3-642-11164-8_97</td>\n",
       "    </tr>\n",
       "    <tr>\n",
       "      <th>4</th>\n",
       "      <td>5411</td>\n",
       "      <td>COMPARING GNG3D AND QUADRIC ERROR METRICS METH...</td>\n",
       "      <td>Rafael Álvarez;Leandro Tortosa;José-Francisco ...</td>\n",
       "      <td>2125293936;2101693188;2159120860;2146570697</td>\n",
       "      <td>2009.0</td>\n",
       "      <td>0</td>\n",
       "      <td>Conference</td>\n",
       "      <td>NaN</td>\n",
       "      <td>NaN</td>\n",
       "      <td>NaN</td>\n",
       "    </tr>\n",
       "  </tbody>\n",
       "</table>\n",
       "</div>"
      ],
      "text/plain": [
       "     id                                              title  \\\n",
       "0  1091  Preliminary Design of a Network Protocol Learn...   \n",
       "1  1388  Further Results on Independence in Direct-Prod...   \n",
       "2  1674  A methodology for the physically accurate visu...   \n",
       "3  1688  Comparison of GARCH, Neural Network and Suppor...   \n",
       "4  5411  COMPARING GNG3D AND QUADRIC ERROR METRICS METH...   \n",
       "\n",
       "                                         author_name  \\\n",
       "0  Makoto Satoh;Ryo Muramatsu;Mizue Kayama;Kazuno...   \n",
       "1                                     Pranava K. Jha   \n",
       "2                                   G. Beale;G. Earl   \n",
       "3  Altaf Hossain;Faisal Zaman;M. Nasser;M. Mufakh...   \n",
       "4  Rafael Álvarez;Leandro Tortosa;José-Francisco ...   \n",
       "\n",
       "                                           author_id    year  n_citation  \\\n",
       "0  2312688602;2482909946;2128134587;2101782692;21...  2013.0           1   \n",
       "1                                         2718958994  2000.0           1   \n",
       "2                              2103626414;2117665592  2011.0           1   \n",
       "3        2300589394;2308774408;2126056503;2425818370  2009.0           6   \n",
       "4        2125293936;2101693188;2159120860;2146570697  2009.0           0   \n",
       "\n",
       "     doc_type  reference_count  \\\n",
       "0  Conference              2.0   \n",
       "1     Journal              NaN   \n",
       "2  Conference             15.0   \n",
       "3  Conference              3.0   \n",
       "4  Conference              NaN   \n",
       "\n",
       "                                          references  \\\n",
       "0                           [2005687710, 2018037215]   \n",
       "1                                                NaN   \n",
       "2  [1535888970, 1992876689, 1993710814, 203565334...   \n",
       "3               [1560724230, 1986968751, 2156909104]   \n",
       "4                                                NaN   \n",
       "\n",
       "                                            doi  \n",
       "0  https://doi.org/10.1007/978-3-642-39476-8_19  \n",
       "1                                           NaN  \n",
       "2   https://doi.org/10.2312/VAST/VAST11/137-144  \n",
       "3  https://doi.org/10.1007/978-3-642-11164-8_97  \n",
       "4                                           NaN  "
      ]
     },
     "execution_count": 3,
     "metadata": {},
     "output_type": "execute_result"
    }
   ],
   "source": [
    "df = pd.DataFrame(papers)\n",
    "df.head()"
   ]
  },
  {
   "cell_type": "code",
   "execution_count": 4,
   "metadata": {},
   "outputs": [
    {
     "name": "stdout",
     "output_type": "stream",
     "text": [
      "There are 4894081 papers in the dataset\n"
     ]
    }
   ],
   "source": [
    "print('There are', len(df),'papers in the dataset')"
   ]
  },
  {
   "cell_type": "markdown",
   "metadata": {},
   "source": [
    "#### Filtering the data to find the top 10000 papers"
   ]
  },
  {
   "cell_type": "code",
   "execution_count": 5,
   "metadata": {},
   "outputs": [
    {
     "data": {
      "text/html": [
       "<div>\n",
       "<style scoped>\n",
       "    .dataframe tbody tr th:only-of-type {\n",
       "        vertical-align: middle;\n",
       "    }\n",
       "\n",
       "    .dataframe tbody tr th {\n",
       "        vertical-align: top;\n",
       "    }\n",
       "\n",
       "    .dataframe thead th {\n",
       "        text-align: right;\n",
       "    }\n",
       "</style>\n",
       "<table border=\"1\" class=\"dataframe\">\n",
       "  <thead>\n",
       "    <tr style=\"text-align: right;\">\n",
       "      <th></th>\n",
       "      <th>id</th>\n",
       "      <th>title</th>\n",
       "      <th>author_name</th>\n",
       "      <th>author_id</th>\n",
       "      <th>year</th>\n",
       "      <th>n_citation</th>\n",
       "      <th>doc_type</th>\n",
       "      <th>reference_count</th>\n",
       "      <th>references</th>\n",
       "      <th>doi</th>\n",
       "    </tr>\n",
       "  </thead>\n",
       "  <tbody>\n",
       "    <tr>\n",
       "      <th>4696136</th>\n",
       "      <td>2041404167</td>\n",
       "      <td>The Mathematical Theory of Communication</td>\n",
       "      <td>C. E. Shannon</td>\n",
       "      <td>2247248564</td>\n",
       "      <td>1949.0</td>\n",
       "      <td>48327</td>\n",
       "      <td>Book</td>\n",
       "      <td>NaN</td>\n",
       "      <td>NaN</td>\n",
       "      <td>NaN</td>\n",
       "    </tr>\n",
       "    <tr>\n",
       "      <th>4630907</th>\n",
       "      <td>1639032689</td>\n",
       "      <td>Genetic algorithms in search, optimization, an...</td>\n",
       "      <td>David E. Goldberg</td>\n",
       "      <td>2102678951</td>\n",
       "      <td>1989.0</td>\n",
       "      <td>44175</td>\n",
       "      <td>Book</td>\n",
       "      <td>NaN</td>\n",
       "      <td>NaN</td>\n",
       "      <td>NaN</td>\n",
       "    </tr>\n",
       "    <tr>\n",
       "      <th>4092588</th>\n",
       "      <td>2912565176</td>\n",
       "      <td>Fuzzy sets</td>\n",
       "      <td>Lotfi A. Zadeh</td>\n",
       "      <td>2252586558</td>\n",
       "      <td>1996.0</td>\n",
       "      <td>42437</td>\n",
       "      <td>NaN</td>\n",
       "      <td>NaN</td>\n",
       "      <td>NaN</td>\n",
       "      <td>NaN</td>\n",
       "    </tr>\n",
       "    <tr>\n",
       "      <th>2937610</th>\n",
       "      <td>2151103935</td>\n",
       "      <td>Distinctive Image Features from Scale-Invarian...</td>\n",
       "      <td>David G. Lowe</td>\n",
       "      <td>2104328312</td>\n",
       "      <td>2004.0</td>\n",
       "      <td>35541</td>\n",
       "      <td>Journal</td>\n",
       "      <td>33.0</td>\n",
       "      <td>[19720318, 1541642243, 1560959218, 1676552347,...</td>\n",
       "      <td>https://doi.org/10.1023/B:VISI.0000029664.9961...</td>\n",
       "    </tr>\n",
       "    <tr>\n",
       "      <th>4088311</th>\n",
       "      <td>2911964244</td>\n",
       "      <td>Random Forests</td>\n",
       "      <td>Leo Breiman</td>\n",
       "      <td>2569376642</td>\n",
       "      <td>2001.0</td>\n",
       "      <td>34741</td>\n",
       "      <td>NaN</td>\n",
       "      <td>11.0</td>\n",
       "      <td>[1507255258, 1580948147, 1605688901, 197584664...</td>\n",
       "      <td>https://doi.org/10.1023/A:1010933404324</td>\n",
       "    </tr>\n",
       "  </tbody>\n",
       "</table>\n",
       "</div>"
      ],
      "text/plain": [
       "                 id                                              title  \\\n",
       "4696136  2041404167           The Mathematical Theory of Communication   \n",
       "4630907  1639032689  Genetic algorithms in search, optimization, an...   \n",
       "4092588  2912565176                                         Fuzzy sets   \n",
       "2937610  2151103935  Distinctive Image Features from Scale-Invarian...   \n",
       "4088311  2911964244                                     Random Forests   \n",
       "\n",
       "               author_name   author_id    year  n_citation doc_type  \\\n",
       "4696136      C. E. Shannon  2247248564  1949.0       48327     Book   \n",
       "4630907  David E. Goldberg  2102678951  1989.0       44175     Book   \n",
       "4092588     Lotfi A. Zadeh  2252586558  1996.0       42437      NaN   \n",
       "2937610      David G. Lowe  2104328312  2004.0       35541  Journal   \n",
       "4088311        Leo Breiman  2569376642  2001.0       34741      NaN   \n",
       "\n",
       "         reference_count                                         references  \\\n",
       "4696136              NaN                                                NaN   \n",
       "4630907              NaN                                                NaN   \n",
       "4092588              NaN                                                NaN   \n",
       "2937610             33.0  [19720318, 1541642243, 1560959218, 1676552347,...   \n",
       "4088311             11.0  [1507255258, 1580948147, 1605688901, 197584664...   \n",
       "\n",
       "                                                       doi  \n",
       "4696136                                                NaN  \n",
       "4630907                                                NaN  \n",
       "4092588                                                NaN  \n",
       "2937610  https://doi.org/10.1023/B:VISI.0000029664.9961...  \n",
       "4088311            https://doi.org/10.1023/A:1010933404324  "
      ]
     },
     "execution_count": 5,
     "metadata": {},
     "output_type": "execute_result"
    }
   ],
   "source": [
    "df = df.sort_values(by='n_citation', ascending=False)\n",
    "df = df.head(10000).copy()\n",
    "df.head()"
   ]
  },
  {
   "cell_type": "code",
   "execution_count": 6,
   "metadata": {},
   "outputs": [
    {
     "data": {
      "text/html": [
       "<div>\n",
       "<style scoped>\n",
       "    .dataframe tbody tr th:only-of-type {\n",
       "        vertical-align: middle;\n",
       "    }\n",
       "\n",
       "    .dataframe tbody tr th {\n",
       "        vertical-align: top;\n",
       "    }\n",
       "\n",
       "    .dataframe thead th {\n",
       "        text-align: right;\n",
       "    }\n",
       "</style>\n",
       "<table border=\"1\" class=\"dataframe\">\n",
       "  <thead>\n",
       "    <tr style=\"text-align: right;\">\n",
       "      <th></th>\n",
       "      <th>id</th>\n",
       "      <th>year</th>\n",
       "      <th>n_citation</th>\n",
       "      <th>reference_count</th>\n",
       "    </tr>\n",
       "  </thead>\n",
       "  <tbody>\n",
       "    <tr>\n",
       "      <th>count</th>\n",
       "      <td>1.000000e+04</td>\n",
       "      <td>10000.000000</td>\n",
       "      <td>10000.000000</td>\n",
       "      <td>8795.000000</td>\n",
       "    </tr>\n",
       "    <tr>\n",
       "      <th>mean</th>\n",
       "      <td>2.039274e+09</td>\n",
       "      <td>2000.128000</td>\n",
       "      <td>1451.995800</td>\n",
       "      <td>21.359068</td>\n",
       "    </tr>\n",
       "    <tr>\n",
       "      <th>std</th>\n",
       "      <td>3.103127e+08</td>\n",
       "      <td>10.066367</td>\n",
       "      <td>1954.416052</td>\n",
       "      <td>32.146003</td>\n",
       "    </tr>\n",
       "    <tr>\n",
       "      <th>min</th>\n",
       "      <td>8.528740e+05</td>\n",
       "      <td>1899.000000</td>\n",
       "      <td>596.000000</td>\n",
       "      <td>1.000000</td>\n",
       "    </tr>\n",
       "    <tr>\n",
       "      <th>25%</th>\n",
       "      <td>2.013153e+09</td>\n",
       "      <td>1996.000000</td>\n",
       "      <td>716.000000</td>\n",
       "      <td>7.000000</td>\n",
       "    </tr>\n",
       "    <tr>\n",
       "      <th>50%</th>\n",
       "      <td>2.106909e+09</td>\n",
       "      <td>2002.000000</td>\n",
       "      <td>924.000000</td>\n",
       "      <td>14.000000</td>\n",
       "    </tr>\n",
       "    <tr>\n",
       "      <th>75%</th>\n",
       "      <td>2.144150e+09</td>\n",
       "      <td>2007.000000</td>\n",
       "      <td>1421.000000</td>\n",
       "      <td>25.000000</td>\n",
       "    </tr>\n",
       "    <tr>\n",
       "      <th>max</th>\n",
       "      <td>3.003663e+09</td>\n",
       "      <td>2019.000000</td>\n",
       "      <td>48327.000000</td>\n",
       "      <td>1287.000000</td>\n",
       "    </tr>\n",
       "  </tbody>\n",
       "</table>\n",
       "</div>"
      ],
      "text/plain": [
       "                 id          year    n_citation  reference_count\n",
       "count  1.000000e+04  10000.000000  10000.000000      8795.000000\n",
       "mean   2.039274e+09   2000.128000   1451.995800        21.359068\n",
       "std    3.103127e+08     10.066367   1954.416052        32.146003\n",
       "min    8.528740e+05   1899.000000    596.000000         1.000000\n",
       "25%    2.013153e+09   1996.000000    716.000000         7.000000\n",
       "50%    2.106909e+09   2002.000000    924.000000        14.000000\n",
       "75%    2.144150e+09   2007.000000   1421.000000        25.000000\n",
       "max    3.003663e+09   2019.000000  48327.000000      1287.000000"
      ]
     },
     "execution_count": 6,
     "metadata": {},
     "output_type": "execute_result"
    }
   ],
   "source": [
    "df.describe()"
   ]
  },
  {
   "cell_type": "code",
   "execution_count": 7,
   "metadata": {},
   "outputs": [
    {
     "name": "stdout",
     "output_type": "stream",
     "text": [
      "<class 'pandas.core.frame.DataFrame'>\n",
      "Index: 10000 entries, 4696136 to 2109151\n",
      "Data columns (total 10 columns):\n",
      " #   Column           Non-Null Count  Dtype  \n",
      "---  ------           --------------  -----  \n",
      " 0   id               10000 non-null  int64  \n",
      " 1   title            10000 non-null  object \n",
      " 2   author_name      10000 non-null  object \n",
      " 3   author_id        10000 non-null  object \n",
      " 4   year             10000 non-null  float64\n",
      " 5   n_citation       10000 non-null  int64  \n",
      " 6   doc_type         9650 non-null   object \n",
      " 7   reference_count  8795 non-null   float64\n",
      " 8   references       8795 non-null   object \n",
      " 9   doi              8451 non-null   object \n",
      "dtypes: float64(2), int64(2), object(6)\n",
      "memory usage: 859.4+ KB\n"
     ]
    }
   ],
   "source": [
    "df.info()"
   ]
  },
  {
   "cell_type": "code",
   "execution_count": 8,
   "metadata": {},
   "outputs": [],
   "source": [
    "# Convert the semicolon-separated strings to lists of IDs\n",
    "#df['author_id'] = df['author_id'].str.split(';')\n",
    "\n",
    "# Convert the semicolon-separated strings to lists of names\n",
    "#df['author_name'] = df['author_name'].str.split(';')\n",
    "\n",
    "# convert the year, n_citation, and reference_count columns to int\n",
    "df['year'] = df['year'].astype('Int64')\n",
    "df['n_citation'] = df['n_citation'].astype('Int64')\n",
    "df['reference_count'] = df['reference_count'].astype('Int64')"
   ]
  },
  {
   "cell_type": "code",
   "execution_count": 9,
   "metadata": {},
   "outputs": [],
   "source": [
    "# saving the dataframe to a csv file\n",
    "df.to_csv('citation.csv', index=False)\n"
   ]
  },
  {
   "cell_type": "code",
   "execution_count": 20,
   "metadata": {},
   "outputs": [
    {
     "data": {
      "text/html": [
       "<div>\n",
       "<style scoped>\n",
       "    .dataframe tbody tr th:only-of-type {\n",
       "        vertical-align: middle;\n",
       "    }\n",
       "\n",
       "    .dataframe tbody tr th {\n",
       "        vertical-align: top;\n",
       "    }\n",
       "\n",
       "    .dataframe thead th {\n",
       "        text-align: right;\n",
       "    }\n",
       "</style>\n",
       "<table border=\"1\" class=\"dataframe\">\n",
       "  <thead>\n",
       "    <tr style=\"text-align: right;\">\n",
       "      <th></th>\n",
       "      <th>id</th>\n",
       "      <th>title</th>\n",
       "      <th>author_name</th>\n",
       "      <th>author_id</th>\n",
       "      <th>year</th>\n",
       "      <th>n_citation</th>\n",
       "      <th>doc_type</th>\n",
       "      <th>reference_count</th>\n",
       "      <th>references</th>\n",
       "      <th>doi</th>\n",
       "    </tr>\n",
       "  </thead>\n",
       "  <tbody>\n",
       "    <tr>\n",
       "      <th>0</th>\n",
       "      <td>2041404167</td>\n",
       "      <td>The Mathematical Theory of Communication</td>\n",
       "      <td>['C. E. Shannon']</td>\n",
       "      <td>['2247248564']</td>\n",
       "      <td>1949</td>\n",
       "      <td>48327</td>\n",
       "      <td>Book</td>\n",
       "      <td>NaN</td>\n",
       "      <td>NaN</td>\n",
       "      <td>NaN</td>\n",
       "    </tr>\n",
       "    <tr>\n",
       "      <th>1</th>\n",
       "      <td>1639032689</td>\n",
       "      <td>Genetic algorithms in search, optimization, an...</td>\n",
       "      <td>['David E. Goldberg']</td>\n",
       "      <td>['2102678951']</td>\n",
       "      <td>1989</td>\n",
       "      <td>44175</td>\n",
       "      <td>Book</td>\n",
       "      <td>NaN</td>\n",
       "      <td>NaN</td>\n",
       "      <td>NaN</td>\n",
       "    </tr>\n",
       "    <tr>\n",
       "      <th>2</th>\n",
       "      <td>2912565176</td>\n",
       "      <td>Fuzzy sets</td>\n",
       "      <td>['Lotfi A. Zadeh']</td>\n",
       "      <td>['2252586558']</td>\n",
       "      <td>1996</td>\n",
       "      <td>42437</td>\n",
       "      <td>NaN</td>\n",
       "      <td>NaN</td>\n",
       "      <td>NaN</td>\n",
       "      <td>NaN</td>\n",
       "    </tr>\n",
       "    <tr>\n",
       "      <th>3</th>\n",
       "      <td>2151103935</td>\n",
       "      <td>Distinctive Image Features from Scale-Invarian...</td>\n",
       "      <td>['David G. Lowe']</td>\n",
       "      <td>['2104328312']</td>\n",
       "      <td>2004</td>\n",
       "      <td>35541</td>\n",
       "      <td>Journal</td>\n",
       "      <td>33.0</td>\n",
       "      <td>[19720318, 1541642243, 1560959218, 1676552347,...</td>\n",
       "      <td>https://doi.org/10.1023/B:VISI.0000029664.9961...</td>\n",
       "    </tr>\n",
       "    <tr>\n",
       "      <th>4</th>\n",
       "      <td>2911964244</td>\n",
       "      <td>Random Forests</td>\n",
       "      <td>['Leo Breiman']</td>\n",
       "      <td>['2569376642']</td>\n",
       "      <td>2001</td>\n",
       "      <td>34741</td>\n",
       "      <td>NaN</td>\n",
       "      <td>11.0</td>\n",
       "      <td>[1507255258, 1580948147, 1605688901, 197584664...</td>\n",
       "      <td>https://doi.org/10.1023/A:1010933404324</td>\n",
       "    </tr>\n",
       "  </tbody>\n",
       "</table>\n",
       "</div>"
      ],
      "text/plain": [
       "           id                                              title  \\\n",
       "0  2041404167           The Mathematical Theory of Communication   \n",
       "1  1639032689  Genetic algorithms in search, optimization, an...   \n",
       "2  2912565176                                         Fuzzy sets   \n",
       "3  2151103935  Distinctive Image Features from Scale-Invarian...   \n",
       "4  2911964244                                     Random Forests   \n",
       "\n",
       "             author_name       author_id  year  n_citation doc_type  \\\n",
       "0      ['C. E. Shannon']  ['2247248564']  1949       48327     Book   \n",
       "1  ['David E. Goldberg']  ['2102678951']  1989       44175     Book   \n",
       "2     ['Lotfi A. Zadeh']  ['2252586558']  1996       42437      NaN   \n",
       "3      ['David G. Lowe']  ['2104328312']  2004       35541  Journal   \n",
       "4        ['Leo Breiman']  ['2569376642']  2001       34741      NaN   \n",
       "\n",
       "   reference_count                                         references  \\\n",
       "0              NaN                                                NaN   \n",
       "1              NaN                                                NaN   \n",
       "2              NaN                                                NaN   \n",
       "3             33.0  [19720318, 1541642243, 1560959218, 1676552347,...   \n",
       "4             11.0  [1507255258, 1580948147, 1605688901, 197584664...   \n",
       "\n",
       "                                                 doi  \n",
       "0                                                NaN  \n",
       "1                                                NaN  \n",
       "2                                                NaN  \n",
       "3  https://doi.org/10.1023/B:VISI.0000029664.9961...  \n",
       "4            https://doi.org/10.1023/A:1010933404324  "
      ]
     },
     "execution_count": 20,
     "metadata": {},
     "output_type": "execute_result"
    }
   ],
   "source": [
    "df = pd.read_csv('citation.csv')\n",
    "df.head()"
   ]
  },
  {
   "cell_type": "markdown",
   "metadata": {},
   "source": [
    "#### Citation Graph"
   ]
  },
  {
   "cell_type": "code",
   "execution_count": 27,
   "metadata": {},
   "outputs": [],
   "source": [
    "# create the citation graph\n",
    "citation_graph = nx.DiGraph()"
   ]
  },
  {
   "cell_type": "markdown",
   "metadata": {},
   "source": [
    "##### **Adding Nodes:** Each node in the graph will be identified by the paper ID and will have an attribute called title that has the paper's title "
   ]
  },
  {
   "cell_type": "code",
   "execution_count": 29,
   "metadata": {},
   "outputs": [],
   "source": [
    "# iterate through the dataframe rows\n",
    "for index, row in df.iterrows():\n",
    "    # getting the paper id and title\n",
    "    paper_id = row['id']\n",
    "    title = row['title']\n",
    "    # adding the node to the graph\n",
    "    citation_graph.add_node(paper_id, title=title)"
   ]
  },
  {
   "cell_type": "code",
   "execution_count": 30,
   "metadata": {},
   "outputs": [
    {
     "data": {
      "text/plain": [
       "10000"
      ]
     },
     "execution_count": 30,
     "metadata": {},
     "output_type": "execute_result"
    }
   ],
   "source": [
    "citation_graph.number_of_nodes()"
   ]
  },
  {
   "cell_type": "code",
   "execution_count": 34,
   "metadata": {},
   "outputs": [
    {
     "name": "stdout",
     "output_type": "stream",
     "text": [
      "Node 2041404167: {'title': 'The Mathematical Theory of Communication'}\n",
      "Node 1639032689: {'title': 'Genetic algorithms in search, optimization, and machine learning'}\n",
      "Node 2912565176: {'title': 'Fuzzy sets'}\n",
      "Node 2151103935: {'title': 'Distinctive Image Features from Scale-Invariant Keypoints'}\n",
      "Node 2911964244: {'title': 'Random Forests'}\n",
      "Node 1973948212: {'title': 'Applied Logistic Regression'}\n",
      "Node 2153635508: {'title': 'LIBSVM: A library for support vector machines'}\n",
      "Node 2156909104: {'title': 'The Nature of Statistical Learning Theory'}\n",
      "Node 1791587663: {'title': 'Perceived usefulness, perceived ease of use, and user acceptance of information technology'}\n",
      "Node 2119821739: {'title': 'Support-Vector Networks'}\n",
      "Node 1995875735: {'title': 'A mathematical theory of communication'}\n"
     ]
    }
   ],
   "source": [
    "# first 10 nodes data in the citation graph\n",
    "c = 0\n",
    "for node, data in citation_graph.nodes(data=True):\n",
    "    c += 1\n",
    "    print(f\"Node {node}: {data}\")\n",
    "    if c > 10:\n",
    "        break"
   ]
  },
  {
   "cell_type": "markdown",
   "metadata": {},
   "source": [
    "##### **Adding the Edges:** If paper A has cited paper B, an edge from node A to B is added."
   ]
  },
  {
   "cell_type": "code",
   "execution_count": 36,
   "metadata": {},
   "outputs": [],
   "source": [
    "# Iterate through the DataFrame rows\n",
    "for index, row in df.iterrows():\n",
    "    # Getting the paper id and references\n",
    "    paper_id = row['id']\n",
    "    references = row['references']\n",
    "\n",
    "    # Check if references is not null and is a list\n",
    "    if references and isinstance(references, list):\n",
    "        for reference in references:\n",
    "            citation_graph.add_edge(paper_id, reference)\n",
    "    # references is not null but not a list (single value)\n",
    "    elif references:  \n",
    "        citation_graph.add_edge(paper_id, references)\n"
   ]
  },
  {
   "cell_type": "markdown",
   "metadata": {},
   "source": [
    "##### Checking the correctness of the edges"
   ]
  },
  {
   "cell_type": "code",
   "execution_count": 50,
   "metadata": {},
   "outputs": [
    {
     "name": "stdout",
     "output_type": "stream",
     "text": [
      "Outgoing edges of node 2911964244: [(2911964244, '[1507255258, 1580948147, 1605688901, 1975846642, 2077200366, 2099968818, 2112076978, 2113242816, 2120240539, 2152761983, 2912934387]')]\n",
      "Incoming edges of node 2911964244: []\n",
      "References of node 2911964244: [1507255258, 1580948147, 1605688901, 1975846642, 2077200366, 2099968818, 2112076978, 2113242816, 2120240539, 2152761983, 2912934387]\n"
     ]
    }
   ],
   "source": [
    "# Node of interest\n",
    "node_to_check = 2911964244\n",
    "\n",
    "# Get the outgoing edges of the node\n",
    "outgoing_edges = citation_graph.out_edges(node_to_check)\n",
    "\n",
    "# Get the incoming edges of the node\n",
    "incoming_edges = citation_graph.in_edges(node_to_check)\n",
    "\n",
    "# Print the results\n",
    "print(f\"Outgoing edges of node {node_to_check}: {list(outgoing_edges)}\")\n",
    "print(f\"Incoming edges of node {node_to_check}: {list(incoming_edges)}\")\n",
    "\n",
    "# references of the paper\n",
    "references_list = df[df['id'] == node_to_check]['references'].values[0]\n",
    "print(f\"References of node {node_to_check}: {references_list}\")\n",
    "\n"
   ]
  },
  {
   "cell_type": "markdown",
   "metadata": {},
   "source": [
    "The **references_list** and the **ougoing_edges** match which ensures the correctness of the graph."
   ]
  },
  {
   "cell_type": "code",
   "execution_count": null,
   "metadata": {},
   "outputs": [],
   "source": []
  }
 ],
 "metadata": {
  "kernelspec": {
   "display_name": "Python 3",
   "language": "python",
   "name": "python3"
  },
  "language_info": {
   "codemirror_mode": {
    "name": "ipython",
    "version": 3
   },
   "file_extension": ".py",
   "mimetype": "text/x-python",
   "name": "python",
   "nbconvert_exporter": "python",
   "pygments_lexer": "ipython3",
   "version": "3.11.7"
  }
 },
 "nbformat": 4,
 "nbformat_minor": 2
}
